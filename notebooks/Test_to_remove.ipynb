{
 "cells": [
  {
   "cell_type": "code",
   "execution_count": 1,
   "id": "623de514-123c-4698-af76-a0ac01c79a61",
   "metadata": {},
   "outputs": [],
   "source": [
    "from primitives.primitives import *\n",
    "from primitives.tv_model import *\n",
    "from primitives.spinful import *\n",
    "\n",
    "from cirq import Circuit, LineQid, measure, sample, Simulator"
   ]
  },
  {
   "cell_type": "code",
   "execution_count": 2,
   "id": "e50f04ed-c6d6-4733-82d5-d4a544b036d3",
   "metadata": {},
   "outputs": [],
   "source": [
    "G = TensorProduct(\n",
    "    sy_gamma_5,  # r+x\n",
    "    sy_gamma_5,  # r+x+y\n",
    "    sy_gamma_5*sy_gamma_1,  # r'\n",
    "    sy_gamma_1,  # r'+x\n",
    "    sy_gamma_2,  # r'+x+y\n",
    "    sy_gamma_5*sy_gamma_2  # r'+y\n",
    ")\n",
    "\n",
    "np_G = np.array(G, dtype=complex)"
   ]
  },
  {
   "cell_type": "code",
   "execution_count": 4,
   "id": "a3a4eeb9-dae3-4da8-838f-2e6269d4f324",
   "metadata": {},
   "outputs": [],
   "source": [
    "vals, vecs = np.linalg.eig(np_G)"
   ]
  },
  {
   "cell_type": "code",
   "execution_count": 5,
   "id": "2fa894c7-ecc1-44ae-bc97-1da5e31b93c8",
   "metadata": {},
   "outputs": [
    {
     "data": {
      "text/plain": [
       "array([-1.+0.j,  1.+0.j])"
      ]
     },
     "execution_count": 5,
     "metadata": {},
     "output_type": "execute_result"
    }
   ],
   "source": [
    "np.unique(vals)"
   ]
  },
  {
   "cell_type": "code",
   "execution_count": null,
   "id": "156d2ef2-235c-4eb5-9a08-822f4310f79c",
   "metadata": {},
   "outputs": [],
   "source": [
    "P_p = (G + identity) / 2"
   ]
  }
 ],
 "metadata": {
  "kernelspec": {
   "display_name": "qudit",
   "language": "python",
   "name": "qudit"
  },
  "language_info": {
   "codemirror_mode": {
    "name": "ipython",
    "version": 3
   },
   "file_extension": ".py",
   "mimetype": "text/x-python",
   "name": "python",
   "nbconvert_exporter": "python",
   "pygments_lexer": "ipython3",
   "version": "3.12.6"
  }
 },
 "nbformat": 4,
 "nbformat_minor": 5
}
