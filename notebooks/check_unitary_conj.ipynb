{
 "cells": [
  {
   "cell_type": "code",
   "execution_count": 1,
   "id": "89ad17b4-1763-434c-b5b7-f2d451cd80ab",
   "metadata": {},
   "outputs": [],
   "source": [
    "%load_ext autoreload\n",
    "%autoreload 2\n",
    "\n",
    "from primitives.primitives import *\n",
    "import matplotlib.pyplot as plt\n",
    "from numpy.linalg import eig\n",
    "import qutip as qt"
   ]
  },
  {
   "cell_type": "code",
   "execution_count": 2,
   "id": "d63a6bbb-91b2-4714-b8fb-c648dc544057",
   "metadata": {},
   "outputs": [],
   "source": [
    "def commute(a, b):\n",
    "    a = np.array(a, dtype=np.complex128)\n",
    "    b = np.array(b, dtype=np.complex128)\n",
    "\n",
    "    c = a@b\n",
    "    d = b@a\n",
    "    if np.allclose(c-d, np.zeros(c.shape)):\n",
    "        print(\"Commute\")\n",
    "    elif np.allclose(c+d, np.zeros(c.shape)):\n",
    "        print(\"Anti-commute\")\n",
    "    else:\n",
    "        print(\"Null\")\n",
    "        \n",
    "def is_unitary(m):\n",
    "    return np.allclose(np.eye(m.shape[0]), m.dot(m.conj().T))"
   ]
  },
  {
   "cell_type": "code",
   "execution_count": 4,
   "id": "68d61447-05b5-47f0-9842-21c86aa2f329",
   "metadata": {},
   "outputs": [
    {
     "name": "stdout",
     "output_type": "stream",
     "text": [
      "Anti-commute\n"
     ]
    }
   ],
   "source": [
    "a = TensorProduct(sy_gamma_5*sy_gamma_2, sy_gamma_5)\n",
    "b = TensorProduct(sy_gamma_5*sy_gamma_1, sy_gamma_1)\n",
    "\n",
    "a = sy_gamma_1*sy_gamma_2\n",
    "b = sy_gamma_2\n",
    "\n",
    "commute(a,b)"
   ]
  },
  {
   "cell_type": "code",
   "execution_count": 5,
   "id": "16e8bcf7-009a-4da2-805d-2c7425d6baa1",
   "metadata": {},
   "outputs": [],
   "source": [
    "from scipy.linalg import eig\n",
    "def find_unitary_transform(A, B):\n",
    "    \"\"\"\n",
    "    Find the unitary matrix U such that U A U^dagger = B.\n",
    "\n",
    "    Parameters:\n",
    "    A (ndarray): Input matrix A.\n",
    "    B (ndarray): Input matrix B.\n",
    "\n",
    "    Returns:\n",
    "    U (ndarray or None): Unitary matrix U if it exists, otherwise None.\n",
    "    \"\"\"\n",
    "    A = np.array(A, complex)\n",
    "    B = np.array(B, complex)\n",
    "    \n",
    "    # Get the eigenvalues and eigenvectors of A\n",
    "    eigvals_A, eigvecs_A = eig(A)\n",
    "    eigvals_B, eigvecs_B = eig(B)\n",
    "    \n",
    "    # Sort the eigenvalues and corresponding eigenvectors for comparison\n",
    "    idx_A = np.argsort(eigvals_A)\n",
    "    idx_B = np.argsort(eigvals_B)\n",
    "    \n",
    "    eigvals_A_sorted = eigvals_A[idx_A]\n",
    "    eigvals_B_sorted = eigvals_B[idx_B]\n",
    "    \n",
    "    eigvecs_A_sorted = eigvecs_A[:, idx_A]\n",
    "    eigvecs_B_sorted = eigvecs_B[:, idx_B]\n",
    "\n",
    "    # Check if the sorted eigenvalues match\n",
    "    if not np.allclose(eigvals_A_sorted, eigvals_B_sorted):\n",
    "        print(\"not all eigenvalues match\")\n",
    "        print(eigvals_A_sorted)\n",
    "        print(eigvals_B_sorted)\n",
    "        return None\n",
    "\n",
    "    eigvecs_A_sorted = np.linalg.qr(eigvecs_A_sorted)[0]\n",
    "    eigvecs_B_sorted = np.linalg.qr(eigvecs_B_sorted)[0]\n",
    "\n",
    "    # Construct the unitary matrix U\n",
    "    U = eigvecs_B_sorted @ eigvecs_A_sorted.conj().T\n",
    "    \n",
    "    # Check if U is unitary\n",
    "    if np.allclose(U @ U.conj().T, np.eye(U.shape[0])):\n",
    "        return U\n",
    "    else:\n",
    "        print(\"not unitary\")\n",
    "        return U"
   ]
  },
  {
   "cell_type": "code",
   "execution_count": null,
   "id": "9b1afae8-020b-4ed4-9429-ccb214fd82e7",
   "metadata": {},
   "outputs": [],
   "source": [
    "def to_latex(mat):\n",
    "    text = r\"\\begin{pmatrix}\"\n",
    "    text += \"\\n\"\n",
    "    for row in mat:\n",
    "        for idx, el in enumerate(row):\n",
    "            if np.imag(el) != 0.0:\n",
    "                raise Exception\n",
    "            el = np.real(el)\n",
    "            if el%1 == 0:\n",
    "                text += str(int(el))\n",
    "            elif np.abs(el) == 0.7071068:\n",
    "                if el < 0:\n",
    "                    text += \"-\"\n",
    "                text += r\"\\sqrt{0.5}\"\n",
    "            else:\n",
    "                text += str(el)\n",
    "            \n",
    "            if idx + 1 < len(row):\n",
    "                text += \" & \"\n",
    "        text += r\"\\\\\"\n",
    "        text += \"\\n\"\n",
    "        \n",
    "\n",
    "    text += r\"\\end{pmatrix}\"\n",
    "    return text"
   ]
  },
  {
   "cell_type": "markdown",
   "id": "0ee8a416-f1c0-4715-9b0a-4b6f4f60c26e",
   "metadata": {},
   "source": [
    "### Spinless Unitary"
   ]
  },
  {
   "cell_type": "code",
   "execution_count": 63,
   "id": "41f2c67f-14da-4c97-a32a-81044156224b",
   "metadata": {},
   "outputs": [
    {
     "data": {
      "text/plain": [
       "True"
      ]
     },
     "execution_count": 63,
     "metadata": {},
     "output_type": "execute_result"
    }
   ],
   "source": [
    "# horizontal\n",
    "\n",
    "a = 1j * TensorProduct(sy_gamma_1, sy_gamma_2) * ( TensorProduct(sy_gamma_5, sy_id) - TensorProduct(sy_id, sy_gamma_5))\n",
    "b = TensorProduct(sy_gamma_5, sy_id) + TensorProduct(sy_id, sy_gamma_5)\n",
    "\n",
    "U = find_unitary_transform(a, b)\n",
    "\n",
    "np.allclose(U @ U.conj().T, np.eye(U.shape[0]), rtol=1e-10)"
   ]
  },
  {
   "cell_type": "code",
   "execution_count": 75,
   "id": "60c7f47a-a4de-4659-973b-e26015705af4",
   "metadata": {},
   "outputs": [
    {
     "data": {
      "text/plain": [
       "True"
      ]
     },
     "execution_count": 75,
     "metadata": {},
     "output_type": "execute_result"
    }
   ],
   "source": [
    "na = np.array(a, dtype=np.complex128)\n",
    "nprod = np.array(U.conj().T @ b @ U, dtype=np.complex128)\n",
    "\n",
    "np.allclose(na, nprod, rtol=1e-6)"
   ]
  },
  {
   "cell_type": "code",
   "execution_count": 9,
   "id": "2561e622-5bd7-4514-8703-58987e2a7362",
   "metadata": {},
   "outputs": [
    {
     "name": "stdout",
     "output_type": "stream",
     "text": [
      "\\begin{pmatrix}\n",
      "0 & 0 & -\\sqrt{0.5} & 0 & 0 & 0 & 0 & 0 & -\\sqrt{0.5} & 0 & 0 & 0 & 0 & 0 & 0 & 0\\\\\n",
      "-1 & 0 & 0 & 0 & 0 & 0 & 0 & 0 & 0 & 0 & 0 & 0 & 0 & 0 & 0 & 0\\\\\n",
      "0 & 0 & 0 & 1 & 0 & 0 & 0 & 0 & 0 & 0 & 0 & 0 & 0 & 0 & 0 & 0\\\\\n",
      "0 & -\\sqrt{0.5} & 0 & 0 & 0 & 0 & 0 & 0 & 0 & 0 & 0 & \\sqrt{0.5} & 0 & 0 & 0 & 0\\\\\n",
      "0 & 0 & 0 & 0 & 0 & -1 & 0 & 0 & 0 & 0 & 0 & 0 & 0 & 0 & 0 & 0\\\\\n",
      "0 & 0 & -\\sqrt{0.5} & 0 & 0 & 0 & 0 & 0 & \\sqrt{0.5} & 0 & 0 & 0 & 0 & 0 & 0 & 0\\\\\n",
      "0 & \\sqrt{0.5} & 0 & 0 & 0 & 0 & 0 & 0 & 0 & 0 & 0 & \\sqrt{0.5} & 0 & 0 & 0 & 0\\\\\n",
      "0 & 0 & 0 & 0 & 0 & 0 & 1 & 0 & 0 & 0 & 0 & 0 & 0 & 0 & 0 & 0\\\\\n",
      "0 & 0 & 0 & 0 & 0 & 0 & 0 & 0 & 0 & -1 & 0 & 0 & 0 & 0 & 0 & 0\\\\\n",
      "0 & 0 & 0 & 0 & \\sqrt{0.5} & 0 & 0 & 0 & 0 & 0 & 0 & 0 & 0 & 0 & -\\sqrt{0.5} & 0\\\\\n",
      "0 & 0 & 0 & 0 & 0 & 0 & 0 & \\sqrt{0.5} & 0 & 0 & 0 & 0 & 0 & \\sqrt{0.5} & 0 & 0\\\\\n",
      "0 & 0 & 0 & 0 & 0 & 0 & 0 & 0 & 0 & 0 & 1 & 0 & 0 & 0 & 0 & 0\\\\\n",
      "0 & 0 & 0 & 0 & \\sqrt{0.5} & 0 & 0 & 0 & 0 & 0 & 0 & 0 & 0 & 0 & \\sqrt{0.5} & 0\\\\\n",
      "0 & 0 & 0 & 0 & 0 & 0 & 0 & 0 & 0 & 0 & 0 & 0 & 1 & 0 & 0 & 0\\\\\n",
      "0 & 0 & 0 & 0 & 0 & 0 & 0 & 0 & 0 & 0 & 0 & 0 & 0 & 0 & 0 & 1\\\\\n",
      "0 & 0 & 0 & 0 & 0 & 0 & 0 & \\sqrt{0.5} & 0 & 0 & 0 & 0 & 0 & -\\sqrt{0.5} & 0 & 0\\\\\n",
      "\\end{pmatrix}\n"
     ]
    }
   ],
   "source": [
    "new_U = np.round(U, 7)\n",
    "print(to_latex(new_U))"
   ]
  },
  {
   "cell_type": "code",
   "execution_count": 89,
   "id": "4a1bbeac-59e5-465b-8cbd-4a582bf2e4a1",
   "metadata": {},
   "outputs": [
    {
     "data": {
      "text/plain": [
       "True"
      ]
     },
     "execution_count": 89,
     "metadata": {},
     "output_type": "execute_result"
    }
   ],
   "source": [
    "# vertical\n",
    "\n",
    "a = 1j * TensorProduct(sy_gamma_3, sy_gamma_4) * ( TensorProduct(sy_gamma_5, sy_id) - TensorProduct(sy_id, sy_gamma_5))\n",
    "b = TensorProduct(sy_gamma_5, sy_id) + TensorProduct(sy_id, sy_gamma_5)\n",
    "\n",
    "U = find_unitary_transform(a, b)\n",
    "\n",
    "np.allclose(U @ U.conj().T, np.eye(U.shape[0]), rtol=1e-10)"
   ]
  },
  {
   "cell_type": "code",
   "execution_count": 90,
   "id": "0f7604b9-20b3-4d0c-8a74-cfd66986e2d9",
   "metadata": {},
   "outputs": [
    {
     "data": {
      "text/plain": [
       "True"
      ]
     },
     "execution_count": 90,
     "metadata": {},
     "output_type": "execute_result"
    }
   ],
   "source": [
    "na = np.array(a, dtype=np.complex128)\n",
    "nprod = np.array(U.conj().T @ b @ U, dtype=np.complex128)\n",
    "\n",
    "np.allclose(na, nprod, rtol=1e-6)"
   ]
  },
  {
   "cell_type": "code",
   "execution_count": 91,
   "id": "919ee14a-ef19-44d8-a5f2-2dd9b574546c",
   "metadata": {},
   "outputs": [
    {
     "name": "stdout",
     "output_type": "stream",
     "text": [
      "\\begin{pmatrix}\n",
      "0 & 0 & 0 & 0 & 0 & 0 & 0 & 0 & -\\sqrt{0.5} & 0 & 0 & 0 & 0 & \\sqrt{0.5} & 0 & 0\\\\\n",
      "1 & 0 & 0 & 0 & 0 & 0 & 0 & 0 & 0 & 0 & 0 & 0 & 0 & 0 & 0 & 0\\\\\n",
      "0 & 0 & 0 & 1 & 0 & 0 & 0 & 0 & 0 & 0 & 0 & 0 & 0 & 0 & 0 & 0\\\\\n",
      "0 & 0 & \\sqrt{0.5} & 0 & 0 & 0 & 0 & \\sqrt{0.5} & 0 & 0 & 0 & 0 & 0 & 0 & 0 & 0\\\\\n",
      "0 & 0 & 0 & 0 & 0 & -1 & 0 & 0 & 0 & 0 & 0 & 0 & 0 & 0 & 0 & 0\\\\\n",
      "0 & 0 & 0 & 0 & 0 & 0 & 0 & 0 & \\sqrt{0.5} & 0 & 0 & 0 & 0 & \\sqrt{0.5} & 0 & 0\\\\\n",
      "0 & 0 & \\sqrt{0.5} & 0 & 0 & 0 & 0 & -\\sqrt{0.5} & 0 & 0 & 0 & 0 & 0 & 0 & 0 & 0\\\\\n",
      "0 & 0 & 0 & 0 & 0 & 0 & -1 & 0 & 0 & 0 & 0 & 0 & 0 & 0 & 0 & 0\\\\\n",
      "0 & 0 & 0 & 0 & 0 & 0 & 0 & 0 & 0 & -1 & 0 & 0 & 0 & 0 & 0 & 0\\\\\n",
      "0 & -\\sqrt{0.5} & 0 & 0 & \\sqrt{0.5} & 0 & 0 & 0 & 0 & 0 & 0 & 0 & 0 & 0 & 0 & 0\\\\\n",
      "0 & 0 & 0 & 0 & 0 & 0 & 0 & 0 & 0 & 0 & 0 & \\sqrt{0.5} & 0 & 0 & \\sqrt{0.5} & 0\\\\\n",
      "0 & 0 & 0 & 0 & 0 & 0 & 0 & 0 & 0 & 0 & 1 & 0 & 0 & 0 & 0 & 0\\\\\n",
      "0 & -\\sqrt{0.5} & 0 & 0 & -\\sqrt{0.5} & 0 & 0 & 0 & 0 & 0 & 0 & 0 & 0 & 0 & 0 & 0\\\\\n",
      "0 & 0 & 0 & 0 & 0 & 0 & 0 & 0 & 0 & 0 & 0 & 0 & 1 & 0 & 0 & 0\\\\\n",
      "0 & 0 & 0 & 0 & 0 & 0 & 0 & 0 & 0 & 0 & 0 & 0 & 0 & 0 & 0 & 1\\\\\n",
      "0 & 0 & 0 & 0 & 0 & 0 & 0 & 0 & 0 & 0 & 0 & -\\sqrt{0.5} & 0 & 0 & \\sqrt{0.5} & 0\\\\\n",
      "\\end{pmatrix}\n"
     ]
    }
   ],
   "source": [
    "new_U = np.round(U, 7)\n",
    "print(to_latex(new_U))"
   ]
  },
  {
   "cell_type": "markdown",
   "id": "13ab8e0f-3d99-4c6c-a113-95e34a2e1a2f",
   "metadata": {},
   "source": [
    "### Spinful (2)"
   ]
  },
  {
   "cell_type": "code",
   "execution_count": 78,
   "id": "bd347718-98d6-4373-9fa4-65a3d68b2a4e",
   "metadata": {},
   "outputs": [
    {
     "data": {
      "text/plain": [
       "True"
      ]
     },
     "execution_count": 78,
     "metadata": {},
     "output_type": "execute_result"
    }
   ],
   "source": [
    "# spinful 2 horizontal\n",
    "\n",
    "#a = 1j*TensorProduct(sy_gamma_5, sy_id, sy_gamma_5) * ( TensorProduct(sy_gamma_1, sy_gamma_2, sy_id) - TensorProduct(sy_gamma_2, sy_gamma_1, sy_id))\n",
    "a = 1j*TensorProduct(sy_gamma_5, sy_id) * ( TensorProduct(sy_gamma_1, sy_gamma_2) - TensorProduct(sy_gamma_2, sy_gamma_1))\n",
    "b = TensorProduct(sy_gamma_5, sy_id) + TensorProduct(sy_id, sy_gamma_5)\n",
    "\n",
    "U = find_unitary_transform(a, b)\n",
    "\n",
    "np.allclose(U @ U.conj().T, np.eye(U.shape[0]), rtol=1e-6)"
   ]
  },
  {
   "cell_type": "code",
   "execution_count": 79,
   "id": "b5445f7d-4476-4574-9be6-caf89f38f8a1",
   "metadata": {},
   "outputs": [
    {
     "data": {
      "text/plain": [
       "True"
      ]
     },
     "execution_count": 79,
     "metadata": {},
     "output_type": "execute_result"
    }
   ],
   "source": [
    "na = np.array(a, dtype=np.complex128)\n",
    "nprod = np.array(U.conj().T @ b @ U, dtype=np.complex128)\n",
    "\n",
    "np.allclose(na, nprod, rtol=1e-6)"
   ]
  },
  {
   "cell_type": "code",
   "execution_count": 81,
   "id": "8dba1af3-a3dc-412a-a6ee-3d91796414c1",
   "metadata": {},
   "outputs": [
    {
     "name": "stdout",
     "output_type": "stream",
     "text": [
      "\\begin{pmatrix}\n",
      "0 & 0 & 0 & 0 & 0 & 0 & 0 & 0 & 0 & 0 & 0 & 0 & 0 & 0 & 0 & 0\\\\\n",
      "0 & 0 & 0 & 0 & 0 & 0 & 0 & 0 & 0 & 0 & 0 & 0 & 0 & 0 & 0 & 0\\\\\n",
      "0 & 0 & 0 & 0 & 0 & 0 & 0 & 0 & -2 & 0 & 0 & 0 & 0 & 0 & 0 & 0\\\\\n",
      "0 & 0 & 0 & 0 & 0 & 0 & 0 & 0 & 0 & -2 & 0 & 0 & 0 & 0 & 0 & 0\\\\\n",
      "0 & 0 & 0 & 0 & 0 & 0 & 0 & 0 & 0 & 0 & 0 & 0 & 0 & 0 & 0 & 0\\\\\n",
      "0 & 0 & 0 & 0 & 0 & 0 & 0 & 0 & 0 & 0 & 0 & 0 & 0 & 0 & 0 & 0\\\\\n",
      "0 & 0 & 0 & 0 & 0 & 0 & 0 & 0 & 0 & 0 & 0 & 0 & 2 & 0 & 0 & 0\\\\\n",
      "0 & 0 & 0 & 0 & 0 & 0 & 0 & 0 & 0 & 0 & 0 & 0 & 0 & 2 & 0 & 0\\\\\n",
      "0 & 0 & -2 & 0 & 0 & 0 & 0 & 0 & 0 & 0 & 0 & 0 & 0 & 0 & 0 & 0\\\\\n",
      "0 & 0 & 0 & -2 & 0 & 0 & 0 & 0 & 0 & 0 & 0 & 0 & 0 & 0 & 0 & 0\\\\\n",
      "0 & 0 & 0 & 0 & 0 & 0 & 0 & 0 & 0 & 0 & 0 & 0 & 0 & 0 & 0 & 0\\\\\n",
      "0 & 0 & 0 & 0 & 0 & 0 & 0 & 0 & 0 & 0 & 0 & 0 & 0 & 0 & 0 & 0\\\\\n",
      "0 & 0 & 0 & 0 & 0 & 0 & 2 & 0 & 0 & 0 & 0 & 0 & 0 & 0 & 0 & 0\\\\\n",
      "0 & 0 & 0 & 0 & 0 & 0 & 0 & 2 & 0 & 0 & 0 & 0 & 0 & 0 & 0 & 0\\\\\n",
      "0 & 0 & 0 & 0 & 0 & 0 & 0 & 0 & 0 & 0 & 0 & 0 & 0 & 0 & 0 & 0\\\\\n",
      "0 & 0 & 0 & 0 & 0 & 0 & 0 & 0 & 0 & 0 & 0 & 0 & 0 & 0 & 0 & 0\\\\\n",
      "\\end{pmatrix}\n"
     ]
    }
   ],
   "source": [
    "new_U = np.round(na, 7)\n",
    "print(to_latex(new_U))"
   ]
  },
  {
   "cell_type": "code",
   "execution_count": 83,
   "id": "d488b5d3-a10c-4ce8-bed4-f1d90e14330e",
   "metadata": {},
   "outputs": [
    {
     "data": {
      "text/plain": [
       "True"
      ]
     },
     "execution_count": 83,
     "metadata": {},
     "output_type": "execute_result"
    }
   ],
   "source": [
    "# spinful 2 vertical\n",
    "\n",
    "a = TensorProduct(sy_gamma_5, sy_gamma_5) * ( TensorProduct(sy_gamma_1, sy_gamma_2) - TensorProduct(sy_gamma_2, sy_gamma_1))\n",
    "b = TensorProduct(sy_gamma_5, sy_id) + TensorProduct(sy_id, sy_gamma_5)\n",
    "\n",
    "U = find_unitary_transform(a, b)\n",
    "\n",
    "np.allclose(U @ U.conj().T, np.eye(U.shape[0]), rtol=1e-10)"
   ]
  },
  {
   "cell_type": "code",
   "execution_count": 84,
   "id": "5f926faf-9835-42c9-9732-77c7972f02e9",
   "metadata": {},
   "outputs": [
    {
     "data": {
      "text/plain": [
       "True"
      ]
     },
     "execution_count": 84,
     "metadata": {},
     "output_type": "execute_result"
    }
   ],
   "source": [
    "na = np.array(a, dtype=np.complex128)\n",
    "nprod = np.array(U.conj().T @ b @ U, dtype=np.complex128)\n",
    "\n",
    "np.allclose(na, nprod, rtol=1e-6)"
   ]
  },
  {
   "cell_type": "code",
   "execution_count": 88,
   "id": "7dc8ae43-b5db-4308-acfe-994a0f661842",
   "metadata": {},
   "outputs": [
    {
     "name": "stdout",
     "output_type": "stream",
     "text": [
      "\\begin{pmatrix}\n",
      "0 & 0 & 0 & 0 & 0 & 0 & 0 & 0 & 0 & 0 & 0 & 0 & 0 & 0 & 0 & 0\\\\\n",
      "0 & 0 & 0 & 0 & 0 & 0 & 0 & 0 & 0 & 0 & 0 & 0 & 0 & 0 & 0 & 0\\\\\n",
      "0 & 0 & 0 & 0 & 0 & 0 & 0 & 0 & 2 & 0 & 0 & 0 & 0 & 0 & 0 & 0\\\\\n",
      "0 & 0 & 0 & 0 & 0 & 0 & 0 & 0 & 0 & -2 & 0 & 0 & 0 & 0 & 0 & 0\\\\\n",
      "0 & 0 & 0 & 0 & 0 & 0 & 0 & 0 & 0 & 0 & 0 & 0 & 0 & 0 & 0 & 0\\\\\n",
      "0 & 0 & 0 & 0 & 0 & 0 & 0 & 0 & 0 & 0 & 0 & 0 & 0 & 0 & 0 & 0\\\\\n",
      "0 & 0 & 0 & 0 & 0 & 0 & 0 & 0 & 0 & 0 & 0 & 0 & -2 & 0 & 0 & 0\\\\\n",
      "0 & 0 & 0 & 0 & 0 & 0 & 0 & 0 & 0 & 0 & 0 & 0 & 0 & 2 & 0 & 0\\\\\n",
      "0 & 0 & -2 & 0 & 0 & 0 & 0 & 0 & 0 & 0 & 0 & 0 & 0 & 0 & 0 & 0\\\\\n",
      "0 & 0 & 0 & 2 & 0 & 0 & 0 & 0 & 0 & 0 & 0 & 0 & 0 & 0 & 0 & 0\\\\\n",
      "0 & 0 & 0 & 0 & 0 & 0 & 0 & 0 & 0 & 0 & 0 & 0 & 0 & 0 & 0 & 0\\\\\n",
      "0 & 0 & 0 & 0 & 0 & 0 & 0 & 0 & 0 & 0 & 0 & 0 & 0 & 0 & 0 & 0\\\\\n",
      "0 & 0 & 0 & 0 & 0 & 0 & 2 & 0 & 0 & 0 & 0 & 0 & 0 & 0 & 0 & 0\\\\\n",
      "0 & 0 & 0 & 0 & 0 & 0 & 0 & -2 & 0 & 0 & 0 & 0 & 0 & 0 & 0 & 0\\\\\n",
      "0 & 0 & 0 & 0 & 0 & 0 & 0 & 0 & 0 & 0 & 0 & 0 & 0 & 0 & 0 & 0\\\\\n",
      "0 & 0 & 0 & 0 & 0 & 0 & 0 & 0 & 0 & 0 & 0 & 0 & 0 & 0 & 0 & 0\\\\\n",
      "\\end{pmatrix}\n"
     ]
    }
   ],
   "source": [
    "new_U = 1j * np.round(na, 7)\n",
    "print(to_latex(new_U))"
   ]
  },
  {
   "cell_type": "code",
   "execution_count": 87,
   "id": "018f4aec-e408-41ca-8866-d0d856c1f5b0",
   "metadata": {},
   "outputs": [
    {
     "data": {
      "text/latex": [
       "$\\displaystyle \\left[\\begin{array}{cccccccccccccccc}0 & 0 & 0 & 0 & 0 & 0 & 0 & 0 & 0 & 0 & 0 & 0 & 0 & 0 & 0 & 0\\\\0 & 0 & 0 & 0 & 0 & 0 & 0 & 0 & 0 & 0 & 0 & 0 & 0 & 0 & 0 & 0\\\\0 & 0 & 0 & 0 & 0 & 0 & 0 & 0 & - 2.0 i & 0 & 0 & 0 & 0 & 0 & 0 & 0\\\\0 & 0 & 0 & 0 & 0 & 0 & 0 & 0 & 0 & 2.0 i & 0 & 0 & 0 & 0 & 0 & 0\\\\0 & 0 & 0 & 0 & 0 & 0 & 0 & 0 & 0 & 0 & 0 & 0 & 0 & 0 & 0 & 0\\\\0 & 0 & 0 & 0 & 0 & 0 & 0 & 0 & 0 & 0 & 0 & 0 & 0 & 0 & 0 & 0\\\\0 & 0 & 0 & 0 & 0 & 0 & 0 & 0 & 0 & 0 & 0 & 0 & 2.0 i & 0 & 0 & 0\\\\0 & 0 & 0 & 0 & 0 & 0 & 0 & 0 & 0 & 0 & 0 & 0 & 0 & - 2.0 i & 0 & 0\\\\0 & 0 & 2.0 i & 0 & 0 & 0 & 0 & 0 & 0 & 0 & 0 & 0 & 0 & 0 & 0 & 0\\\\0 & 0 & 0 & - 2.0 i & 0 & 0 & 0 & 0 & 0 & 0 & 0 & 0 & 0 & 0 & 0 & 0\\\\0 & 0 & 0 & 0 & 0 & 0 & 0 & 0 & 0 & 0 & 0 & 0 & 0 & 0 & 0 & 0\\\\0 & 0 & 0 & 0 & 0 & 0 & 0 & 0 & 0 & 0 & 0 & 0 & 0 & 0 & 0 & 0\\\\0 & 0 & 0 & 0 & 0 & 0 & - 2.0 i & 0 & 0 & 0 & 0 & 0 & 0 & 0 & 0 & 0\\\\0 & 0 & 0 & 0 & 0 & 0 & 0 & 2.0 i & 0 & 0 & 0 & 0 & 0 & 0 & 0 & 0\\\\0 & 0 & 0 & 0 & 0 & 0 & 0 & 0 & 0 & 0 & 0 & 0 & 0 & 0 & 0 & 0\\\\0 & 0 & 0 & 0 & 0 & 0 & 0 & 0 & 0 & 0 & 0 & 0 & 0 & 0 & 0 & 0\\end{array}\\right]$"
      ],
      "text/plain": [
       "Matrix([\n",
       "[0, 0,     0,      0, 0, 0,      0,     0,      0,     0, 0, 0,     0,      0, 0, 0],\n",
       "[0, 0,     0,      0, 0, 0,      0,     0,      0,     0, 0, 0,     0,      0, 0, 0],\n",
       "[0, 0,     0,      0, 0, 0,      0,     0, -2.0*I,     0, 0, 0,     0,      0, 0, 0],\n",
       "[0, 0,     0,      0, 0, 0,      0,     0,      0, 2.0*I, 0, 0,     0,      0, 0, 0],\n",
       "[0, 0,     0,      0, 0, 0,      0,     0,      0,     0, 0, 0,     0,      0, 0, 0],\n",
       "[0, 0,     0,      0, 0, 0,      0,     0,      0,     0, 0, 0,     0,      0, 0, 0],\n",
       "[0, 0,     0,      0, 0, 0,      0,     0,      0,     0, 0, 0, 2.0*I,      0, 0, 0],\n",
       "[0, 0,     0,      0, 0, 0,      0,     0,      0,     0, 0, 0,     0, -2.0*I, 0, 0],\n",
       "[0, 0, 2.0*I,      0, 0, 0,      0,     0,      0,     0, 0, 0,     0,      0, 0, 0],\n",
       "[0, 0,     0, -2.0*I, 0, 0,      0,     0,      0,     0, 0, 0,     0,      0, 0, 0],\n",
       "[0, 0,     0,      0, 0, 0,      0,     0,      0,     0, 0, 0,     0,      0, 0, 0],\n",
       "[0, 0,     0,      0, 0, 0,      0,     0,      0,     0, 0, 0,     0,      0, 0, 0],\n",
       "[0, 0,     0,      0, 0, 0, -2.0*I,     0,      0,     0, 0, 0,     0,      0, 0, 0],\n",
       "[0, 0,     0,      0, 0, 0,      0, 2.0*I,      0,     0, 0, 0,     0,      0, 0, 0],\n",
       "[0, 0,     0,      0, 0, 0,      0,     0,      0,     0, 0, 0,     0,      0, 0, 0],\n",
       "[0, 0,     0,      0, 0, 0,      0,     0,      0,     0, 0, 0,     0,      0, 0, 0]])"
      ]
     },
     "execution_count": 87,
     "metadata": {},
     "output_type": "execute_result"
    }
   ],
   "source": [
    "Matrix(new_U)"
   ]
  },
  {
   "cell_type": "code",
   "execution_count": null,
   "id": "ea6a189a-23a3-49eb-93a2-6f1390b4e1a7",
   "metadata": {},
   "outputs": [],
   "source": []
  }
 ],
 "metadata": {
  "kernelspec": {
   "display_name": "qudit",
   "language": "python",
   "name": "qudit"
  },
  "language_info": {
   "codemirror_mode": {
    "name": "ipython",
    "version": 3
   },
   "file_extension": ".py",
   "mimetype": "text/x-python",
   "name": "python",
   "nbconvert_exporter": "python",
   "pygments_lexer": "ipython3",
   "version": "3.12.6"
  }
 },
 "nbformat": 4,
 "nbformat_minor": 5
}
