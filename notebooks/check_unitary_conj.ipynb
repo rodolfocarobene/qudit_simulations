{
 "cells": [
  {
   "cell_type": "code",
   "execution_count": 1,
   "id": "89ad17b4-1763-434c-b5b7-f2d451cd80ab",
   "metadata": {},
   "outputs": [],
   "source": [
    "%load_ext autoreload\n",
    "%autoreload 2\n",
    "\n",
    "from primitives.primitives import *\n",
    "import matplotlib.pyplot as plt\n",
    "from numpy.linalg import eig"
   ]
  },
  {
   "cell_type": "code",
   "execution_count": 2,
   "id": "d63a6bbb-91b2-4714-b8fb-c648dc544057",
   "metadata": {},
   "outputs": [],
   "source": [
    "def commute(a, b):\n",
    "    a = np.array(a, dtype=np.complex128)\n",
    "    b = np.array(b, dtype=np.complex128)\n",
    "\n",
    "    c = a@b\n",
    "    d = b@a\n",
    "    if np.allclose(c-d, np.zeros(c.shape)):\n",
    "        print(\"Commute\")\n",
    "    elif np.allclose(c+d, np.zeros(c.shape)):\n",
    "        print(\"Anti-commute\")\n",
    "    else:\n",
    "        print(\"Null\")"
   ]
  },
  {
   "cell_type": "code",
   "execution_count": 3,
   "id": "68d61447-05b5-47f0-9842-21c86aa2f329",
   "metadata": {},
   "outputs": [
    {
     "name": "stdout",
     "output_type": "stream",
     "text": [
      "Anti-commute\n"
     ]
    }
   ],
   "source": [
    "a = TensorProduct(sy_gamma_5*sy_gamma_2, sy_gamma_5)\n",
    "b = TensorProduct(sy_gamma_5*sy_gamma_1, sy_gamma_1)\n",
    "\n",
    "a = sy_gamma_1*sy_gamma_2\n",
    "b = sy_gamma_2\n",
    "\n",
    "commute(a,b)"
   ]
  },
  {
   "cell_type": "code",
   "execution_count": 4,
   "id": "16e8bcf7-009a-4da2-805d-2c7425d6baa1",
   "metadata": {},
   "outputs": [],
   "source": [
    "from scipy.linalg import eig\n",
    "def find_unitary_transform(A, B):\n",
    "    \"\"\"\n",
    "    Find the unitary matrix U such that U A U^dagger = B.\n",
    "\n",
    "    Parameters:\n",
    "    A (ndarray): Input matrix A.\n",
    "    B (ndarray): Input matrix B.\n",
    "\n",
    "    Returns:\n",
    "    U (ndarray or None): Unitary matrix U if it exists, otherwise None.\n",
    "    \"\"\"\n",
    "    A = np.array(A, complex)\n",
    "    B = np.array(B, complex)\n",
    "    \n",
    "    # Get the eigenvalues and eigenvectors of A\n",
    "    eigvals_A, eigvecs_A = eig(A)\n",
    "    eigvals_B, eigvecs_B = eig(B)\n",
    "    \n",
    "    # Sort the eigenvalues and corresponding eigenvectors for comparison\n",
    "    idx_A = np.argsort(eigvals_A)\n",
    "    idx_B = np.argsort(eigvals_B)\n",
    "    \n",
    "    eigvals_A_sorted = eigvals_A[idx_A]\n",
    "    eigvals_B_sorted = eigvals_B[idx_B]\n",
    "    \n",
    "    eigvecs_A_sorted = eigvecs_A[:, idx_A]\n",
    "    eigvecs_B_sorted = eigvecs_B[:, idx_B]\n",
    "\n",
    "    # Check if the sorted eigenvalues match\n",
    "    if not np.allclose(eigvals_A_sorted, eigvals_B_sorted):\n",
    "        print(\"not all eigenvalues match\")\n",
    "        print(eigvals_A_sorted)\n",
    "        print(eigvals_B_sorted)\n",
    "        return None\n",
    "\n",
    "    eigvecs_A_sorted = np.linalg.qr(eigvecs_A_sorted)[0]\n",
    "    eigvecs_B_sorted = np.linalg.qr(eigvecs_B_sorted)[0]\n",
    "\n",
    "    # Construct the unitary matrix U\n",
    "    U = eigvecs_B_sorted @ eigvecs_A_sorted.conj().T\n",
    "    \n",
    "    # Check if U is unitary\n",
    "    if np.allclose(U @ U.conj().T, np.eye(U.shape[0])):\n",
    "        return U\n",
    "    else:\n",
    "        print(\"not unitary\")\n",
    "        return U"
   ]
  },
  {
   "cell_type": "markdown",
   "id": "0ee8a416-f1c0-4715-9b0a-4b6f4f60c26e",
   "metadata": {},
   "source": [
    "### Spinless Unitary"
   ]
  },
  {
   "cell_type": "code",
   "execution_count": 5,
   "id": "41f2c67f-14da-4c97-a32a-81044156224b",
   "metadata": {},
   "outputs": [
    {
     "data": {
      "text/plain": [
       "True"
      ]
     },
     "execution_count": 5,
     "metadata": {},
     "output_type": "execute_result"
    }
   ],
   "source": [
    "a = 1j * TensorProduct(sy_gamma_1, sy_gamma_2) * ( TensorProduct(sy_gamma_5, sy_id) - TensorProduct(sy_id, sy_gamma_5))\n",
    "b = TensorProduct(sy_gamma_5, sy_id) + TensorProduct(sy_id, sy_gamma_5)\n",
    "\n",
    "U = find_unitary_transform(a, b)\n",
    "\n",
    "np.allclose(U @ U.conj().T, np.eye(U.shape[0]), rtol=1e10)"
   ]
  },
  {
   "cell_type": "markdown",
   "id": "13ab8e0f-3d99-4c6c-a113-95e34a2e1a2f",
   "metadata": {},
   "source": [
    "### Spinful (2)"
   ]
  },
  {
   "cell_type": "code",
   "execution_count": 6,
   "id": "bd347718-98d6-4373-9fa4-65a3d68b2a4e",
   "metadata": {},
   "outputs": [
    {
     "data": {
      "text/plain": [
       "True"
      ]
     },
     "execution_count": 6,
     "metadata": {},
     "output_type": "execute_result"
    }
   ],
   "source": [
    "# spinful 2 horizontal\n",
    "\n",
    "a = 1j*TensorProduct(sy_gamma_5, sy_id, sy_gamma_5) * ( TensorProduct(sy_gamma_1, sy_gamma_2, sy_id) - TensorProduct(sy_gamma_2, sy_gamma_1, sy_id))\n",
    "b = TensorProduct(sy_gamma_5, sy_id, sy_gamma_5) + TensorProduct(sy_id, sy_gamma_5, sy_gamma_5)\n",
    "\n",
    "U = find_unitary_transform(a, b)\n",
    "\n",
    "np.allclose(U @ U.conj().T, np.eye(U.shape[0]), rtol=1e10)"
   ]
  },
  {
   "cell_type": "code",
   "execution_count": 7,
   "id": "d488b5d3-a10c-4ce8-bed4-f1d90e14330e",
   "metadata": {},
   "outputs": [
    {
     "data": {
      "text/plain": [
       "True"
      ]
     },
     "execution_count": 7,
     "metadata": {},
     "output_type": "execute_result"
    }
   ],
   "source": [
    "# spinful 2 vertical\n",
    "\n",
    "a = TensorProduct(sy_gamma_5, sy_gamma_5, sy_gamma_1, sy_gamma_2) * ( TensorProduct(sy_gamma_1, sy_gamma_2, sy_id, sy_id) - TensorProduct(sy_gamma_2, sy_gamma_1, sy_id, sy_id))\n",
    "b = TensorProduct(sy_gamma_5, sy_id, sy_gamma_5, sy_gamma_5) + TensorProduct(sy_id, sy_gamma_5, sy_gamma_5, sy_gamma_5)\n",
    "\n",
    "U = find_unitary_transform(a, b)\n",
    "\n",
    "np.allclose(U @ U.conj().T, np.eye(U.shape[0]), rtol=1e10)"
   ]
  },
  {
   "cell_type": "code",
   "execution_count": null,
   "id": "56e37cf4-2255-45ac-a092-5474a2ac734e",
   "metadata": {},
   "outputs": [],
   "source": []
  }
 ],
 "metadata": {
  "kernelspec": {
   "display_name": "qudit",
   "language": "python",
   "name": "qudit"
  },
  "language_info": {
   "codemirror_mode": {
    "name": "ipython",
    "version": 3
   },
   "file_extension": ".py",
   "mimetype": "text/x-python",
   "name": "python",
   "nbconvert_exporter": "python",
   "pygments_lexer": "ipython3",
   "version": "3.12.5"
  }
 },
 "nbformat": 4,
 "nbformat_minor": 5
}
