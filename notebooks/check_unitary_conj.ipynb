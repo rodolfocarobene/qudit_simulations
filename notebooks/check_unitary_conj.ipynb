{
 "cells": [
  {
   "cell_type": "code",
   "execution_count": 1,
   "id": "89ad17b4-1763-434c-b5b7-f2d451cd80ab",
   "metadata": {},
   "outputs": [],
   "source": [
    "%load_ext autoreload\n",
    "%autoreload 2\n",
    "\n",
    "from primitives.primitives import *\n",
    "import matplotlib.pyplot as plt\n",
    "from numpy.linalg import eig\n",
    "import qutip as qt"
   ]
  },
  {
   "cell_type": "code",
   "execution_count": 2,
   "id": "d63a6bbb-91b2-4714-b8fb-c648dc544057",
   "metadata": {},
   "outputs": [],
   "source": [
    "def commute(a, b):\n",
    "    a = np.array(a, dtype=np.complex128)\n",
    "    b = np.array(b, dtype=np.complex128)\n",
    "\n",
    "    c = a@b\n",
    "    d = b@a\n",
    "    if np.allclose(c-d, np.zeros(c.shape)):\n",
    "        print(\"Commute\")\n",
    "    elif np.allclose(c+d, np.zeros(c.shape)):\n",
    "        print(\"Anti-commute\")\n",
    "    else:\n",
    "        print(\"Null\")\n",
    "        \n",
    "def is_unitary(m):\n",
    "    return np.allclose(np.eye(m.shape[0]), m.dot(m.conj().T))"
   ]
  },
  {
   "cell_type": "code",
   "execution_count": 16,
   "id": "27c068dd-1565-4ccc-8a09-79bb7b7b53e2",
   "metadata": {},
   "outputs": [
    {
     "data": {
      "text/plain": [
       "True"
      ]
     },
     "execution_count": 16,
     "metadata": {},
     "output_type": "execute_result"
    }
   ],
   "source": [
    "S = np.array((TensorProduct(sy_gamma_5*sy_gamma_1, sy_gamma_5*sy_gamma_2) - TensorProduct(sy_gamma_5*sy_gamma_2, sy_gamma_5*sy_gamma_1)))\n",
    "\n",
    "np.all(S.conj().T == S)"
   ]
  },
  {
   "cell_type": "code",
   "execution_count": 8,
   "id": "d1b2ebbf-efff-49ad-a46b-7dc6e54a53c8",
   "metadata": {},
   "outputs": [
    {
     "data": {
      "text/plain": [
       "True"
      ]
     },
     "execution_count": 8,
     "metadata": {},
     "output_type": "execute_result"
    }
   ],
   "source": [
    "S = np.array(-1j * (TensorProduct(sy_gamma_5*sy_gamma_1, sy_gamma_2) - TensorProduct(sy_gamma_1, sy_gamma_5*sy_gamma_2)))\n",
    "\n",
    "np.all(S.conj().T == S)"
   ]
  },
  {
   "cell_type": "code",
   "execution_count": 11,
   "id": "0a932021-aa95-4645-a2e2-ac279a09aab7",
   "metadata": {},
   "outputs": [
    {
     "data": {
      "text/plain": [
       "True"
      ]
     },
     "execution_count": 11,
     "metadata": {},
     "output_type": "execute_result"
    }
   ],
   "source": [
    "S = np.array(-1j * (TensorProduct(sy_gamma_5*sy_gamma_1, sy_gamma_2, sy_gamma_5) - TensorProduct(sy_gamma_1, sy_gamma_5*sy_gamma_2, sy_gamma_5)))\n",
    "\n",
    "np.all(S.conj().T == S)"
   ]
  },
  {
   "cell_type": "code",
   "execution_count": 59,
   "id": "43f65f3a-9d0c-4a4b-9f34-93332c64e1d4",
   "metadata": {},
   "outputs": [
    {
     "data": {
      "text/plain": [
       "True"
      ]
     },
     "execution_count": 59,
     "metadata": {},
     "output_type": "execute_result"
    }
   ],
   "source": [
    "S = np.array((TensorProduct(sy_gamma_5*sy_gamma_1, sy_gamma_5*sy_gamma_2) - \n",
    "              TensorProduct(sy_gamma_5*sy_gamma_2, sy_gamma_5*sy_gamma_1)))\n",
    "\n",
    "np.all(S.conj().T == S)"
   ]
  },
  {
   "cell_type": "code",
   "execution_count": null,
   "id": "6895f084-9d4b-4b4e-8c58-eee9413bfcbc",
   "metadata": {},
   "outputs": [],
   "source": []
  },
  {
   "cell_type": "code",
   "execution_count": 4,
   "id": "68d61447-05b5-47f0-9842-21c86aa2f329",
   "metadata": {},
   "outputs": [
    {
     "name": "stdout",
     "output_type": "stream",
     "text": [
      "Commute\n"
     ]
    }
   ],
   "source": [
    "a = TensorProduct(sy_gamma_5*sy_gamma_1, sy_gamma_2)\n",
    "b = TensorProduct(sy_gamma_1, sy_gamma_5*sy_gamma_2)\n",
    "\n",
    "commute(a,b)"
   ]
  },
  {
   "cell_type": "code",
   "execution_count": 18,
   "id": "f1e5a9bf-7d4b-483e-a5d9-e88e262a05ea",
   "metadata": {},
   "outputs": [
    {
     "name": "stdout",
     "output_type": "stream",
     "text": [
      "Commute\n"
     ]
    }
   ],
   "source": [
    "a = (TensorProduct(sy_id, sy_id, sy_id) - TensorProduct(sy_id, sy_gamma_5, sy_id))* (TensorProduct(sy_id, sy_id, sy_id) - TensorProduct(sy_gamma_5, sy_id, sy_id))\n",
    "b = (TensorProduct(sy_id, sy_id, sy_id) - TensorProduct(sy_id, sy_id, sy_gamma_5))* (TensorProduct(sy_id, sy_id, sy_id) - TensorProduct(sy_id, sy_gamma_5, sy_id))\n",
    "\n",
    "commute(a, b)"
   ]
  },
  {
   "cell_type": "code",
   "execution_count": 3,
   "id": "16e8bcf7-009a-4da2-805d-2c7425d6baa1",
   "metadata": {},
   "outputs": [],
   "source": [
    "from scipy.linalg import eig\n",
    "def find_unitary_transform(A, B):\n",
    "    \"\"\"\n",
    "    Find the unitary matrix U such that U A U^dagger = B.\n",
    "\n",
    "    Parameters:\n",
    "    A (ndarray): Input matrix A.\n",
    "    B (ndarray): Input matrix B.\n",
    "\n",
    "    Returns:\n",
    "    U (ndarray or None): Unitary matrix U if it exists, otherwise None.\n",
    "    \"\"\"\n",
    "    A = np.array(A, complex)\n",
    "    B = np.array(B, complex)\n",
    "    \n",
    "    # Get the eigenvalues and eigenvectors of A\n",
    "    eigvals_A, eigvecs_A = eig(A)\n",
    "    eigvals_B, eigvecs_B = eig(B)\n",
    "    \n",
    "    # Sort the eigenvalues and corresponding eigenvectors for comparison\n",
    "    idx_A = np.argsort(eigvals_A)\n",
    "    idx_B = np.argsort(eigvals_B)\n",
    "    \n",
    "    eigvals_A_sorted = eigvals_A[idx_A]\n",
    "    eigvals_B_sorted = eigvals_B[idx_B]\n",
    "    \n",
    "    eigvecs_A_sorted = eigvecs_A[:, idx_A]\n",
    "    eigvecs_B_sorted = eigvecs_B[:, idx_B]\n",
    "\n",
    "    # Check if the sorted eigenvalues match\n",
    "    if not np.allclose(eigvals_A_sorted, eigvals_B_sorted):\n",
    "        print(\"not all eigenvalues match\")\n",
    "        print(eigvals_A_sorted)\n",
    "        print(eigvals_B_sorted)\n",
    "        return None\n",
    "\n",
    "    eigvecs_A_sorted = np.linalg.qr(eigvecs_A_sorted)[0]\n",
    "    eigvecs_B_sorted = np.linalg.qr(eigvecs_B_sorted)[0]\n",
    "\n",
    "    # Construct the unitary matrix U\n",
    "    U = eigvecs_B_sorted @ eigvecs_A_sorted.conj().T\n",
    "    \n",
    "    # Check if U is unitary\n",
    "    if np.allclose(U @ U.conj().T, np.eye(U.shape[0])):\n",
    "        return U\n",
    "    else:\n",
    "        print(\"not unitary\")\n",
    "        return U"
   ]
  },
  {
   "cell_type": "code",
   "execution_count": 4,
   "id": "9b1afae8-020b-4ed4-9429-ccb214fd82e7",
   "metadata": {},
   "outputs": [],
   "source": [
    "def to_latex(mat):\n",
    "    text = r\"\\begin{pmatrix}\"\n",
    "    text += \"\\n\"\n",
    "    for row in mat:\n",
    "        for idx, el in enumerate(row):\n",
    "            imag = False\n",
    "            \n",
    "            if np.imag(el) != 0 and np.real(el) != 0:\n",
    "                raise Exception\n",
    "            if np.imag(el) != 0:\n",
    "                imag = True\n",
    "                el = np.imag(el)\n",
    "            else:\n",
    "                el = np.real(el)\n",
    "            if el%1 == 0:\n",
    "                text += str(int(el))\n",
    "            elif np.abs(el) == 0.7071068:\n",
    "                if el < 0:\n",
    "                    text += \"-\"\n",
    "                if imag:\n",
    "                    text += \"i\"\n",
    "                text += r\"\\sqrt{0.5}\"\n",
    "            else:\n",
    "                text += str(el)\n",
    "            \n",
    "            if idx + 1 < len(row):\n",
    "                text += \" & \"\n",
    "        text += r\"\\\\\"\n",
    "        text += \"\\n\"\n",
    "        \n",
    "\n",
    "    text += r\"\\end{pmatrix}\"\n",
    "    return text"
   ]
  },
  {
   "cell_type": "markdown",
   "id": "13ab8e0f-3d99-4c6c-a113-95e34a2e1a2f",
   "metadata": {},
   "source": [
    "### Spinful (2)\n",
    "\n",
    "\\begin{equation}\n",
    "\\begin{split}\n",
    "    &\\exp\\left( i\\left( \\tilde\\Gamma^1_{\\vec r}\\Gamma^2_{\\vec{r+x}} - \\tilde\\Gamma^2_{\\vec r}\\Gamma^1_{\\vec{r+x}}\\right)\\right)\\\\\n",
    "    &=U^\\dagger_{(\\vec{r,r+x})}\\left(\\exp\\left(\\tilde\\Gamma_{\\vec r} + \\tilde\\Gamma_{\\vec{r+x}}\\right)\\right) U_{(\\vec{r,r+x})}\n",
    "\\end{split}\n",
    "\\end{equation}\n"
   ]
  },
  {
   "cell_type": "code",
   "execution_count": 6,
   "id": "641998c4-788b-4a16-acf6-e34fea0f79a2",
   "metadata": {},
   "outputs": [],
   "source": [
    "from scipy.linalg import expm"
   ]
  },
  {
   "cell_type": "code",
   "execution_count": 13,
   "id": "bd347718-98d6-4373-9fa4-65a3d68b2a4e",
   "metadata": {},
   "outputs": [
    {
     "name": "stdout",
     "output_type": "stream",
     "text": [
      "Unitary found\n",
      "\\begin{pmatrix}\n",
      "0 & 0 & \\sqrt{0.5} & 0 & 0 & 0 & 0 & 0 & -\\sqrt{0.5} & 0 & 0 & 0 & 0 & 0 & 0 & 0\\\\\n",
      "1 & 0 & 0 & 0 & 0 & 0 & 0 & 0 & 0 & 0 & 0 & 0 & 0 & 0 & 0 & 0\\\\\n",
      "0 & -1 & 0 & 0 & 0 & 0 & 0 & 0 & 0 & 0 & 0 & 0 & 0 & 0 & 0 & 0\\\\\n",
      "0 & 0 & 0 & \\sqrt{0.5} & 0 & 0 & 0 & 0 & 0 & -\\sqrt{0.5} & 0 & 0 & 0 & 0 & 0 & 0\\\\\n",
      "0 & 0 & 0 & 0 & -1 & 0 & 0 & 0 & 0 & 0 & 0 & 0 & 0 & 0 & 0 & 0\\\\\n",
      "0 & 0 & -\\sqrt{0.5} & 0 & 0 & 0 & 0 & 0 & -\\sqrt{0.5} & 0 & 0 & 0 & 0 & 0 & 0 & 0\\\\\n",
      "0 & 0 & 0 & \\sqrt{0.5} & 0 & 0 & 0 & 0 & 0 & \\sqrt{0.5} & 0 & 0 & 0 & 0 & 0 & 0\\\\\n",
      "0 & 0 & 0 & 0 & 0 & 1 & 0 & 0 & 0 & 0 & 0 & 0 & 0 & 0 & 0 & 0\\\\\n",
      "0 & 0 & 0 & 0 & 0 & 0 & 0 & 0 & 0 & 0 & 1 & 0 & 0 & 0 & 0 & 0\\\\\n",
      "0 & 0 & 0 & 0 & 0 & 0 & \\sqrt{0.5} & 0 & 0 & 0 & 0 & 0 & -\\sqrt{0.5} & 0 & 0 & 0\\\\\n",
      "0 & 0 & 0 & 0 & 0 & 0 & 0 & \\sqrt{0.5} & 0 & 0 & 0 & 0 & 0 & -\\sqrt{0.5} & 0 & 0\\\\\n",
      "0 & 0 & 0 & 0 & 0 & 0 & 0 & 0 & 0 & 0 & 0 & 1 & 0 & 0 & 0 & 0\\\\\n",
      "0 & 0 & 0 & 0 & 0 & 0 & \\sqrt{0.5} & 0 & 0 & 0 & 0 & 0 & \\sqrt{0.5} & 0 & 0 & 0\\\\\n",
      "0 & 0 & 0 & 0 & 0 & 0 & 0 & 0 & 0 & 0 & 0 & 0 & 0 & 0 & -1 & 0\\\\\n",
      "0 & 0 & 0 & 0 & 0 & 0 & 0 & 0 & 0 & 0 & 0 & 0 & 0 & 0 & 0 & 1\\\\\n",
      "0 & 0 & 0 & 0 & 0 & 0 & 0 & \\sqrt{0.5} & 0 & 0 & 0 & 0 & 0 & \\sqrt{0.5} & 0 & 0\\\\\n",
      "\\end{pmatrix}\n"
     ]
    }
   ],
   "source": [
    "# spinful 2 horizontal: U\n",
    "\n",
    "a = (-25j) * (1j*(TensorProduct(sy_gamma_5*sy_gamma_1, sy_gamma_2) - TensorProduct(sy_gamma_5*sy_gamma_2, sy_gamma_1)))\n",
    "b = (-25j) * (TensorProduct(sy_gamma_5, sy_id) + TensorProduct(sy_id, sy_gamma_5))\n",
    "\n",
    "a = expm(np.array(a, dtype=np.complex128))\n",
    "b = expm(np.array(b, dtype=np.complex128))\n",
    "\n",
    "U = find_unitary_transform(a, b)\n",
    "\n",
    "if (np.allclose(U @ U.conj().T, np.eye(U.shape[0]), rtol=1e-6)):\n",
    "    print(\"Unitary found\")\n",
    "    new_U = np.round(U, 7)\n",
    "    print(to_latex(new_U))\n",
    "else:\n",
    "    print(\"Unitary not found\")"
   ]
  },
  {
   "cell_type": "markdown",
   "id": "039cc83f-87f5-48ce-8140-24fa753e0ee6",
   "metadata": {},
   "source": [
    "\\begin{pmatrix}\n",
    "0 & 0 & \\sqrt{0.5} & 0 & 0 & 0 & 0 & 0 & -\\sqrt{0.5} & 0 & 0 & 0 & 0 & 0 & 0 & 0\\\\\n",
    "1 & 0 & 0 & 0 & 0 & 0 & 0 & 0 & 0 & 0 & 0 & 0 & 0 & 0 & 0 & 0\\\\\n",
    "0 & 1 & 0 & 0 & 0 & 0 & 0 & 0 & 0 & 0 & 0 & 0 & 0 & 0 & 0 & 0\\\\\n",
    "0 & 0 & 0 & -\\sqrt{0.5} & 0 & 0 & 0 & 0 & 0 & \\sqrt{0.5} & 0 & 0 & 0 & 0 & 0 & 0\\\\\n",
    "0 & 0 & 0 & 0 & 1 & 0 & 0 & 0 & 0 & 0 & 0 & 0 & 0 & 0 & 0 & 0\\\\\n",
    "0 & 0 & \\sqrt{0.5} & 0 & 0 & 0 & 0 & 0 & \\sqrt{0.5} & 0 & 0 & 0 & 0 & 0 & 0 & 0\\\\\n",
    "0 & 0 & 0 & \\sqrt{0.5} & 0 & 0 & 0 & 0 & 0 & \\sqrt{0.5} & 0 & 0 & 0 & 0 & 0 & 0\\\\\n",
    "0 & 0 & 0 & 0 & 0 & 1 & 0 & 0 & 0 & 0 & 0 & 0 & 0 & 0 & 0 & 0\\\\\n",
    "0 & 0 & 0 & 0 & 0 & 0 & 0 & 0 & 0 & 0 & -1 & 0 & 0 & 0 & 0 & 0\\\\\n",
    "0 & 0 & 0 & 0 & 0 & 0 & \\sqrt{0.5} & 0 & 0 & 0 & 0 & 0 & -\\sqrt{0.5} & 0 & 0 & 0\\\\\n",
    "0 & 0 & 0 & 0 & 0 & 0 & 0 & \\sqrt{0.5} & 0 & 0 & 0 & 0 & 0 & -\\sqrt{0.5} & 0 & 0\\\\\n",
    "0 & 0 & 0 & 0 & 0 & 0 & 0 & 0 & 0 & 0 & 0 & 1 & 0 & 0 & 0 & 0\\\\\n",
    "0 & 0 & 0 & 0 & 0 & 0 & \\sqrt{0.5} & 0 & 0 & 0 & 0 & 0 & \\sqrt{0.5} & 0 & 0 & 0\\\\\n",
    "0 & 0 & 0 & 0 & 0 & 0 & 0 & 0 & 0 & 0 & 0 & 0 & 0 & 0 & 1 & 0\\\\\n",
    "0 & 0 & 0 & 0 & 0 & 0 & 0 & 0 & 0 & 0 & 0 & 0 & 0 & 0 & 0 & 1\\\\\n",
    "0 & 0 & 0 & 0 & 0 & 0 & 0 & \\sqrt{0.5} & 0 & 0 & 0 & 0 & 0 & \\sqrt{0.5} & 0 & 0\\\\\n",
    "\\end{pmatrix}"
   ]
  },
  {
   "cell_type": "code",
   "execution_count": 69,
   "id": "9ba2808e-0123-4eca-bd8c-4f20d4d61701",
   "metadata": {},
   "outputs": [
    {
     "name": "stdout",
     "output_type": "stream",
     "text": [
      "Unitary found\n",
      "\\begin{pmatrix}\n",
      "0 & 0 & \\sqrt{0.5} & 0 & 0 & 0 & 0 & 0 & -i\\sqrt{0.5} & 0 & 0 & 0 & 0 & 0 & 0 & 0\\\\\n",
      "1 & 0 & 0 & 0 & 0 & 0 & 0 & 0 & 0 & 0 & 0 & 0 & 0 & 0 & 0 & 0\\\\\n",
      "0 & 1 & 0 & 0 & 0 & 0 & 0 & 0 & 0 & 0 & 0 & 0 & 0 & 0 & 0 & 0\\\\\n",
      "0 & 0 & 0 & -\\sqrt{0.5} & 0 & 0 & 0 & 0 & 0 & -i\\sqrt{0.5} & 0 & 0 & 0 & 0 & 0 & 0\\\\\n",
      "0 & 0 & 0 & 0 & -1 & 0 & 0 & 0 & 0 & 0 & 0 & 0 & 0 & 0 & 0 & 0\\\\\n",
      "0 & 0 & -\\sqrt{0.5} & 0 & 0 & 0 & 0 & 0 & -i\\sqrt{0.5} & 0 & 0 & 0 & 0 & 0 & 0 & 0\\\\\n",
      "0 & 0 & 0 & \\sqrt{0.5} & 0 & 0 & 0 & 0 & 0 & -i\\sqrt{0.5} & 0 & 0 & 0 & 0 & 0 & 0\\\\\n",
      "0 & 0 & 0 & 0 & 0 & 1 & 0 & 0 & 0 & 0 & 0 & 0 & 0 & 0 & 0 & 0\\\\\n",
      "0 & 0 & 0 & 0 & 0 & 0 & 0 & 0 & 0 & 0 & -1 & 0 & 0 & 0 & 0 & 0\\\\\n",
      "0 & 0 & 0 & 0 & 0 & 0 & \\sqrt{0.5} & 0 & 0 & 0 & 0 & 0 & -i\\sqrt{0.5} & 0 & 0 & 0\\\\\n",
      "0 & 0 & 0 & 0 & 0 & 0 & 0 & \\sqrt{0.5} & 0 & 0 & 0 & 0 & 0 & i\\sqrt{0.5} & 0 & 0\\\\\n",
      "0 & 0 & 0 & 0 & 0 & 0 & 0 & 0 & 0 & 0 & 0 & 1 & 0 & 0 & 0 & 0\\\\\n",
      "0 & 0 & 0 & 0 & 0 & 0 & \\sqrt{0.5} & 0 & 0 & 0 & 0 & 0 & i\\sqrt{0.5} & 0 & 0 & 0\\\\\n",
      "0 & 0 & 0 & 0 & 0 & 0 & 0 & 0 & 0 & 0 & 0 & 0 & 0 & 0 & 1 & 0\\\\\n",
      "0 & 0 & 0 & 0 & 0 & 0 & 0 & 0 & 0 & 0 & 0 & 0 & 0 & 0 & 0 & 1\\\\\n",
      "0 & 0 & 0 & 0 & 0 & 0 & 0 & \\sqrt{0.5} & 0 & 0 & 0 & 0 & 0 & -i\\sqrt{0.5} & 0 & 0\\\\\n",
      "\\end{pmatrix}\n"
     ]
    }
   ],
   "source": [
    "# spinful 2 vertical: V\n",
    "\n",
    "a = TensorProduct(sy_gamma_5*sy_gamma_1, sy_gamma_5*sy_gamma_2) - TensorProduct(sy_gamma_5*sy_gamma_2, sy_gamma_5*sy_gamma_1)\n",
    "b = TensorProduct(sy_gamma_5, sy_id) + TensorProduct(sy_id, sy_gamma_5)\n",
    "\n",
    "a = expm(np.array(a, dtype=np.complex128))\n",
    "b = expm(np.array(b, dtype=np.complex128))\n",
    "\n",
    "V = find_unitary_transform(a, b)\n",
    "\n",
    "if (np.allclose(V @ V.conj().T, np.eye(V.shape[0]), rtol=1e-6)):\n",
    "    print(\"Unitary found\")\n",
    "    new_V = np.round(V, 7)\n",
    "    print(to_latex(new_V))\n",
    "else:\n",
    "    print(\"Unitary not found\")"
   ]
  },
  {
   "cell_type": "code",
   "execution_count": 70,
   "id": "bad9ff6a-9d2e-402c-bd1d-41a6a7cfdcd5",
   "metadata": {},
   "outputs": [
    {
     "name": "stdout",
     "output_type": "stream",
     "text": [
      "Unitary found\n",
      "\\begin{pmatrix}\n",
      "-i\\sqrt{0.5} & 0 & 0 & 0 & 0 & 0 & 0 & 0 & 0 & 0 & -\\sqrt{0.5} & 0 & 0 & 0 & 0 & 0\\\\\n",
      "0 & 0 & i\\sqrt{0.5} & 0 & 0 & 0 & 0 & 0 & -\\sqrt{0.5} & 0 & 0 & 0 & 0 & 0 & 0 & 0\\\\\n",
      "0 & 0 & 0 & 0 & -i\\sqrt{0.5} & 0 & 0 & 0 & 0 & 0 & 0 & 0 & 0 & 0 & -\\sqrt{0.5} & 0\\\\\n",
      "0 & 0 & 0 & 0 & 0 & 0 & i\\sqrt{0.5} & 0 & 0 & 0 & 0 & 0 & -\\sqrt{0.5} & 0 & 0 & 0\\\\\n",
      "i\\sqrt{0.5} & 0 & 0 & 0 & 0 & 0 & 0 & 0 & 0 & 0 & -\\sqrt{0.5} & 0 & 0 & 0 & 0 & 0\\\\\n",
      "0 & 0 & -i\\sqrt{0.5} & 0 & 0 & 0 & 0 & 0 & -\\sqrt{0.5} & 0 & 0 & 0 & 0 & 0 & 0 & 0\\\\\n",
      "0 & 0 & 0 & 0 & i\\sqrt{0.5} & 0 & 0 & 0 & 0 & 0 & 0 & 0 & 0 & 0 & -\\sqrt{0.5} & 0\\\\\n",
      "0 & 0 & 0 & 0 & 0 & 0 & i\\sqrt{0.5} & 0 & 0 & 0 & 0 & 0 & \\sqrt{0.5} & 0 & 0 & 0\\\\\n",
      "0 & 0 & 0 & i\\sqrt{0.5} & 0 & 0 & 0 & 0 & 0 & \\sqrt{0.5} & 0 & 0 & 0 & 0 & 0 & 0\\\\\n",
      "0 & -i\\sqrt{0.5} & 0 & 0 & 0 & 0 & 0 & 0 & 0 & 0 & 0 & \\sqrt{0.5} & 0 & 0 & 0 & 0\\\\\n",
      "0 & 0 & 0 & 0 & 0 & 0 & 0 & i\\sqrt{0.5} & 0 & 0 & 0 & 0 & 0 & \\sqrt{0.5} & 0 & 0\\\\\n",
      "0 & 0 & 0 & 0 & 0 & -i\\sqrt{0.5} & 0 & 0 & 0 & 0 & 0 & 0 & 0 & 0 & 0 & \\sqrt{0.5}\\\\\n",
      "0 & 0 & 0 & -i\\sqrt{0.5} & 0 & 0 & 0 & 0 & 0 & \\sqrt{0.5} & 0 & 0 & 0 & 0 & 0 & 0\\\\\n",
      "0 & i\\sqrt{0.5} & 0 & 0 & 0 & 0 & 0 & 0 & 0 & 0 & 0 & \\sqrt{0.5} & 0 & 0 & 0 & 0\\\\\n",
      "0 & 0 & 0 & 0 & 0 & 0 & 0 & -i\\sqrt{0.5} & 0 & 0 & 0 & 0 & 0 & \\sqrt{0.5} & 0 & 0\\\\\n",
      "0 & 0 & 0 & 0 & 0 & -i\\sqrt{0.5} & 0 & 0 & 0 & 0 & 0 & 0 & 0 & 0 & 0 & -\\sqrt{0.5}\\\\\n",
      "\\end{pmatrix}\n"
     ]
    }
   ],
   "source": [
    "# spinful 2 vertical: W\n",
    "\n",
    "a = TensorProduct(sy_gamma_1, sy_gamma_2)\n",
    "b = TensorProduct(sy_gamma_5, sy_id)\n",
    "\n",
    "a = expm(np.array(a, dtype=np.complex128))\n",
    "b = expm(np.array(b, dtype=np.complex128))\n",
    "\n",
    "W = find_unitary_transform(a, b)\n",
    "\n",
    "if (np.allclose(W @ W.conj().T, np.eye(W.shape[0]), rtol=1e-6)):\n",
    "    print(\"Unitary found\")\n",
    "    new_W = np.round(W, 7)\n",
    "    print(to_latex(new_W))\n",
    "else:\n",
    "    print(\"Unitary not found\")"
   ]
  },
  {
   "cell_type": "code",
   "execution_count": null,
   "id": "ea6a189a-23a3-49eb-93a2-6f1390b4e1a7",
   "metadata": {},
   "outputs": [],
   "source": []
  }
 ],
 "metadata": {
  "kernelspec": {
   "display_name": "qudit",
   "language": "python",
   "name": "qudit"
  },
  "language_info": {
   "codemirror_mode": {
    "name": "ipython",
    "version": 3
   },
   "file_extension": ".py",
   "mimetype": "text/x-python",
   "name": "python",
   "nbconvert_exporter": "python",
   "pygments_lexer": "ipython3",
   "version": "3.12.7"
  }
 },
 "nbformat": 4,
 "nbformat_minor": 5
}
