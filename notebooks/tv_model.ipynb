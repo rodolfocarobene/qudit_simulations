{
 "cells": [
  {
   "cell_type": "code",
   "execution_count": 1,
   "id": "6715d37c-e43d-4d07-b317-7a9b1f20d2e2",
   "metadata": {},
   "outputs": [],
   "source": [
    "from primitives.primitives import *\n",
    "from cirq import Circuit, LineQid, measure, sample, Simulator\n",
    "from scipy.linalg import expm\n",
    "import matplotlib.pyplot as plt\n",
    "from numpy.linalg import eig\n",
    "import re\n",
    "from scipy import sparse\n",
    "\n",
    "\n",
    "simulator = Simulator()"
   ]
  },
  {
   "cell_type": "markdown",
   "id": "799fbb46-5eae-4735-bbc3-4fa80830a1a3",
   "metadata": {},
   "source": [
    "## t-V model definition\n",
    "\n",
    "One-dimensional spinless t-V model (range=1):\n",
    "\n",
    "$H = -t \\sum_{i=1}^{L} \\left( c_i^\\dagger c_{i+1} + h.c.\\right) + V \\sum_{i=1}^L n_i n_{i+1}$"
   ]
  },
  {
   "cell_type": "markdown",
   "id": "3400e16a-d03d-4c13-b31b-5161b5e5c8d4",
   "metadata": {},
   "source": [
    "In the 2D case we have to define horizontal and vertical hopping operators.\n",
    "\n",
    "### Horizontal hopping operators\n",
    "\n",
    "$H_x^{hop} (i, i+1) = i \\Gamma^1_{i} \\Gamma^2_{i+1} \\left(\\tilde \\Gamma_i -\\tilde\\Gamma_{i+1}\\right)$"
   ]
  },
  {
   "cell_type": "code",
   "execution_count": 2,
   "id": "902eaf03-d670-4b7e-a9d8-69ca29b48f81",
   "metadata": {},
   "outputs": [
    {
     "data": {
      "text/latex": [
       "$\\displaystyle \\left[\\begin{array}{cccccccccccccccc}0 & 0 & 0 & 0 & 0 & 0 & 0 & 0 & 0 & 0 & 0 & 0 & 0 & 0 & 0 & 0\\\\0 & 0 & 0 & 0 & 0 & 0 & 0 & 0 & 0 & 0 & 0 & -2.0 & 0 & 0 & 0 & 0\\\\0 & 0 & 0 & 0 & 0 & 0 & 0 & 0 & 2.0 & 0 & 0 & 0 & 0 & 0 & 0 & 0\\\\0 & 0 & 0 & 0 & 0 & 0 & 0 & 0 & 0 & 0 & 0 & 0 & 0 & 0 & 0 & 0\\\\0 & 0 & 0 & 0 & 0 & 0 & 0 & 0 & 0 & 0 & 0 & 0 & 0 & 0 & 2.0 & 0\\\\0 & 0 & 0 & 0 & 0 & 0 & 0 & 0 & 0 & 0 & 0 & 0 & 0 & 0 & 0 & 0\\\\0 & 0 & 0 & 0 & 0 & 0 & 0 & 0 & 0 & 0 & 0 & 0 & 0 & 0 & 0 & 0\\\\0 & 0 & 0 & 0 & 0 & 0 & 0 & 0 & 0 & 0 & 0 & 0 & 0 & -2.0 & 0 & 0\\\\0 & 0 & 2.0 & 0 & 0 & 0 & 0 & 0 & 0 & 0 & 0 & 0 & 0 & 0 & 0 & 0\\\\0 & 0 & 0 & 0 & 0 & 0 & 0 & 0 & 0 & 0 & 0 & 0 & 0 & 0 & 0 & 0\\\\0 & 0 & 0 & 0 & 0 & 0 & 0 & 0 & 0 & 0 & 0 & 0 & 0 & 0 & 0 & 0\\\\0 & -2.0 & 0 & 0 & 0 & 0 & 0 & 0 & 0 & 0 & 0 & 0 & 0 & 0 & 0 & 0\\\\0 & 0 & 0 & 0 & 0 & 0 & 0 & 0 & 0 & 0 & 0 & 0 & 0 & 0 & 0 & 0\\\\0 & 0 & 0 & 0 & 0 & 0 & 0 & -2.0 & 0 & 0 & 0 & 0 & 0 & 0 & 0 & 0\\\\0 & 0 & 0 & 0 & 2.0 & 0 & 0 & 0 & 0 & 0 & 0 & 0 & 0 & 0 & 0 & 0\\\\0 & 0 & 0 & 0 & 0 & 0 & 0 & 0 & 0 & 0 & 0 & 0 & 0 & 0 & 0 & 0\\end{array}\\right]$"
      ],
      "text/plain": [
       "Matrix([\n",
       "[0,    0,   0, 0,   0, 0, 0,    0,   0, 0, 0,    0, 0,    0,   0, 0],\n",
       "[0,    0,   0, 0,   0, 0, 0,    0,   0, 0, 0, -2.0, 0,    0,   0, 0],\n",
       "[0,    0,   0, 0,   0, 0, 0,    0, 2.0, 0, 0,    0, 0,    0,   0, 0],\n",
       "[0,    0,   0, 0,   0, 0, 0,    0,   0, 0, 0,    0, 0,    0,   0, 0],\n",
       "[0,    0,   0, 0,   0, 0, 0,    0,   0, 0, 0,    0, 0,    0, 2.0, 0],\n",
       "[0,    0,   0, 0,   0, 0, 0,    0,   0, 0, 0,    0, 0,    0,   0, 0],\n",
       "[0,    0,   0, 0,   0, 0, 0,    0,   0, 0, 0,    0, 0,    0,   0, 0],\n",
       "[0,    0,   0, 0,   0, 0, 0,    0,   0, 0, 0,    0, 0, -2.0,   0, 0],\n",
       "[0,    0, 2.0, 0,   0, 0, 0,    0,   0, 0, 0,    0, 0,    0,   0, 0],\n",
       "[0,    0,   0, 0,   0, 0, 0,    0,   0, 0, 0,    0, 0,    0,   0, 0],\n",
       "[0,    0,   0, 0,   0, 0, 0,    0,   0, 0, 0,    0, 0,    0,   0, 0],\n",
       "[0, -2.0,   0, 0,   0, 0, 0,    0,   0, 0, 0,    0, 0,    0,   0, 0],\n",
       "[0,    0,   0, 0,   0, 0, 0,    0,   0, 0, 0,    0, 0,    0,   0, 0],\n",
       "[0,    0,   0, 0,   0, 0, 0, -2.0,   0, 0, 0,    0, 0,    0,   0, 0],\n",
       "[0,    0,   0, 0, 2.0, 0, 0,    0,   0, 0, 0,    0, 0,    0,   0, 0],\n",
       "[0,    0,   0, 0,   0, 0, 0,    0,   0, 0, 0,    0, 0,    0,   0, 0]])"
      ]
     },
     "execution_count": 2,
     "metadata": {},
     "output_type": "execute_result"
    }
   ],
   "source": [
    "x_hop_matrix = 1j * TensorProduct(sy_gamma_1 * sy_gamma_5, sy_gamma_2) - 1j * TensorProduct(sy_gamma_1, sy_gamma_2 * sy_gamma_5)\n",
    "class HopXGate(Gate):\n",
    "    \"\"\"Horizontal hopping gate.\"\"\"\n",
    "    def _qid_shape_(self):\n",
    "        return (4, 4)\n",
    "    def _unitary_(self):\n",
    "        return np.array(x_hop_matrix)\n",
    "    def _circuit_diagram_info_(self, args):\n",
    "        return [\"H_x(r)\", \"H_x(r+1)\"]\n",
    "x_hop_matrix"
   ]
  },
  {
   "cell_type": "markdown",
   "id": "501ad2ba-9071-41d1-ba2f-4bc5e3f71471",
   "metadata": {},
   "source": [
    "### Vertical hopping operators\n",
    "\n",
    "$H_y^{hop} (i, i+1) = i \\Gamma^3_{i} \\Gamma^4_{i+1} \\left(\\tilde \\Gamma_i -\\tilde\\Gamma_{i+1}\\right)$"
   ]
  },
  {
   "cell_type": "code",
   "execution_count": 3,
   "id": "ff0e0101-a6da-44c7-b43e-c6f73b268804",
   "metadata": {},
   "outputs": [
    {
     "data": {
      "text/latex": [
       "$\\displaystyle \\left[\\begin{array}{cccccccccccccccc}0 & 0 & 0 & 0 & 0 & 0 & 0 & 0 & 0 & 0 & 0 & 0 & 0 & 0 & 0 & 0\\\\0 & 0 & 0 & 0 & 2.0 & 0 & 0 & 0 & 0 & 0 & 0 & 0 & 0 & 0 & 0 & 0\\\\0 & 0 & 0 & 0 & 0 & 0 & 0 & 2.0 & 0 & 0 & 0 & 0 & 0 & 0 & 0 & 0\\\\0 & 0 & 0 & 0 & 0 & 0 & 0 & 0 & 0 & 0 & 0 & 0 & 0 & 0 & 0 & 0\\\\0 & 2.0 & 0 & 0 & 0 & 0 & 0 & 0 & 0 & 0 & 0 & 0 & 0 & 0 & 0 & 0\\\\0 & 0 & 0 & 0 & 0 & 0 & 0 & 0 & 0 & 0 & 0 & 0 & 0 & 0 & 0 & 0\\\\0 & 0 & 0 & 0 & 0 & 0 & 0 & 0 & 0 & 0 & 0 & 0 & 0 & 0 & 0 & 0\\\\0 & 0 & 2.0 & 0 & 0 & 0 & 0 & 0 & 0 & 0 & 0 & 0 & 0 & 0 & 0 & 0\\\\0 & 0 & 0 & 0 & 0 & 0 & 0 & 0 & 0 & 0 & 0 & 0 & 0 & -2.0 & 0 & 0\\\\0 & 0 & 0 & 0 & 0 & 0 & 0 & 0 & 0 & 0 & 0 & 0 & 0 & 0 & 0 & 0\\\\0 & 0 & 0 & 0 & 0 & 0 & 0 & 0 & 0 & 0 & 0 & 0 & 0 & 0 & 0 & 0\\\\0 & 0 & 0 & 0 & 0 & 0 & 0 & 0 & 0 & 0 & 0 & 0 & 0 & 0 & -2.0 & 0\\\\0 & 0 & 0 & 0 & 0 & 0 & 0 & 0 & 0 & 0 & 0 & 0 & 0 & 0 & 0 & 0\\\\0 & 0 & 0 & 0 & 0 & 0 & 0 & 0 & -2.0 & 0 & 0 & 0 & 0 & 0 & 0 & 0\\\\0 & 0 & 0 & 0 & 0 & 0 & 0 & 0 & 0 & 0 & 0 & -2.0 & 0 & 0 & 0 & 0\\\\0 & 0 & 0 & 0 & 0 & 0 & 0 & 0 & 0 & 0 & 0 & 0 & 0 & 0 & 0 & 0\\end{array}\\right]$"
      ],
      "text/plain": [
       "Matrix([\n",
       "[0,   0,   0, 0,   0, 0, 0,   0,    0, 0, 0,    0, 0,    0,    0, 0],\n",
       "[0,   0,   0, 0, 2.0, 0, 0,   0,    0, 0, 0,    0, 0,    0,    0, 0],\n",
       "[0,   0,   0, 0,   0, 0, 0, 2.0,    0, 0, 0,    0, 0,    0,    0, 0],\n",
       "[0,   0,   0, 0,   0, 0, 0,   0,    0, 0, 0,    0, 0,    0,    0, 0],\n",
       "[0, 2.0,   0, 0,   0, 0, 0,   0,    0, 0, 0,    0, 0,    0,    0, 0],\n",
       "[0,   0,   0, 0,   0, 0, 0,   0,    0, 0, 0,    0, 0,    0,    0, 0],\n",
       "[0,   0,   0, 0,   0, 0, 0,   0,    0, 0, 0,    0, 0,    0,    0, 0],\n",
       "[0,   0, 2.0, 0,   0, 0, 0,   0,    0, 0, 0,    0, 0,    0,    0, 0],\n",
       "[0,   0,   0, 0,   0, 0, 0,   0,    0, 0, 0,    0, 0, -2.0,    0, 0],\n",
       "[0,   0,   0, 0,   0, 0, 0,   0,    0, 0, 0,    0, 0,    0,    0, 0],\n",
       "[0,   0,   0, 0,   0, 0, 0,   0,    0, 0, 0,    0, 0,    0,    0, 0],\n",
       "[0,   0,   0, 0,   0, 0, 0,   0,    0, 0, 0,    0, 0,    0, -2.0, 0],\n",
       "[0,   0,   0, 0,   0, 0, 0,   0,    0, 0, 0,    0, 0,    0,    0, 0],\n",
       "[0,   0,   0, 0,   0, 0, 0,   0, -2.0, 0, 0,    0, 0,    0,    0, 0],\n",
       "[0,   0,   0, 0,   0, 0, 0,   0,    0, 0, 0, -2.0, 0,    0,    0, 0],\n",
       "[0,   0,   0, 0,   0, 0, 0,   0,    0, 0, 0,    0, 0,    0,    0, 0]])"
      ]
     },
     "execution_count": 3,
     "metadata": {},
     "output_type": "execute_result"
    }
   ],
   "source": [
    "y_hop_matrix = 1j * TensorProduct(sy_gamma_3 * sy_gamma_5, sy_gamma_4) - 1j * TensorProduct(sy_gamma_3, sy_gamma_4 * sy_gamma_5)\n",
    "class HopYGate(Gate):\n",
    "    \"\"\"Vertical hopping gate.\"\"\"\n",
    "    def _qid_shape_(self):\n",
    "        return (4, 4)\n",
    "    def _unitary_(self):\n",
    "        return np.array(y_hop_matrix)\n",
    "    def _circuit_diagram_info_(self, args):\n",
    "        return [\"H_y(r)\", \"H_y(r+1)\"]\n",
    "y_hop_matrix"
   ]
  },
  {
   "cell_type": "markdown",
   "id": "9da0b3d7-b845-4762-a093-d8327dc6abf2",
   "metadata": {},
   "source": [
    "### Number operator\n",
    "\n",
    "$n_i = \\frac{1}{2} - \\frac{1}{2}\\tilde \\Gamma_i$"
   ]
  },
  {
   "cell_type": "code",
   "execution_count": 19,
   "id": "1410f684-ac7b-43dd-b282-d7db129904bd",
   "metadata": {},
   "outputs": [
    {
     "data": {
      "text/latex": [
       "$\\displaystyle \\left[\\begin{matrix}0 & 0 & 0 & 0\\\\0 & 1.0 & 0 & 0\\\\0 & 0 & 1.0 & 0\\\\0 & 0 & 0 & 0\\end{matrix}\\right]$"
      ],
      "text/plain": [
       "Matrix([\n",
       "[0,   0,   0, 0],\n",
       "[0, 1.0,   0, 0],\n",
       "[0,   0, 1.0, 0],\n",
       "[0,   0,   0, 0]])"
      ]
     },
     "execution_count": 19,
     "metadata": {},
     "output_type": "execute_result"
    }
   ],
   "source": [
    "number_matrix = 0.5 * (sy_id - sy_gamma_5)\n",
    "class NumberGate(Gate):\n",
    "    \"\"\"Number gate.\"\"\"\n",
    "    def _qid_shape_(self):\n",
    "        return (4,)\n",
    "    def _unitary_(self):\n",
    "        return np.array(number_matrix)\n",
    "    def _circuit_diagram_info_(self, args):\n",
    "        return [\"n(r)\"]\n",
    "number_matrix"
   ]
  },
  {
   "cell_type": "code",
   "execution_count": 5,
   "id": "8efec5e8-e832-42ed-9e01-a9c4bdd43cf0",
   "metadata": {},
   "outputs": [
    {
     "data": {
      "text/latex": [
       "$\\displaystyle \\left[\\begin{array}{cccccccccccccccc}0 & 0 & 0 & 0 & 0 & 0 & 0 & 0 & 0 & 0 & 0 & 0 & 0 & 0 & 0 & 0\\\\0 & 0 & 0 & 0 & 0 & 0 & 0 & 0 & 0 & 0 & 0 & 0 & 0 & 0 & 0 & 0\\\\0 & 0 & 0 & 0 & 0 & 0 & 0 & 0 & 0 & 0 & 0 & 0 & 0 & 0 & 0 & 0\\\\0 & 0 & 0 & 0 & 0 & 0 & 0 & 0 & 0 & 0 & 0 & 0 & 0 & 0 & 0 & 0\\\\0 & 0 & 0 & 0 & 0 & 0 & 0 & 0 & 0 & 0 & 0 & 0 & 0 & 0 & 0 & 0\\\\0 & 0 & 0 & 0 & 0 & 1.0 & 0 & 0 & 0 & 0 & 0 & 0 & 0 & 0 & 0 & 0\\\\0 & 0 & 0 & 0 & 0 & 0 & 1.0 & 0 & 0 & 0 & 0 & 0 & 0 & 0 & 0 & 0\\\\0 & 0 & 0 & 0 & 0 & 0 & 0 & 0 & 0 & 0 & 0 & 0 & 0 & 0 & 0 & 0\\\\0 & 0 & 0 & 0 & 0 & 0 & 0 & 0 & 0 & 0 & 0 & 0 & 0 & 0 & 0 & 0\\\\0 & 0 & 0 & 0 & 0 & 0 & 0 & 0 & 0 & 1.0 & 0 & 0 & 0 & 0 & 0 & 0\\\\0 & 0 & 0 & 0 & 0 & 0 & 0 & 0 & 0 & 0 & 1.0 & 0 & 0 & 0 & 0 & 0\\\\0 & 0 & 0 & 0 & 0 & 0 & 0 & 0 & 0 & 0 & 0 & 0 & 0 & 0 & 0 & 0\\\\0 & 0 & 0 & 0 & 0 & 0 & 0 & 0 & 0 & 0 & 0 & 0 & 0 & 0 & 0 & 0\\\\0 & 0 & 0 & 0 & 0 & 0 & 0 & 0 & 0 & 0 & 0 & 0 & 0 & 0 & 0 & 0\\\\0 & 0 & 0 & 0 & 0 & 0 & 0 & 0 & 0 & 0 & 0 & 0 & 0 & 0 & 0 & 0\\\\0 & 0 & 0 & 0 & 0 & 0 & 0 & 0 & 0 & 0 & 0 & 0 & 0 & 0 & 0 & 0\\end{array}\\right]$"
      ],
      "text/plain": [
       "Matrix([\n",
       "[0, 0, 0, 0, 0,   0,   0, 0, 0,   0,   0, 0, 0, 0, 0, 0],\n",
       "[0, 0, 0, 0, 0,   0,   0, 0, 0,   0,   0, 0, 0, 0, 0, 0],\n",
       "[0, 0, 0, 0, 0,   0,   0, 0, 0,   0,   0, 0, 0, 0, 0, 0],\n",
       "[0, 0, 0, 0, 0,   0,   0, 0, 0,   0,   0, 0, 0, 0, 0, 0],\n",
       "[0, 0, 0, 0, 0,   0,   0, 0, 0,   0,   0, 0, 0, 0, 0, 0],\n",
       "[0, 0, 0, 0, 0, 1.0,   0, 0, 0,   0,   0, 0, 0, 0, 0, 0],\n",
       "[0, 0, 0, 0, 0,   0, 1.0, 0, 0,   0,   0, 0, 0, 0, 0, 0],\n",
       "[0, 0, 0, 0, 0,   0,   0, 0, 0,   0,   0, 0, 0, 0, 0, 0],\n",
       "[0, 0, 0, 0, 0,   0,   0, 0, 0,   0,   0, 0, 0, 0, 0, 0],\n",
       "[0, 0, 0, 0, 0,   0,   0, 0, 0, 1.0,   0, 0, 0, 0, 0, 0],\n",
       "[0, 0, 0, 0, 0,   0,   0, 0, 0,   0, 1.0, 0, 0, 0, 0, 0],\n",
       "[0, 0, 0, 0, 0,   0,   0, 0, 0,   0,   0, 0, 0, 0, 0, 0],\n",
       "[0, 0, 0, 0, 0,   0,   0, 0, 0,   0,   0, 0, 0, 0, 0, 0],\n",
       "[0, 0, 0, 0, 0,   0,   0, 0, 0,   0,   0, 0, 0, 0, 0, 0],\n",
       "[0, 0, 0, 0, 0,   0,   0, 0, 0,   0,   0, 0, 0, 0, 0, 0],\n",
       "[0, 0, 0, 0, 0,   0,   0, 0, 0,   0,   0, 0, 0, 0, 0, 0]])"
      ]
     },
     "execution_count": 5,
     "metadata": {},
     "output_type": "execute_result"
    }
   ],
   "source": [
    "double_number_matrix = TensorProduct(number_matrix, number_matrix)\n",
    "class DoubleNumberGate(Gate):\n",
    "    \"\"\"Double number gate.\"\"\"\n",
    "    def _qid_shape_(self):\n",
    "        return (4,4)\n",
    "    def _unitary_(self):\n",
    "        return np.array(double_number_matrix)\n",
    "    def _circuit_diagram_info_(self, args):\n",
    "        return [\"n(r)\", \"n(r+1)\"]\n",
    "double_number_matrix"
   ]
  },
  {
   "cell_type": "markdown",
   "id": "d83e07b8-df2e-4efd-b067-55c97a70fb23",
   "metadata": {},
   "source": [
    "### Evolution gates"
   ]
  },
  {
   "cell_type": "code",
   "execution_count": 6,
   "id": "6a3ea939-87ca-455c-b3b5-100b96bacf0d",
   "metadata": {},
   "outputs": [],
   "source": [
    "def evolve_gate(gate):\n",
    "    class evolved(Gate):\n",
    "        def __init__(self, C=1, t=0.1):\n",
    "            self.C = C  # coefficient\n",
    "            self.t = t  # evolution time\n",
    "            self.matrix = expm(np.array(-1j * self.t * self.C * gate()._unitary_(), dtype=np.complex128))\n",
    "            super()\n",
    "        def _qid_shape_(self):\n",
    "            return gate()._qid_shape_()\n",
    "        def _circuit_diagram_info_(self, args):\n",
    "            return gate()._circuit_diagram_info_(args)\n",
    "        def _unitary_(self):\n",
    "            return self.matrix\n",
    "    return evolved\n",
    "\n",
    "# example:\n",
    "evolution_hopping = evolve_gate(HopYGate)(C = 1, t = 0.5)"
   ]
  },
  {
   "cell_type": "markdown",
   "id": "d07f56d4-3930-4273-9cea-a85723c6a244",
   "metadata": {},
   "source": [
    "## Evolving a state"
   ]
  },
  {
   "cell_type": "code",
   "execution_count": 15,
   "id": "fc457e1d-699c-42e0-8024-ce7e9c63482c",
   "metadata": {},
   "outputs": [],
   "source": [
    "def evolve(qudits, temps, initial=None, T=1, V=0, exact=False, shots=10):\n",
    "\n",
    "    if initial is None:\n",
    "        initial = []\n",
    "\n",
    "    if len(temps) > 1:\n",
    "        if V != 0:\n",
    "            evolution_number = evolve_gate(DoubleNumberGate)(t = temps[1]-temps[0])\n",
    "        evolution_horizontal_hop = evolve_gate(HopXGate)(C=T, t = temps[1]-temps[0])\n",
    "        evolution_vertical_hop = evolve_gate(HopYGate)(C=T, t = temps[1]-temps[0])\n",
    "\n",
    "    results = []\n",
    "    evolution_circuit = []\n",
    "    for idx, t in enumerate(temps):\n",
    "\n",
    "        if t != 0:    \n",
    "            rows, cols = qudits.shape\n",
    "            for row in range(rows):\n",
    "                for col in range(cols):\n",
    "\n",
    "                    # WITHOUT PERIODIC BOUNDS\n",
    "\n",
    "                    # vertical interaction\n",
    "                    if row != rows - 1:\n",
    "                        a = qudits[row][col]\n",
    "                        b = qudits[row+1][col]\n",
    "                        if V != 0:\n",
    "                            evolution_circuit.append(evolution_number(a, b))\n",
    "                        evolution_circuit.append(evolution_vertical_hop(a, b))\n",
    "                    # horizontal interaction\n",
    "                    if col != cols - 1:\n",
    "                        a = qudits[row][col]\n",
    "                        b = qudits[row][col+1]\n",
    "                        if V != 0:\n",
    "                            evolution_circuit.append(evolution_number(a, b))\n",
    "                        evolution_circuit.append(evolution_vertical_hop(a, b))\n",
    "                    \n",
    "        if not exact:\n",
    "            measures = [measure(qudit, key=f\"q{idx}\") for idx, qudit in enumerate(qudits.flatten())]\n",
    "            circuit = Circuit([*initial, *evolution_circuit, *measures])\n",
    "            results.append((circuit, sample(circuit, repetitions=shots)))\n",
    "        else:\n",
    "            circuit = Circuit([*initial, *evolution_circuit])\n",
    "            results.append((circuit, simulator.simulate(circuit)))\n",
    "            \n",
    "    return results"
   ]
  },
  {
   "cell_type": "markdown",
   "id": "520767a5-9a3e-4bca-9562-ca72b49aef87",
   "metadata": {},
   "source": [
    "## Constraints\n",
    "\n",
    "The constraint is (for every plaquette):\n",
    "$\\Gamma^{23}_{r}\\Gamma^{23}_{r+x}\\Gamma^{23}_{r+x+y}\\Gamma^{23}_{r+y} \\tilde\\Gamma_r \\tilde\\Gamma_{r+x+y}= I$\n",
    "\n",
    "We call the first operator G"
   ]
  },
  {
   "cell_type": "code",
   "execution_count": 12,
   "id": "8a945dc2-cc76-4f3d-a709-005022e6dd44",
   "metadata": {},
   "outputs": [
    {
     "data": {
      "text/plain": [
       "array([[0.500000000000000, 0, 0, ..., 0, 0, -0.500000000000000],\n",
       "       [0, 0.500000000000000, 0, ..., 0, 0.500000000000000, 0],\n",
       "       [0, 0, 0.500000000000000, ..., 0.500000000000000, 0, 0],\n",
       "       ...,\n",
       "       [0, 0, 0.500000000000000, ..., 0.500000000000000, 0, 0],\n",
       "       [0, 0.500000000000000, 0, ..., 0, 0.500000000000000, 0],\n",
       "       [-0.500000000000000, 0, 0, ..., 0, 0, 0.500000000000000]],\n",
       "      dtype=object)"
      ]
     },
     "execution_count": 12,
     "metadata": {},
     "output_type": "execute_result"
    }
   ],
   "source": [
    "G = np.array(TensorProduct(sy_gamma_1*sy_gamma_3, sy_gamma_2*sy_gamma_3, sy_gamma_4*sy_gamma_2, sy_gamma_1*sy_gamma_4))\n",
    "\n",
    "class Project_Constraint_minus(Gate):\n",
    "    \"\"\"Gate that prepare an initial state, from the coefficients.\"\"\"\n",
    "\n",
    "    def _qid_shape_(self):\n",
    "        return (4, 4, 4, 4)\n",
    "\n",
    "    def _unitary_(self):\n",
    "        return (np.eye(4**4) - G)/2\n",
    "\n",
    "    def _circuit_diagram_info_(self, args):\n",
    "        return [\"P-\", \"P-\", \"P-\", \"P-\"]\n",
    "\n",
    "class Project_Constraint(Gate):\n",
    "    \"\"\"Gate that prepare an initial state, from the coefficients.\"\"\"\n",
    "\n",
    "    def _qid_shape_(self):\n",
    "        return (4, 4, 4, 4)\n",
    "\n",
    "    def _unitary_(self):\n",
    "        return (np.eye(4**4) + G)/2\n",
    "\n",
    "    def _circuit_diagram_info_(self, args):\n",
    "        return [\"P+\", \"P+\", \"P+\", \"P+\"]\n",
    "Project_Constraint()._unitary_()"
   ]
  },
  {
   "cell_type": "markdown",
   "id": "4ecead64-3ea3-4da0-ac32-4ca8f4c477dc",
   "metadata": {},
   "source": [
    "### Add fermions\n",
    "\n",
    "The creation operator for pairs of fermions is:\n",
    "\n",
    "$f^\\dagger_r f^\\dagger_{r+x}=i \\Gamma^1_r \\Gamma^2_{r+x} \\frac{(I + \\tilde\\Gamma_r)(I + \\tilde \\Gamma_{r+x})}{4}$"
   ]
  },
  {
   "cell_type": "code",
   "execution_count": 13,
   "id": "2da95344-e06f-477b-a2b9-2a100e3bf947",
   "metadata": {},
   "outputs": [
    {
     "data": {
      "text/plain": [
       "array([[0, 0, 0, 0, 0, 0, 0, 0, 0, 0, 0, 0, 0, 0, 0, 0],\n",
       "       [0, 0, 0, 0, 0, 0, 0, 0, 0, 0, 0, 0, 0, 0, 0, 0],\n",
       "       [0, 0, 0, 0, 0, 0, 0, 0, 0, 0, 0, 0, 0, 0, 0, 0],\n",
       "       [0, 0, 0, 0, 0, 0, 0, 0, 0, 0, 0, 0, 0, 0, 0, 0],\n",
       "       [0, 0, 0, 0, 0, 0, 0, 0, 0, 0, 0, 0, 0, 0, 0, 0],\n",
       "       [0, 0, 0, 0, 0, 0, 0, 0, 0, 0, 0, 0, 0, 0, 0, 1.00000000000000],\n",
       "       [0, 0, 0, 0, 0, 0, 0, 0, 0, 0, 0, 0, -1.00000000000000, 0, 0, 0],\n",
       "       [0, 0, 0, 0, 0, 0, 0, 0, 0, 0, 0, 0, 0, 0, 0, 0],\n",
       "       [0, 0, 0, 0, 0, 0, 0, 0, 0, 0, 0, 0, 0, 0, 0, 0],\n",
       "       [0, 0, 0, 1.00000000000000, 0, 0, 0, 0, 0, 0, 0, 0, 0, 0, 0, 0],\n",
       "       [-1.00000000000000, 0, 0, 0, 0, 0, 0, 0, 0, 0, 0, 0, 0, 0, 0, 0],\n",
       "       [0, 0, 0, 0, 0, 0, 0, 0, 0, 0, 0, 0, 0, 0, 0, 0],\n",
       "       [0, 0, 0, 0, 0, 0, 0, 0, 0, 0, 0, 0, 0, 0, 0, 0],\n",
       "       [0, 0, 0, 0, 0, 0, 0, 0, 0, 0, 0, 0, 0, 0, 0, 0],\n",
       "       [0, 0, 0, 0, 0, 0, 0, 0, 0, 0, 0, 0, 0, 0, 0, 0],\n",
       "       [0, 0, 0, 0, 0, 0, 0, 0, 0, 0, 0, 0, 0, 0, 0, 0]], dtype=object)"
      ]
     },
     "execution_count": 13,
     "metadata": {},
     "output_type": "execute_result"
    }
   ],
   "source": [
    "class AddPair(Gate):\n",
    "    \"\"\"Add pair of fermions (r)+(r+x).\"\"\"\n",
    "    \n",
    "    def _qid_shape_(self):\n",
    "        return (4, 4)\n",
    "\n",
    "    def _unitary_(self):\n",
    "        return np.array(1j * (1/4) * TensorProduct(sy_gamma_1, sy_gamma_2) * TensorProduct(sy_id + sy_gamma_5, sy_id + sy_gamma_5))\n",
    "\n",
    "    def _circuit_diagram_info_(self, args):\n",
    "        return [\"f+\", \"f+\"]\n",
    "\n",
    "AddPair()._unitary_()"
   ]
  },
  {
   "cell_type": "markdown",
   "id": "50e1cbc0-73a6-4f33-8173-d47cbbd0c638",
   "metadata": {},
   "source": [
    "## Evolving a 4x2 lattice"
   ]
  },
  {
   "cell_type": "code",
   "execution_count": 51,
   "id": "80af6e2c-6864-4b82-a292-9c56e122e650",
   "metadata": {},
   "outputs": [],
   "source": [
    "rows = 2\n",
    "columns = 4\n",
    "\n",
    "T = -1\n",
    "V = 0.01\n",
    "\n",
    "qudits = np.array(LineQid.range(rows * columns, dimension=4)).reshape(rows, columns)\n",
    "temps = np.arange(0, 11, 5)\n",
    "\n",
    "# initial circuit that ensures that the correct subspace is used (really?)\n",
    "initial_circuit = [\n",
    "    #GateId()(qudits[0][0], qudits[0][1], qudits[1][1], qudits[1][0]),\n",
    "    Project_Constraint()(qudits[0][0], qudits[0][1], qudits[1][1], qudits[1][0]),\n",
    "    Project_Constraint()(qudits[0][1], qudits[0][2], qudits[1][2], qudits[1][1]),\n",
    "    Project_Constraint()(qudits[0][2], qudits[0][3], qudits[1][3], qudits[1][2]),\n",
    "    \n",
    "    #Project_Constraint()(qudits[1][0], qudits[1][1], qudits[0][1], qudits[0][0]),\n",
    "    #Project_Constraint()(qudits[1][1], qudits[1][2], qudits[0][2], qudits[0][1]),\n",
    "    #Project_Constraint()(qudits[1][2], qudits[1][3], qudits[0][3], qudits[0][2]),\n",
    "    #Project_Constraint()(qudits[0][3], qudits[0][0], qudits[0][1], qudits[1][3]),\n",
    "\n",
    "    AddPair()(qudits[0][0], qudits[0][1]),\n",
    "    AddPair()(qudits[1][1], qudits[1][2]),\n",
    "\n",
    "]\n",
    "\n",
    "# results is a list of tuples, every tuple contains the circuit and the result shots\n",
    "exact = True\n",
    "results = evolve(qudits, temps, initial_circuit, T=T, V=V, shots=10, exact=exact)\n",
    "if exact:\n",
    "    result_states = [res[1].state_vector() for res in results]\n",
    "else:\n",
    "    result_states = [from_measurements_to_state(res[1]) for res in results]"
   ]
  },
  {
   "cell_type": "code",
   "execution_count": 52,
   "id": "be159b6c-3559-4715-8172-6aaf8b4a94df",
   "metadata": {},
   "outputs": [
    {
     "data": {
      "text/html": [
       "<pre style=\"overflow: auto; white-space: pre;\">0 (d=4): ───P+────────f+───n(r)─────H_y(r)─────n(r)─────H_y(r)─────────────────────────────────────────────────────────────────────────────────────────────────────────────────────────────\n",
       "            │         │    │        │          │        │\n",
       "1 (d=4): ───P+───P+───f+───┼────────┼──────────n(r+1)───H_y(r+1)───n(r)─────H_y(r)─────n(r)─────H_y(r)─────────────────────────────────────────────────────────────────────────────────────\n",
       "            │    │         │        │                              │        │          │        │\n",
       "2 (d=4): ───┼────P+───P+───┼────────┼──────────────────────────────┼────────┼──────────n(r+1)───H_y(r+1)───n(r)─────H_y(r)─────n(r)─────H_y(r)─────────────────────────────────────────────\n",
       "            │    │    │    │        │                              │        │                              │        │          │        │\n",
       "3 (d=4): ───┼────┼────P+───┼────────┼──────────────────────────────┼────────┼──────────────────────────────┼────────┼──────────n(r+1)───H_y(r+1)───n(r)─────H_y(r)─────────────────────────\n",
       "            │    │    │    │        │                              │        │                              │        │                              │        │\n",
       "4 (d=4): ───P+───┼────┼────n(r+1)───H_y(r+1)───────────────────────┼────────┼──────────n(r)─────H_y(r)─────┼────────┼──────────────────────────────┼────────┼──────────────────────────────\n",
       "            │    │    │                                            │        │          │        │          │        │                              │        │\n",
       "5 (d=4): ───P+───P+───┼────f+──────────────────────────────────────n(r+1)───H_y(r+1)───n(r+1)───H_y(r+1)───┼────────┼──────────n(r)─────H_y(r)─────┼────────┼──────────────────────────────\n",
       "                 │    │    │                                                                               │        │          │        │          │        │\n",
       "6 (d=4): ────────P+───P+───f+──────────────────────────────────────────────────────────────────────────────n(r+1)───H_y(r+1)───n(r+1)───H_y(r+1)───┼────────┼──────────n(r)─────H_y(r)─────\n",
       "                      │                                                                                                                            │        │          │        │\n",
       "7 (d=4): ─────────────P+───────────────────────────────────────────────────────────────────────────────────────────────────────────────────────────n(r+1)───H_y(r+1)───n(r+1)───H_y(r+1)───</pre>"
      ],
      "text/plain": [
       "0 (d=4): ───P+────────f+───n(r)─────H_y(r)─────n(r)─────H_y(r)─────────────────────────────────────────────────────────────────────────────────────────────────────────────────────────────\n",
       "            │         │    │        │          │        │\n",
       "1 (d=4): ───P+───P+───f+───┼────────┼──────────n(r+1)───H_y(r+1)───n(r)─────H_y(r)─────n(r)─────H_y(r)─────────────────────────────────────────────────────────────────────────────────────\n",
       "            │    │         │        │                              │        │          │        │\n",
       "2 (d=4): ───┼────P+───P+───┼────────┼──────────────────────────────┼────────┼──────────n(r+1)───H_y(r+1)───n(r)─────H_y(r)─────n(r)─────H_y(r)─────────────────────────────────────────────\n",
       "            │    │    │    │        │                              │        │                              │        │          │        │\n",
       "3 (d=4): ───┼────┼────P+───┼────────┼──────────────────────────────┼────────┼──────────────────────────────┼────────┼──────────n(r+1)───H_y(r+1)───n(r)─────H_y(r)─────────────────────────\n",
       "            │    │    │    │        │                              │        │                              │        │                              │        │\n",
       "4 (d=4): ───P+───┼────┼────n(r+1)───H_y(r+1)───────────────────────┼────────┼──────────n(r)─────H_y(r)─────┼────────┼──────────────────────────────┼────────┼──────────────────────────────\n",
       "            │    │    │                                            │        │          │        │          │        │                              │        │\n",
       "5 (d=4): ───P+───P+───┼────f+──────────────────────────────────────n(r+1)───H_y(r+1)───n(r+1)───H_y(r+1)───┼────────┼──────────n(r)─────H_y(r)─────┼────────┼──────────────────────────────\n",
       "                 │    │    │                                                                               │        │          │        │          │        │\n",
       "6 (d=4): ────────P+───P+───f+──────────────────────────────────────────────────────────────────────────────n(r+1)───H_y(r+1)───n(r+1)───H_y(r+1)───┼────────┼──────────n(r)─────H_y(r)─────\n",
       "                      │                                                                                                                            │        │          │        │\n",
       "7 (d=4): ─────────────P+───────────────────────────────────────────────────────────────────────────────────────────────────────────────────────────n(r+1)───H_y(r+1)───n(r+1)───H_y(r+1)───"
      ]
     },
     "execution_count": 52,
     "metadata": {},
     "output_type": "execute_result"
    }
   ],
   "source": [
    "results[1][0]"
   ]
  },
  {
   "cell_type": "code",
   "execution_count": 53,
   "id": "e31d3dd9-94e8-4f2f-b432-5dfdb24b9803",
   "metadata": {},
   "outputs": [
    {
     "data": {
      "text/plain": [
       "measurements: (no measurements)\n",
       "\n",
       "qubits: (cirq.LineQid(0, dimension=4), cirq.LineQid(1, dimension=4), cirq.LineQid(5, dimension=4), cirq.LineQid(4, dimension=4), cirq.LineQid(2, dimension=4), cirq.LineQid(6, dimension=4), cirq.LineQid(3, dimension=4), cirq.LineQid(7, dimension=4))\n",
       "output vector: 0.125|11130200⟩ + 0.125|11133133⟩ - 0.125|12230233⟩ + 0.125|12233100⟩ + 0.125|21100233⟩ - 0.125|21103100⟩ + 0.125|22200200⟩ + 0.125|22203133⟩\n",
       "\n",
       "phase:\n",
       "output vector: |⟩"
      ]
     },
     "execution_count": 53,
     "metadata": {},
     "output_type": "execute_result"
    }
   ],
   "source": [
    "test = results[0][1]\n",
    "test"
   ]
  },
  {
   "cell_type": "code",
   "execution_count": 54,
   "id": "46784410-a563-43df-b0a9-01ff4af9d012",
   "metadata": {},
   "outputs": [
    {
     "data": {
      "text/plain": [
       "1.0"
      ]
     },
     "execution_count": 54,
     "metadata": {},
     "output_type": "execute_result"
    }
   ],
   "source": [
    "def expectation_value(result, qudits, operator):\n",
    "    rho = test.density_matrix_of(qudits)\n",
    "    \n",
    "    srho = sparse.csr_matrix(np.array(rho, dtype=np.complex128)) \n",
    "    srho /= srho.trace()\n",
    "    shop = sparse.csr_matrix(np.array(operator, dtype=np.complex128))\n",
    "    val = srho * shop\n",
    "\n",
    "    tr = val.trace()\n",
    "    if np.imag(tr) != 0:\n",
    "        print(f\"Casting {tr} to real\")\n",
    "    return np.real(tr)\n",
    "\n",
    "expectation_value(results[0][1], [qudits[0][0]], number_matrix)"
   ]
  },
  {
   "cell_type": "markdown",
   "id": "89182690-13ab-4519-8712-22d09e3ece3c",
   "metadata": {},
   "source": [
    "## Operators evolution"
   ]
  },
  {
   "cell_type": "code",
   "execution_count": 55,
   "id": "63ce5678-9e57-4e93-b498-727ed7fc2d21",
   "metadata": {},
   "outputs": [],
   "source": [
    "line_styles = ['-.', '--', '-.', ':', '-.', '--', '-.', ':']\n",
    "markers = ['o', 's', 'D', '^', 'v', '<', '>', 'p']"
   ]
  },
  {
   "cell_type": "markdown",
   "id": "ec6e88a0-2674-4d7b-937a-f196b3650af0",
   "metadata": {},
   "source": [
    "### Constraints"
   ]
  },
  {
   "cell_type": "code",
   "execution_count": 56,
   "id": "ee598490-d9cf-4f3c-9896-04199da33077",
   "metadata": {},
   "outputs": [
    {
     "data": {
      "text/plain": [
       "(-1.1, 1.1)"
      ]
     },
     "execution_count": 56,
     "metadata": {},
     "output_type": "execute_result"
    },
    {
     "data": {
      "image/png": "[encoded data removed]",
      "text/plain": [
       "<Figure size 640x480 with 1 Axes>"
      ]
     },
     "metadata": {},
     "output_type": "display_data"
    }
   ],
   "source": [
    "plaqs = [\n",
    "    [qudits[0][0], qudits[0][1], qudits[1][0], qudits[1][1]],\n",
    "    [qudits[0][1], qudits[0][2], qudits[1][1], qudits[1][2]],\n",
    "    [qudits[0][2], qudits[0][3], qudits[1][2], qudits[1][3]]\n",
    "]\n",
    "# operator G (order different from before...)\n",
    "operator = np.array(TensorProduct(sy_gamma_1*sy_gamma_3, sy_gamma_2*sy_gamma_3, sy_gamma_1*sy_gamma_4, sy_gamma_4*sy_gamma_2))\n",
    "\n",
    "evol_res = {\"0\": [], \"1\": [], \"2\": []}\n",
    "\n",
    "for idx, plaquette in enumerate(plaqs):\n",
    "    for state in results:\n",
    "        #operator = G\n",
    "        val = expectation_value(state[1], plaquette, operator)\n",
    "        evol_res[str(idx)].append(np.abs(val))\n",
    "\n",
    "for i in range(3):\n",
    "    plt.plot(temps, evol_res[str(i)], label=f\"plaquette {i}\", linestyle=line_styles[i], marker=markers[i])\n",
    "    \n",
    "plt.title(\"Constraint Evolution\")\n",
    "plt.xlabel(\"Time\")\n",
    "plt.ylabel(\"<G>\")\n",
    "plt.legend()\n",
    "plt.ylim(-1.1, 1.1)"
   ]
  },
  {
   "cell_type": "markdown",
   "id": "a4e7ac6a-1c4e-42ae-a3f8-8addcbadb5ba",
   "metadata": {},
   "source": [
    "### Numbers"
   ]
  },
  {
   "cell_type": "code",
   "execution_count": 57,
   "id": "cf7ac6c8-586d-43c6-9cff-2b4e07ae2236",
   "metadata": {},
   "outputs": [
    {
     "data": {
      "text/plain": [
       "<matplotlib.legend.Legend at 0x713bab3e8d70>"
      ]
     },
     "execution_count": 57,
     "metadata": {},
     "output_type": "execute_result"
    },
    {
     "data": {
      "image/png": "[encoded data removed]",
      "text/plain": [
       "<Figure size 640x480 with 1 Axes>"
      ]
     },
     "metadata": {},
     "output_type": "display_data"
    }
   ],
   "source": [
    "subsystems = [\n",
    "    [0], [1], [2], [3], [4], [5], [6], [7]\n",
    "]\n",
    "num_evol_res = {str(i[0]): [] for i in subsystems}\n",
    "\n",
    "for idx, sys in enumerate(subsystems):\n",
    "    for state in results:\n",
    "        operator = number_matrix\n",
    "        val = expectation_value(state, [qudits.flatten()[idx]], operator)\n",
    "        num_evol_res[str(idx)].append(np.abs(val))\n",
    "        \n",
    "for i, key in enumerate(num_evol_res):\n",
    "    plt.plot(temps, num_evol_res[key], label=f\"qubit {key}\", linestyle=line_styles[i], marker=markers[i])\n",
    "    \n",
    "plt.title(\"Number operators\")\n",
    "plt.xlabel(\"Time\")\n",
    "plt.ylabel(\"<n>\")\n",
    "plt.legend()"
   ]
  },
  {
   "cell_type": "markdown",
   "id": "3603da64-2794-4075-89cf-0b18f694055a",
   "metadata": {},
   "source": [
    "### Hamiltonian"
   ]
  },
  {
   "cell_type": "code",
   "execution_count": 58,
   "id": "39bdeeab-a822-47d4-90a8-fbdab57add2d",
   "metadata": {},
   "outputs": [
    {
     "data": {
      "text/plain": [
       "Text(0, 0.5, '<E>')"
      ]
     },
     "execution_count": 58,
     "metadata": {},
     "output_type": "execute_result"
    },
    {
     "data": {
      "image/png": "[encoded data removed]",
      "text/plain": [
       "<Figure size 640x480 with 1 Axes>"
      ]
     },
     "metadata": {},
     "output_type": "display_data"
    }
   ],
   "source": [
    "x_hop_couples = []\n",
    "y_hop_couples = []\n",
    "\n",
    "rows, cols = qudits.shape\n",
    "for row in range(rows):\n",
    "    for col in range(cols):\n",
    "        if row != rows - 1:\n",
    "            y_hop_couples.append([qudits[row][col], qudits[row+1][col]])\n",
    "        if col != cols - 1:\n",
    "            x_hop_couples.append([qudits[row][col], qudits[row][col+1]])\n",
    "\n",
    "\n",
    "hamiltonian_results = []\n",
    "\n",
    "for state in results:\n",
    "    ham = 0\n",
    "\n",
    "    # number term\n",
    "    couples = x_hop_couples + y_hop_couples\n",
    "    for couple in couples:\n",
    "        n = 0.5 * (sy_id - sy_gamma_5)\n",
    "        operator = V * double_number_matrix\n",
    "        val = expectation_value(state, couple, operator)\n",
    "        ham += val\n",
    "\n",
    "    # x_hop term\n",
    "    for couple in x_hop_couples:\n",
    "        operator = T * x_hop_matrix\n",
    "        val = expectation_value(state, couple, operator)\n",
    "        ham += val    \n",
    "        \n",
    "    # y_hop term\n",
    "    for couple in y_hop_couples:\n",
    "        operator = T * y_hop_matrix\n",
    "        val = expectation_value(state, couple, operator)\n",
    "        ham += val\n",
    "\n",
    "    hamiltonian_results.append(ham)\n",
    "\n",
    "plt.plot(temps, hamiltonian_results, \"o--\",)\n",
    "    \n",
    "plt.title(\"Hamiltonian\")\n",
    "plt.xlabel(\"Time\")\n",
    "plt.ylabel(\"<E>\")"
   ]
  },
  {
   "cell_type": "code",
   "execution_count": null,
   "id": "8a430335-4df1-4fce-b833-d0c326176619",
   "metadata": {},
   "outputs": [],
   "source": []
  }
 ],
 "metadata": {
  "kernelspec": {
   "display_name": "qudit",
   "language": "python",
   "name": "qudit"
  },
  "language_info": {
   "codemirror_mode": {
    "name": "ipython",
    "version": 3
   },
   "file_extension": ".py",
   "mimetype": "text/x-python",
   "name": "python",
   "nbconvert_exporter": "python",
   "pygments_lexer": "ipython3",
   "version": "3.12.4"
  }
 },
 "nbformat": 4,
 "nbformat_minor": 5
}
