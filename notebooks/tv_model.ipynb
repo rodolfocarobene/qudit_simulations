{
 "cells": [
  {
   "cell_type": "code",
   "execution_count": 1,
   "id": "6715d37c-e43d-4d07-b317-7a9b1f20d2e2",
   "metadata": {},
   "outputs": [],
   "source": [
    "from primitives.primitives import *\n",
    "from cirq import Circuit, LineQid, measure, sample, Simulator\n",
    "from scipy.linalg import expm\n",
    "import matplotlib.pyplot as plt\n",
    "from numpy.linalg import eig\n",
    "import re\n",
    "from scipy import sparse\n",
    "from scipy.constants import hbar\n",
    "\n",
    "simulator = Simulator()"
   ]
  },
  {
   "cell_type": "markdown",
   "id": "799fbb46-5eae-4735-bbc3-4fa80830a1a3",
   "metadata": {},
   "source": [
    "## t-V model definition\n",
    "\n",
    "One-dimensional spinless t-V model (range=1):\n",
    "\n",
    "$H = -t \\sum_{i=1}^{L} \\left( c_i^\\dagger c_{i+1} + h.c.\\right) + V \\sum_{i=1}^L n_i n_{i+1}$"
   ]
  },
  {
   "cell_type": "markdown",
   "id": "3400e16a-d03d-4c13-b31b-5161b5e5c8d4",
   "metadata": {},
   "source": [
    "In the 2D case we have to define horizontal and vertical hopping operators.\n",
    "\n",
    "### Horizontal hopping operators\n",
    "\n",
    "$H_x^{hop} (i, i+1) = i \\Gamma^1_{i} \\Gamma^2_{i+1} \\left(\\tilde \\Gamma_i -\\tilde\\Gamma_{i+1}\\right)$"
   ]
  },
  {
   "cell_type": "code",
   "execution_count": 2,
   "id": "902eaf03-d670-4b7e-a9d8-69ca29b48f81",
   "metadata": {},
   "outputs": [
    {
     "data": {
      "text/latex": [
       "$\\displaystyle \\left[\\begin{array}{cccccccccccccccc}0 & 0 & 0 & 0 & 0 & 0 & 0 & 0 & 0 & 0 & 0 & 0 & 0 & 0 & 0 & 0\\\\0 & 0 & 0 & 0 & 0 & 0 & 0 & 0 & 0 & 0 & 0 & -1.0 & 0 & 0 & 0 & 0\\\\0 & 0 & 0 & 0 & 0 & 0 & 0 & 0 & 1.0 & 0 & 0 & 0 & 0 & 0 & 0 & 0\\\\0 & 0 & 0 & 0 & 0 & 0 & 0 & 0 & 0 & 0 & 0 & 0 & 0 & 0 & 0 & 0\\\\0 & 0 & 0 & 0 & 0 & 0 & 0 & 0 & 0 & 0 & 0 & 0 & 0 & 0 & 1.0 & 0\\\\0 & 0 & 0 & 0 & 0 & 0 & 0 & 0 & 0 & 0 & 0 & 0 & 0 & 0 & 0 & 0\\\\0 & 0 & 0 & 0 & 0 & 0 & 0 & 0 & 0 & 0 & 0 & 0 & 0 & 0 & 0 & 0\\\\0 & 0 & 0 & 0 & 0 & 0 & 0 & 0 & 0 & 0 & 0 & 0 & 0 & -1.0 & 0 & 0\\\\0 & 0 & 1.0 & 0 & 0 & 0 & 0 & 0 & 0 & 0 & 0 & 0 & 0 & 0 & 0 & 0\\\\0 & 0 & 0 & 0 & 0 & 0 & 0 & 0 & 0 & 0 & 0 & 0 & 0 & 0 & 0 & 0\\\\0 & 0 & 0 & 0 & 0 & 0 & 0 & 0 & 0 & 0 & 0 & 0 & 0 & 0 & 0 & 0\\\\0 & -1.0 & 0 & 0 & 0 & 0 & 0 & 0 & 0 & 0 & 0 & 0 & 0 & 0 & 0 & 0\\\\0 & 0 & 0 & 0 & 0 & 0 & 0 & 0 & 0 & 0 & 0 & 0 & 0 & 0 & 0 & 0\\\\0 & 0 & 0 & 0 & 0 & 0 & 0 & -1.0 & 0 & 0 & 0 & 0 & 0 & 0 & 0 & 0\\\\0 & 0 & 0 & 0 & 1.0 & 0 & 0 & 0 & 0 & 0 & 0 & 0 & 0 & 0 & 0 & 0\\\\0 & 0 & 0 & 0 & 0 & 0 & 0 & 0 & 0 & 0 & 0 & 0 & 0 & 0 & 0 & 0\\end{array}\\right]$"
      ],
      "text/plain": [
       "Matrix([\n",
       "[0,    0,   0, 0,   0, 0, 0,    0,   0, 0, 0,    0, 0,    0,   0, 0],\n",
       "[0,    0,   0, 0,   0, 0, 0,    0,   0, 0, 0, -1.0, 0,    0,   0, 0],\n",
       "[0,    0,   0, 0,   0, 0, 0,    0, 1.0, 0, 0,    0, 0,    0,   0, 0],\n",
       "[0,    0,   0, 0,   0, 0, 0,    0,   0, 0, 0,    0, 0,    0,   0, 0],\n",
       "[0,    0,   0, 0,   0, 0, 0,    0,   0, 0, 0,    0, 0,    0, 1.0, 0],\n",
       "[0,    0,   0, 0,   0, 0, 0,    0,   0, 0, 0,    0, 0,    0,   0, 0],\n",
       "[0,    0,   0, 0,   0, 0, 0,    0,   0, 0, 0,    0, 0,    0,   0, 0],\n",
       "[0,    0,   0, 0,   0, 0, 0,    0,   0, 0, 0,    0, 0, -1.0,   0, 0],\n",
       "[0,    0, 1.0, 0,   0, 0, 0,    0,   0, 0, 0,    0, 0,    0,   0, 0],\n",
       "[0,    0,   0, 0,   0, 0, 0,    0,   0, 0, 0,    0, 0,    0,   0, 0],\n",
       "[0,    0,   0, 0,   0, 0, 0,    0,   0, 0, 0,    0, 0,    0,   0, 0],\n",
       "[0, -1.0,   0, 0,   0, 0, 0,    0,   0, 0, 0,    0, 0,    0,   0, 0],\n",
       "[0,    0,   0, 0,   0, 0, 0,    0,   0, 0, 0,    0, 0,    0,   0, 0],\n",
       "[0,    0,   0, 0,   0, 0, 0, -1.0,   0, 0, 0,    0, 0,    0,   0, 0],\n",
       "[0,    0,   0, 0, 1.0, 0, 0,    0,   0, 0, 0,    0, 0,    0,   0, 0],\n",
       "[0,    0,   0, 0,   0, 0, 0,    0,   0, 0, 0,    0, 0,    0,   0, 0]])"
      ]
     },
     "execution_count": 2,
     "metadata": {},
     "output_type": "execute_result"
    }
   ],
   "source": [
    "x_hop_matrix = 1j * TensorProduct(sy_gamma_1 * sy_gamma_5, sy_gamma_2) - 1j * TensorProduct(sy_gamma_1, sy_gamma_2 * sy_gamma_5)\n",
    "x_hop_matrix /= 2\n",
    "class HopXGate(Gate):\n",
    "    \"\"\"Horizontal hopping gate.\"\"\"\n",
    "    def _qid_shape_(self):\n",
    "        return (4, 4)\n",
    "    def _unitary_(self):\n",
    "        return np.array(x_hop_matrix, dtype=np.complex128)\n",
    "    def _circuit_diagram_info_(self, args):\n",
    "        return [\"H_x(r)\", \"H_x(r+1)\"]\n",
    "x_hop_matrix"
   ]
  },
  {
   "cell_type": "markdown",
   "id": "501ad2ba-9071-41d1-ba2f-4bc5e3f71471",
   "metadata": {},
   "source": [
    "### Vertical hopping operators\n",
    "\n",
    "$H_y^{hop} (i, i+1) = i \\Gamma^3_{i} \\Gamma^4_{i+1} \\left(\\tilde \\Gamma_i -\\tilde\\Gamma_{i+1}\\right)$"
   ]
  },
  {
   "cell_type": "code",
   "execution_count": 3,
   "id": "ff0e0101-a6da-44c7-b43e-c6f73b268804",
   "metadata": {},
   "outputs": [
    {
     "data": {
      "text/latex": [
       "$\\displaystyle \\left[\\begin{array}{cccccccccccccccc}0 & 0 & 0 & 0 & 0 & 0 & 0 & 0 & 0 & 0 & 0 & 0 & 0 & 0 & 0 & 0\\\\0 & 0 & 0 & 0 & 1.0 & 0 & 0 & 0 & 0 & 0 & 0 & 0 & 0 & 0 & 0 & 0\\\\0 & 0 & 0 & 0 & 0 & 0 & 0 & 1.0 & 0 & 0 & 0 & 0 & 0 & 0 & 0 & 0\\\\0 & 0 & 0 & 0 & 0 & 0 & 0 & 0 & 0 & 0 & 0 & 0 & 0 & 0 & 0 & 0\\\\0 & 1.0 & 0 & 0 & 0 & 0 & 0 & 0 & 0 & 0 & 0 & 0 & 0 & 0 & 0 & 0\\\\0 & 0 & 0 & 0 & 0 & 0 & 0 & 0 & 0 & 0 & 0 & 0 & 0 & 0 & 0 & 0\\\\0 & 0 & 0 & 0 & 0 & 0 & 0 & 0 & 0 & 0 & 0 & 0 & 0 & 0 & 0 & 0\\\\0 & 0 & 1.0 & 0 & 0 & 0 & 0 & 0 & 0 & 0 & 0 & 0 & 0 & 0 & 0 & 0\\\\0 & 0 & 0 & 0 & 0 & 0 & 0 & 0 & 0 & 0 & 0 & 0 & 0 & -1.0 & 0 & 0\\\\0 & 0 & 0 & 0 & 0 & 0 & 0 & 0 & 0 & 0 & 0 & 0 & 0 & 0 & 0 & 0\\\\0 & 0 & 0 & 0 & 0 & 0 & 0 & 0 & 0 & 0 & 0 & 0 & 0 & 0 & 0 & 0\\\\0 & 0 & 0 & 0 & 0 & 0 & 0 & 0 & 0 & 0 & 0 & 0 & 0 & 0 & -1.0 & 0\\\\0 & 0 & 0 & 0 & 0 & 0 & 0 & 0 & 0 & 0 & 0 & 0 & 0 & 0 & 0 & 0\\\\0 & 0 & 0 & 0 & 0 & 0 & 0 & 0 & -1.0 & 0 & 0 & 0 & 0 & 0 & 0 & 0\\\\0 & 0 & 0 & 0 & 0 & 0 & 0 & 0 & 0 & 0 & 0 & -1.0 & 0 & 0 & 0 & 0\\\\0 & 0 & 0 & 0 & 0 & 0 & 0 & 0 & 0 & 0 & 0 & 0 & 0 & 0 & 0 & 0\\end{array}\\right]$"
      ],
      "text/plain": [
       "Matrix([\n",
       "[0,   0,   0, 0,   0, 0, 0,   0,    0, 0, 0,    0, 0,    0,    0, 0],\n",
       "[0,   0,   0, 0, 1.0, 0, 0,   0,    0, 0, 0,    0, 0,    0,    0, 0],\n",
       "[0,   0,   0, 0,   0, 0, 0, 1.0,    0, 0, 0,    0, 0,    0,    0, 0],\n",
       "[0,   0,   0, 0,   0, 0, 0,   0,    0, 0, 0,    0, 0,    0,    0, 0],\n",
       "[0, 1.0,   0, 0,   0, 0, 0,   0,    0, 0, 0,    0, 0,    0,    0, 0],\n",
       "[0,   0,   0, 0,   0, 0, 0,   0,    0, 0, 0,    0, 0,    0,    0, 0],\n",
       "[0,   0,   0, 0,   0, 0, 0,   0,    0, 0, 0,    0, 0,    0,    0, 0],\n",
       "[0,   0, 1.0, 0,   0, 0, 0,   0,    0, 0, 0,    0, 0,    0,    0, 0],\n",
       "[0,   0,   0, 0,   0, 0, 0,   0,    0, 0, 0,    0, 0, -1.0,    0, 0],\n",
       "[0,   0,   0, 0,   0, 0, 0,   0,    0, 0, 0,    0, 0,    0,    0, 0],\n",
       "[0,   0,   0, 0,   0, 0, 0,   0,    0, 0, 0,    0, 0,    0,    0, 0],\n",
       "[0,   0,   0, 0,   0, 0, 0,   0,    0, 0, 0,    0, 0,    0, -1.0, 0],\n",
       "[0,   0,   0, 0,   0, 0, 0,   0,    0, 0, 0,    0, 0,    0,    0, 0],\n",
       "[0,   0,   0, 0,   0, 0, 0,   0, -1.0, 0, 0,    0, 0,    0,    0, 0],\n",
       "[0,   0,   0, 0,   0, 0, 0,   0,    0, 0, 0, -1.0, 0,    0,    0, 0],\n",
       "[0,   0,   0, 0,   0, 0, 0,   0,    0, 0, 0,    0, 0,    0,    0, 0]])"
      ]
     },
     "execution_count": 3,
     "metadata": {},
     "output_type": "execute_result"
    }
   ],
   "source": [
    "y_hop_matrix = 1j * TensorProduct(sy_gamma_3 * sy_gamma_5, sy_gamma_4) - 1j * TensorProduct(sy_gamma_3, sy_gamma_4 * sy_gamma_5)\n",
    "y_hop_matrix /= 2\n",
    "class HopYGate(Gate):\n",
    "    \"\"\"Vertical hopping gate.\"\"\"\n",
    "    def _qid_shape_(self):\n",
    "        return (4, 4)\n",
    "    def _unitary_(self):\n",
    "        return np.array(y_hop_matrix, dtype=np.complex128)\n",
    "    def _circuit_diagram_info_(self, args):\n",
    "        return [\"H_y(r)\", \"H_y(r+1)\"]\n",
    "y_hop_matrix"
   ]
  },
  {
   "cell_type": "markdown",
   "id": "9da0b3d7-b845-4762-a093-d8327dc6abf2",
   "metadata": {},
   "source": [
    "### Number operator\n",
    "\n",
    "$n_i = \\frac{1}{2} - \\frac{1}{2}\\tilde \\Gamma_i$"
   ]
  },
  {
   "cell_type": "code",
   "execution_count": 4,
   "id": "1410f684-ac7b-43dd-b282-d7db129904bd",
   "metadata": {},
   "outputs": [
    {
     "data": {
      "text/latex": [
       "$\\displaystyle \\left[\\begin{matrix}0 & 0 & 0 & 0\\\\0 & 1.0 & 0 & 0\\\\0 & 0 & 1.0 & 0\\\\0 & 0 & 0 & 0\\end{matrix}\\right]$"
      ],
      "text/plain": [
       "Matrix([\n",
       "[0,   0,   0, 0],\n",
       "[0, 1.0,   0, 0],\n",
       "[0,   0, 1.0, 0],\n",
       "[0,   0,   0, 0]])"
      ]
     },
     "execution_count": 4,
     "metadata": {},
     "output_type": "execute_result"
    }
   ],
   "source": [
    "number_matrix = 0.5 * (sy_id - sy_gamma_5)\n",
    "class NumberGate(Gate):\n",
    "    \"\"\"Number gate.\"\"\"\n",
    "    def _qid_shape_(self):\n",
    "        return (4,)\n",
    "    def _unitary_(self):\n",
    "        return np.array(number_matrix, dtype=np.complex128)\n",
    "    def _circuit_diagram_info_(self, args):\n",
    "        return [\"n(r)\"]\n",
    "number_matrix"
   ]
  },
  {
   "cell_type": "code",
   "execution_count": 5,
   "id": "8efec5e8-e832-42ed-9e01-a9c4bdd43cf0",
   "metadata": {},
   "outputs": [
    {
     "data": {
      "text/latex": [
       "$\\displaystyle \\left[\\begin{array}{cccccccccccccccc}0 & 0 & 0 & 0 & 0 & 0 & 0 & 0 & 0 & 0 & 0 & 0 & 0 & 0 & 0 & 0\\\\0 & 0 & 0 & 0 & 0 & 0 & 0 & 0 & 0 & 0 & 0 & 0 & 0 & 0 & 0 & 0\\\\0 & 0 & 0 & 0 & 0 & 0 & 0 & 0 & 0 & 0 & 0 & 0 & 0 & 0 & 0 & 0\\\\0 & 0 & 0 & 0 & 0 & 0 & 0 & 0 & 0 & 0 & 0 & 0 & 0 & 0 & 0 & 0\\\\0 & 0 & 0 & 0 & 0 & 0 & 0 & 0 & 0 & 0 & 0 & 0 & 0 & 0 & 0 & 0\\\\0 & 0 & 0 & 0 & 0 & 1.0 & 0 & 0 & 0 & 0 & 0 & 0 & 0 & 0 & 0 & 0\\\\0 & 0 & 0 & 0 & 0 & 0 & 1.0 & 0 & 0 & 0 & 0 & 0 & 0 & 0 & 0 & 0\\\\0 & 0 & 0 & 0 & 0 & 0 & 0 & 0 & 0 & 0 & 0 & 0 & 0 & 0 & 0 & 0\\\\0 & 0 & 0 & 0 & 0 & 0 & 0 & 0 & 0 & 0 & 0 & 0 & 0 & 0 & 0 & 0\\\\0 & 0 & 0 & 0 & 0 & 0 & 0 & 0 & 0 & 1.0 & 0 & 0 & 0 & 0 & 0 & 0\\\\0 & 0 & 0 & 0 & 0 & 0 & 0 & 0 & 0 & 0 & 1.0 & 0 & 0 & 0 & 0 & 0\\\\0 & 0 & 0 & 0 & 0 & 0 & 0 & 0 & 0 & 0 & 0 & 0 & 0 & 0 & 0 & 0\\\\0 & 0 & 0 & 0 & 0 & 0 & 0 & 0 & 0 & 0 & 0 & 0 & 0 & 0 & 0 & 0\\\\0 & 0 & 0 & 0 & 0 & 0 & 0 & 0 & 0 & 0 & 0 & 0 & 0 & 0 & 0 & 0\\\\0 & 0 & 0 & 0 & 0 & 0 & 0 & 0 & 0 & 0 & 0 & 0 & 0 & 0 & 0 & 0\\\\0 & 0 & 0 & 0 & 0 & 0 & 0 & 0 & 0 & 0 & 0 & 0 & 0 & 0 & 0 & 0\\end{array}\\right]$"
      ],
      "text/plain": [
       "Matrix([\n",
       "[0, 0, 0, 0, 0,   0,   0, 0, 0,   0,   0, 0, 0, 0, 0, 0],\n",
       "[0, 0, 0, 0, 0,   0,   0, 0, 0,   0,   0, 0, 0, 0, 0, 0],\n",
       "[0, 0, 0, 0, 0,   0,   0, 0, 0,   0,   0, 0, 0, 0, 0, 0],\n",
       "[0, 0, 0, 0, 0,   0,   0, 0, 0,   0,   0, 0, 0, 0, 0, 0],\n",
       "[0, 0, 0, 0, 0,   0,   0, 0, 0,   0,   0, 0, 0, 0, 0, 0],\n",
       "[0, 0, 0, 0, 0, 1.0,   0, 0, 0,   0,   0, 0, 0, 0, 0, 0],\n",
       "[0, 0, 0, 0, 0,   0, 1.0, 0, 0,   0,   0, 0, 0, 0, 0, 0],\n",
       "[0, 0, 0, 0, 0,   0,   0, 0, 0,   0,   0, 0, 0, 0, 0, 0],\n",
       "[0, 0, 0, 0, 0,   0,   0, 0, 0,   0,   0, 0, 0, 0, 0, 0],\n",
       "[0, 0, 0, 0, 0,   0,   0, 0, 0, 1.0,   0, 0, 0, 0, 0, 0],\n",
       "[0, 0, 0, 0, 0,   0,   0, 0, 0,   0, 1.0, 0, 0, 0, 0, 0],\n",
       "[0, 0, 0, 0, 0,   0,   0, 0, 0,   0,   0, 0, 0, 0, 0, 0],\n",
       "[0, 0, 0, 0, 0,   0,   0, 0, 0,   0,   0, 0, 0, 0, 0, 0],\n",
       "[0, 0, 0, 0, 0,   0,   0, 0, 0,   0,   0, 0, 0, 0, 0, 0],\n",
       "[0, 0, 0, 0, 0,   0,   0, 0, 0,   0,   0, 0, 0, 0, 0, 0],\n",
       "[0, 0, 0, 0, 0,   0,   0, 0, 0,   0,   0, 0, 0, 0, 0, 0]])"
      ]
     },
     "execution_count": 5,
     "metadata": {},
     "output_type": "execute_result"
    }
   ],
   "source": [
    "double_number_matrix = TensorProduct(number_matrix, number_matrix)\n",
    "class DoubleNumberGate(Gate):\n",
    "    \"\"\"Double number gate.\"\"\"\n",
    "    def _qid_shape_(self):\n",
    "        return (4,4)\n",
    "    def _unitary_(self):\n",
    "        return np.array(double_number_matrix, dtype=np.complex128)\n",
    "    def _circuit_diagram_info_(self, args):\n",
    "        return [\"n(r)\", \"n(r+1)\"]\n",
    "double_number_matrix"
   ]
  },
  {
   "cell_type": "markdown",
   "id": "d83e07b8-df2e-4efd-b067-55c97a70fb23",
   "metadata": {},
   "source": [
    "### Evolution gates"
   ]
  },
  {
   "cell_type": "code",
   "execution_count": 6,
   "id": "da1aa116-dd06-47db-890d-49ab6c786912",
   "metadata": {},
   "outputs": [],
   "source": [
    "def taylor_expm(Hmat, n_order=3, dt=0.1):  # order of the error in dt\n",
    "    print(\"Hmat = \", Hmat.shape)\n",
    "    print(dt)\n",
    "    Hn = np.eye(Hmat.shape[0], dtype=complex)  # order H^n\n",
    "    coeffn = complex(1)\n",
    "    exp_ham_dt = Hn\n",
    "\n",
    "    for n in range(1, n_order):\n",
    "        coeffn *= -1j * dt / n\n",
    "        Hn = Hn @ Hmat\n",
    "        exp_ham_dt = exp_ham_dt + coeffn * Hn\n",
    "    return exp_ham_dt"
   ]
  },
  {
   "cell_type": "code",
   "execution_count": 7,
   "id": "4a43e144-1b55-4104-954d-62c183b032ce",
   "metadata": {},
   "outputs": [
    {
     "name": "stdout",
     "output_type": "stream",
     "text": [
      "Hmat =  (3, 3)\n",
      "0.2\n"
     ]
    },
    {
     "data": {
      "text/plain": [
       "False"
      ]
     },
     "execution_count": 7,
     "metadata": {},
     "output_type": "execute_result"
    }
   ],
   "source": [
    "dt = 0.2\n",
    "order = 10\n",
    "\n",
    "a = np.array([[0, 1, 2], [1, 2, 3], [4, 5, 6]], dtype=np.complex128)\n",
    "ta = taylor_expm(a, order, dt)\n",
    "ea = expm(-1j * dt * a)\n",
    "\n",
    "(np.isclose(ta, ea, 1e-5)).all()"
   ]
  },
  {
   "cell_type": "code",
   "execution_count": 8,
   "id": "6a3ea939-87ca-455c-b3b5-100b96bacf0d",
   "metadata": {},
   "outputs": [],
   "source": [
    "def evolve_gate(gate):\n",
    "    class evolved(Gate):\n",
    "        def __init__(self, C=1, t=0.1, *args, **kwargs):\n",
    "            gate_mat = np.array(gate()._unitary_(), dtype=np.complex128)\n",
    "            if (gate_mat != np.conjugate(gate_mat.T)).any():\n",
    "                print(\"Not hermitian\")\n",
    "            self.C = C  # coefficient\n",
    "            self.t = t  # evolution time\n",
    "            self.matrix = np.array(expm(-1j * self.t * self.C * gate_mat), dtype=np.complex128)\n",
    "            super().__init__(*args, **kwargs)\n",
    "            \n",
    "        def _qid_shape_(self):\n",
    "            return gate()._qid_shape_()\n",
    "        def _circuit_diagram_info_(self, args):\n",
    "            return gate()._circuit_diagram_info_(args)\n",
    "        def _unitary_(self):\n",
    "            return self.matrix\n",
    "    return evolved"
   ]
  },
  {
   "cell_type": "code",
   "execution_count": 9,
   "id": "b341659c-d5d4-4f33-9149-ea4379df8d3c",
   "metadata": {},
   "outputs": [],
   "source": [
    "rtol = 1e-7\n",
    "\n",
    "def commute(a, b):\n",
    "    c = a@b\n",
    "    d = b@a\n",
    "    return np.isclose(np.array(c-d, dtype=np.complex128), np.zeros(c.shape), rtol).all()"
   ]
  },
  {
   "cell_type": "code",
   "execution_count": 10,
   "id": "24da3d0a-fea3-4169-bccb-44dc870180bf",
   "metadata": {},
   "outputs": [
    {
     "name": "stdout",
     "output_type": "stream",
     "text": [
      "Unitary: True\n",
      "Commute with Hpot: True\n",
      "Commute with HkinX: True\n",
      "Commute with HkinY: True\n"
     ]
    }
   ],
   "source": [
    "# example potential \n",
    "evolution_pot = evolve_gate(DoubleNumberGate)(C = 0.01, t = 5)\n",
    "b = evolution_pot._unitary_()\n",
    "print(f\"Unitary: {np.isclose(np.conjugate(b).T @ b, np.eye(b.shape[0]), rtol).all()}\")\n",
    "print(f\"Commute with Hpot: {commute(b, double_number_matrix)}\")\n",
    "print(f\"Commute with HkinX: {commute(b, x_hop_matrix)}\")\n",
    "print(f\"Commute with HkinY: {commute(b, y_hop_matrix)}\")"
   ]
  },
  {
   "cell_type": "code",
   "execution_count": 11,
   "id": "023d5d72-2974-4ade-a948-541bb355910b",
   "metadata": {},
   "outputs": [
    {
     "name": "stdout",
     "output_type": "stream",
     "text": [
      "Unitary: True\n",
      "Commute with Hpot: True\n",
      "Commute with HkinX: True\n",
      "Commute with HkinY: True\n"
     ]
    }
   ],
   "source": [
    "# example hopping \n",
    "evolution_hop_x = evolve_gate(HopXGate)(C = -1, t = 5)\n",
    "b = evolution_hop_x._unitary_()\n",
    "print(f\"Unitary: {np.isclose(np.conjugate(b).T @ b, np.eye(b.shape[0]), rtol).all()}\")\n",
    "print(f\"Commute with Hpot: {commute(b, double_number_matrix)}\")\n",
    "print(f\"Commute with HkinX: {commute(b, x_hop_matrix)}\")\n",
    "print(f\"Commute with HkinY: {commute(b, y_hop_matrix)}\")"
   ]
  },
  {
   "cell_type": "code",
   "execution_count": 12,
   "id": "a2161c95-62e3-4e54-abe5-48f05ebb220b",
   "metadata": {},
   "outputs": [
    {
     "name": "stdout",
     "output_type": "stream",
     "text": [
      "Unitary: True\n",
      "Commute with Hpot: True\n",
      "Commute with HkinX: True\n",
      "Commute with HkinY: True\n"
     ]
    }
   ],
   "source": [
    "# example hopping \n",
    "evolution_hop_y = evolve_gate(HopYGate)(C = -1, t = 5)\n",
    "b = evolution_hop_y._unitary_()\n",
    "print(f\"Unitary: {np.isclose(np.conjugate(b).T @ b, np.eye(b.shape[0]), rtol).all()}\")\n",
    "print(f\"Commute with Hpot: {commute(b, double_number_matrix)}\")\n",
    "print(f\"Commute with HkinX: {commute(b, x_hop_matrix)}\")\n",
    "print(f\"Commute with HkinY: {commute(b, y_hop_matrix)}\")"
   ]
  },
  {
   "cell_type": "code",
   "execution_count": 13,
   "id": "406126cc-2f72-4fc3-ae37-0838f5f45923",
   "metadata": {},
   "outputs": [
    {
     "data": {
      "text/plain": [
       "True"
      ]
     },
     "execution_count": 13,
     "metadata": {},
     "output_type": "execute_result"
    }
   ],
   "source": [
    "commute(evolution_hop_x._unitary_(), evolution_hop_y._unitary_())"
   ]
  },
  {
   "cell_type": "markdown",
   "id": "d07f56d4-3930-4273-9cea-a85723c6a244",
   "metadata": {},
   "source": [
    "## Evolving a state"
   ]
  },
  {
   "cell_type": "code",
   "execution_count": 66,
   "id": "fc457e1d-699c-42e0-8024-ce7e9c63482c",
   "metadata": {},
   "outputs": [],
   "source": [
    "def evolve(qudits, temps, initial=None, T=1, V=0):\n",
    "\n",
    "    if initial is None:\n",
    "        initial = []\n",
    "\n",
    "    if len(temps) > 1:\n",
    "        evolution_number = evolve_gate(DoubleNumberGate)(C=V, t = temps[1]-temps[0])\n",
    "        evolution_horizontal_hop = evolve_gate(HopXGate)(C=T/2, t = temps[1]-temps[0])\n",
    "        evolution_vertical_hop = evolve_gate(HopYGate)(C=T/2, t = temps[1]-temps[0])\n",
    "    rows, cols = qudits.shape\n",
    "    results = []\n",
    "    evolution_circuit = []\n",
    "    for idx, t in enumerate(temps):\n",
    "\n",
    "        if t != 0:    \n",
    "            # Hopping part\n",
    "            for row in range(rows):\n",
    "                for col in range(cols):\n",
    "                    # horizontal interaction\n",
    "                    if col != cols - 1:\n",
    "                        a = qudits[row][col]\n",
    "                        b = qudits[row][col+1]\n",
    "                        evolution_circuit.append(evolution_horizontal_hop(a, b))\n",
    "                    # vertical interaction\n",
    "                    if row != rows - 1:\n",
    "                        a = qudits[row][col]\n",
    "                        b = qudits[row+1][col]\n",
    "                        evolution_circuit.append(evolution_vertical_hop(a, b))\n",
    "            # On-site part\n",
    "            for row in range(rows):\n",
    "                for col in range(cols):\n",
    "                    if row != rows - 1:\n",
    "                        a = qudits[row][col]\n",
    "                        b = qudits[row+1][col]\n",
    "                        evolution_circuit.append(evolution_number(a, b))\n",
    "                    if col != cols - 1:\n",
    "                        a = qudits[row][col]\n",
    "                        b = qudits[row][col+1]\n",
    "                        evolution_circuit.append(evolution_number(a, b))    \n",
    "            # Hopping part\n",
    "            for row in range(rows):\n",
    "                for col in range(cols):\n",
    "                    # horizontal interaction\n",
    "                    if col != cols - 1:\n",
    "                        a = qudits[row][col]\n",
    "                        b = qudits[row][col+1]\n",
    "                        evolution_circuit.append(evolution_horizontal_hop(a, b))\n",
    "                    # vertical interaction\n",
    "                    if row != rows - 1:\n",
    "                        a = qudits[row][col]\n",
    "                        b = qudits[row+1][col]\n",
    "                        evolution_circuit.append(evolution_vertical_hop(a, b))\n",
    "           \n",
    "        circuit = Circuit([*initial, *evolution_circuit])\n",
    "        results.append((circuit, simulator.simulate(circuit)))\n",
    "            \n",
    "    return results"
   ]
  },
  {
   "cell_type": "markdown",
   "id": "520767a5-9a3e-4bca-9562-ca72b49aef87",
   "metadata": {},
   "source": [
    "## Constraints\n",
    "\n",
    "The constraint is (for every plaquette):\n",
    "$\\Gamma^{23}_{r}\\Gamma^{23}_{r+x}\\Gamma^{23}_{r+x+y}\\Gamma^{23}_{r+y} \\tilde\\Gamma_r \\tilde\\Gamma_{r+x+y}= I$\n",
    "\n",
    "We call the first operator G"
   ]
  },
  {
   "cell_type": "code",
   "execution_count": 15,
   "id": "8a945dc2-cc76-4f3d-a709-005022e6dd44",
   "metadata": {},
   "outputs": [],
   "source": [
    "G = np.array(TensorProduct(sy_gamma_1*sy_gamma_3, sy_gamma_2*sy_gamma_3, sy_gamma_4*sy_gamma_2, sy_gamma_1*sy_gamma_4),\n",
    "             dtype=np.complex128)\n",
    "\n",
    "class Project_Constraint_minus(Gate):\n",
    "    \"\"\"Gate that prepare an initial state, from the coefficients.\"\"\"\n",
    "\n",
    "    def _qid_shape_(self):\n",
    "        return (4, 4, 4, 4)\n",
    "\n",
    "    def _unitary_(self):\n",
    "        return (np.eye(4**4) - G)/2\n",
    "\n",
    "    def _circuit_diagram_info_(self, args):\n",
    "        return [\"P-\", \"P-\", \"P-\", \"P-\"]\n",
    "\n",
    "class Project_Constraint(Gate):\n",
    "    \"\"\"Gate that prepare an initial state, from the coefficients.\"\"\"\n",
    "\n",
    "    def _qid_shape_(self):\n",
    "        return (4, 4, 4, 4)\n",
    "\n",
    "    def _unitary_(self):\n",
    "        return (np.eye(4**4) + G)/2\n",
    "\n",
    "    def _circuit_diagram_info_(self, args):\n",
    "        return [\"P+\", \"P+\", \"P+\", \"P+\"]"
   ]
  },
  {
   "cell_type": "markdown",
   "id": "4ecead64-3ea3-4da0-ac32-4ca8f4c477dc",
   "metadata": {},
   "source": [
    "### Add fermions\n",
    "\n",
    "The creation operator for pairs of fermions is:\n",
    "\n",
    "$f^\\dagger_r f^\\dagger_{r+x}=i \\Gamma^1_r \\Gamma^2_{r+x} \\frac{(I + \\tilde\\Gamma_r)(I + \\tilde \\Gamma_{r+x})}{4}$"
   ]
  },
  {
   "cell_type": "code",
   "execution_count": 16,
   "id": "2da95344-e06f-477b-a2b9-2a100e3bf947",
   "metadata": {
    "scrolled": true
   },
   "outputs": [],
   "source": [
    "class AddHorizontalPair(Gate):\n",
    "    \"\"\"Add pair of fermions (r)+(r+x).\"\"\"\n",
    "    \n",
    "    def _qid_shape_(self):\n",
    "        return (4, 4)\n",
    "\n",
    "    def _unitary_(self):\n",
    "        return np.array(1j * (1/4) * TensorProduct(sy_gamma_1, sy_gamma_2) * TensorProduct(sy_id + sy_gamma_5, sy_id + sy_gamma_5),\n",
    "                        dtype=np.complex128)\n",
    "\n",
    "    def _circuit_diagram_info_(self, args):\n",
    "        return [\"f+\", \"f+\"]"
   ]
  },
  {
   "cell_type": "code",
   "execution_count": 17,
   "id": "08526a72-05a7-49c5-a5b5-0475cc29c0ff",
   "metadata": {},
   "outputs": [],
   "source": [
    "class AddVerticalPair(Gate):\n",
    "    \"\"\"Add pair of fermions (r)+(r+y).\"\"\"\n",
    "        \n",
    "    def _qid_shape_(self):\n",
    "        return (4, 4, 4, 4)\n",
    "\n",
    "    def _unitary_(self):\n",
    "        create = 1j * (1/4) * TensorProduct(sy_gamma_1, sy_gamma_2) * TensorProduct(sy_id + sy_gamma_5, sy_id + sy_gamma_5)\n",
    "        # (r, r+x, r+x+y, r+y)\n",
    "        # hop vertical\n",
    "        create_hopped = (\n",
    "            TensorProduct(sy_id, sy_id, -x_hop_matrix) * \n",
    "            TensorProduct(sy_id, y_hop_matrix, sy_id) * \n",
    "            TensorProduct(create, sy_id, sy_id)\n",
    "        )\n",
    "        return np.array(create_hopped, dtype=np.complex128)\n",
    "    \n",
    "    def _circuit_diagram_info_(self, args):\n",
    "        return [\"f+\", \"/\", \"/\", \"f+\"]\n",
    "\n",
    "class AddVerticalPair_2(Gate):\n",
    "    \"\"\"Add pair of fermions (r+x)+(r+x+y).\"\"\"\n",
    "        \n",
    "    def _qid_shape_(self):\n",
    "        return (4, 4, 4)\n",
    "\n",
    "    def _unitary_(self):\n",
    "        create = 1j * (1/4) * TensorProduct(sy_gamma_1, sy_gamma_2) * TensorProduct(sy_id + sy_gamma_5, sy_id + sy_gamma_5)\n",
    "        # (r, r+x, r+x+y, r+y)\n",
    "        # hop vertical\n",
    "        create_hopped = (\n",
    "            TensorProduct(x_hop_matrix, sy_id) * \n",
    "            TensorProduct(sy_id, y_hop_matrix) * \n",
    "            TensorProduct(create, sy_id)\n",
    "        )\n",
    "        return np.array(create_hopped, dtype=np.complex128)\n",
    "    \n",
    "    def _circuit_diagram_info_(self, args):\n",
    "        return [\"/\", \"f+\", \"f+\"]"
   ]
  },
  {
   "cell_type": "code",
   "execution_count": 18,
   "id": "9625d495-5e78-4a68-9700-7c5b2d960e48",
   "metadata": {},
   "outputs": [],
   "source": [
    "class AddDiagonalPair(Gate):\n",
    "    \"\"\"Add pair of fermions (r)+(r+x+y).\"\"\"\n",
    "        \n",
    "    def _qid_shape_(self):\n",
    "        return (4, 4, 4)\n",
    "\n",
    "    def _unitary_(self):\n",
    "        create = 1j * (1/4) * TensorProduct(sy_gamma_1, sy_gamma_2) * TensorProduct(sy_id + sy_gamma_5, sy_id + sy_gamma_5)\n",
    "        # (r, r+x, r+x+y)\n",
    "        # hop vertical\n",
    "        create_hopped = (\n",
    "            TensorProduct(sy_id, y_hop_matrix) * \n",
    "            TensorProduct(create, sy_id)\n",
    "        )\n",
    "        return np.array(create_hopped, dtype=np.complex128)\n",
    "    \n",
    "    def _circuit_diagram_info_(self, args):\n",
    "        return [\"f+\", \"/\", \"f+\"]"
   ]
  },
  {
   "cell_type": "code",
   "execution_count": 19,
   "id": "7f019dde-7452-4798-98f4-749ddd7eaf50",
   "metadata": {},
   "outputs": [],
   "source": [
    "class AddAntiDiagonalPair(Gate):\n",
    "    \"\"\"Add pair of fermions (r+x)+(r+y).\"\"\"\n",
    "        \n",
    "    def _qid_shape_(self):\n",
    "        return (4, 4, 4, 4)\n",
    "\n",
    "    def _unitary_(self):\n",
    "        create = 1j * (1/4) * TensorProduct(sy_gamma_1, sy_gamma_2) * TensorProduct(sy_id + sy_gamma_5, sy_id + sy_gamma_5)\n",
    "        # (r, r+x, r+x+y, r+y)\n",
    "        # hop vertical\n",
    "        create_hopped = (\n",
    "            TensorProduct(x_hop_matrix, -x_hop_matrix) * \n",
    "            TensorProduct(sy_id, y_hop_matrix, sy_id) * \n",
    "            TensorProduct(create, sy_id, sy_id)\n",
    "        )\n",
    "        return np.array(create_hopped, dtype=np.complex128)\n",
    "    \n",
    "    def _circuit_diagram_info_(self, args):\n",
    "        return [\"/\", \"f+\", \"/\", \"f+\"]"
   ]
  },
  {
   "cell_type": "code",
   "execution_count": 20,
   "id": "34d4ba0f-6c87-4552-80af-71310d4b4ac0",
   "metadata": {
    "scrolled": true
   },
   "outputs": [],
   "source": [
    "class Hopx(Gate):\n",
    "    \"\"\"Hop x fermion (r)+(r+x).\"\"\"\n",
    "    \n",
    "    def _qid_shape_(self):\n",
    "        return (4, 4)\n",
    "\n",
    "    def _unitary_(self):\n",
    "        hop = -1j * TensorProduct(sy_gamma_1, sy_gamma_2 * sy_gamma_5)\n",
    "        return np.array(hop, dtype=np.complex128)\n",
    "        \n",
    "    def _circuit_diagram_info_(self, args):\n",
    "        return [\"S(r)\", \"S(r+x)\"]"
   ]
  },
  {
   "cell_type": "code",
   "execution_count": 21,
   "id": "3bfbe3ce-1d0c-4f08-96cd-975788ce6f5b",
   "metadata": {},
   "outputs": [],
   "source": [
    "class AddCoupledPair(Gate):\n",
    "    \"\"\"Add two couple of fermions (r)+(r+x) - (r)+(r+x+1) in superposition.\"\"\"\n",
    "\n",
    "    def __init__(self, A=1, B=1, *args, **kwargs):\n",
    "        self.A = A\n",
    "        self.B = B\n",
    "        super().__init__(*args, **kwargs)\n",
    "    \n",
    "    def _qid_shape_(self):\n",
    "        return (4, 4, 4)\n",
    "\n",
    "    def _unitary_(self):\n",
    "        create = 1j * (1/4) * TensorProduct(sy_gamma_1, sy_gamma_2) * TensorProduct(sy_id + sy_gamma_5, sy_id + sy_gamma_5)\n",
    "        create_hopped = TensorProduct(sy_id, y_hop_matrix) * TensorProduct(create, sy_id)\n",
    "        return np.array(self.A * TensorProduct(create, sy_id) + self.B * create_hopped, dtype=np.complex128)\n",
    "        \n",
    "    def _circuit_diagram_info_(self, args):\n",
    "        return [\"f+\", \"f+/2\", \"f+/2\"]"
   ]
  },
  {
   "cell_type": "code",
   "execution_count": 22,
   "id": "2cbc88ec-f623-4956-ae5a-8f108de4a427",
   "metadata": {},
   "outputs": [],
   "source": [
    "class AddPlaqPair(Gate):\n",
    "    \"\"\"Add superposition of A, B, C, D\"\"\"\n",
    "\n",
    "    def __init__(self, A=1, B=1, C=1, D=1, E=1, F=1, *args, **kwargs):\n",
    "        self.A = A\n",
    "        self.B = B        \n",
    "        self.C = C\n",
    "        self.D = D\n",
    "        self.E = E\n",
    "        self.F = F\n",
    "        super().__init__(*args, **kwargs)\n",
    "    \n",
    "    def _qid_shape_(self):\n",
    "        return (4, 4, 4, 4)\n",
    "\n",
    "    def _unitary_(self):\n",
    "        A = TensorProduct(AddHorizontalPair()._unitary_(), sy_id, sy_id)\n",
    "        B = TensorProduct(AddDiagonalPair()._unitary_(), sy_id)\n",
    "        C = AddVerticalPair()._unitary_()\n",
    "        D = AddAntiDiagonalPair()._unitary_()\n",
    "        E = TensorProduct(AddVerticalPair_2()._unitary_(), sy_id)\n",
    "        F = TensorProduct(sy_id, sy_id, Matrix(AddHorizontalPair()._unitary_()))\n",
    "        total = self.A * A + self.B * B + self.C * C + self.D * D + self.E * E + self.F * F\n",
    "        return np.array(total, dtype=np.complex128)\n",
    "\n",
    "    def _circuit_diagram_info_(self, args):\n",
    "        return [\"f+(r)\", \"f+(r+x)\", \"f+(r+x+y)\", \"f+(r+y)\"]        "
   ]
  },
  {
   "cell_type": "code",
   "execution_count": 23,
   "id": "7c9c9cae-c942-48df-9e40-91a99cb91b85",
   "metadata": {},
   "outputs": [],
   "source": [
    "def expectation_value(result, qudits, operator):\n",
    "    rho = result.density_matrix_of(qudits)\n",
    "    \n",
    "    srho = sparse.coo_array(np.array(rho, dtype=np.complex128)) \n",
    "    srho /= srho.trace()\n",
    "    shop = sparse.coo_array(np.array(operator, dtype=np.complex128))\n",
    "    val = srho @ shop \n",
    "\n",
    "    tr = val.trace()\n",
    "    if np.imag(tr) != 0:\n",
    "        print(f\"Casting {tr} to real\")\n",
    "    return np.real(tr)"
   ]
  },
  {
   "cell_type": "markdown",
   "id": "50e1cbc0-73a6-4f33-8173-d47cbbd0c638",
   "metadata": {},
   "source": [
    "## Evolving a 4x2 lattice"
   ]
  },
  {
   "cell_type": "code",
   "execution_count": 24,
   "id": "4aba1e09-791b-4edd-939d-0d019eb82c50",
   "metadata": {},
   "outputs": [
    {
     "data": {
      "text/plain": [
       "[array([0.87806136+0.47854806j, 0.89290143+0.45025218j,\n",
       "        0.14688749+0.98915321j, 0.82658314+0.56281463j,\n",
       "        0.59238681+0.80565369j, 0.84171922+0.5399155j ])]"
      ]
     },
     "execution_count": 24,
     "metadata": {},
     "output_type": "execute_result"
    }
   ],
   "source": [
    "coeffs = [np.random.rand(6) + 1j * np.random.rand(6)]\n",
    "coeffs = [co/np.abs(co) for co in coeffs]\n",
    "coeffs"
   ]
  },
  {
   "cell_type": "code",
   "execution_count": 74,
   "id": "80af6e2c-6864-4b82-a292-9c56e122e650",
   "metadata": {},
   "outputs": [],
   "source": [
    "rows = 2\n",
    "columns = 2\n",
    "\n",
    "T = -1\n",
    "V = 0.5\n",
    "\n",
    "qudits = np.array(LineQid.range(rows * columns, dimension=4)).reshape(rows, columns)\n",
    "\n",
    "final_time = 0.1\n",
    "num_steps = 10\n",
    "dt = final_time/num_steps\n",
    "\n",
    "temps = np.arange(0, final_time+dt/2, dt)\n",
    "\n",
    "\n",
    "plaquettes = []\n",
    "rows, cols = qudits.shape\n",
    "for row in range(rows):\n",
    "    for col in range(cols):\n",
    "        if row != rows - 1 and col != cols - 1:\n",
    "            pl = [qudits[row][col], \n",
    "                  qudits[row][col+1], \n",
    "                  qudits[row+1][col+1],\n",
    "                  qudits[row+1][col]]\n",
    "            plaquettes.append(pl)\n",
    "            \n",
    "# initial circuit that ensures that the correct subspace is used (really?)\n",
    "\n",
    "projected_subspace = [Project_Constraint()(*pl) for pl in plaquettes]\n",
    "initial_state = [\n",
    "    AddPlaqPair(*coeffs[0])(qudits[0][0], qudits[0][1], qudits[1][1], qudits[1][0])\n",
    "    #AddCoupledPair(1, 3)(qudits[0][0], qudits[0][1], qudits[1][1]),\n",
    "]\n",
    "initial_circuit = [*projected_subspace, *initial_state]\n",
    "\n",
    "# results is a list of tuples, every tuple contains the circuit and the result shots\n",
    "results = evolve(qudits, temps, initial_circuit, T=T, V=V)"
   ]
  },
  {
   "cell_type": "code",
   "execution_count": 68,
   "id": "be159b6c-3559-4715-8172-6aaf8b4a94df",
   "metadata": {},
   "outputs": [
    {
     "data": {
      "text/html": [
       "<pre style=\"overflow: auto; white-space: pre;\">                                        ┌────────────────┐                                                    ┌────────────────┐\n",
       "0 (d=4): ───P+───f+(r)───────H_x(r)──────H_y(r)─────────────────────────n(r)─────n(r)──────────────H_x(r)──────H_y(r)─────────────────────────\n",
       "            │    │           │           │                              │        │                 │           │\n",
       "1 (d=4): ───P+───f+(r+x)─────H_x(r+1)────┼───────H_y(r)─────────────────┼────────n(r+1)───n(r)─────H_x(r+1)────┼───────H_y(r)─────────────────\n",
       "            │    │                       │       │                      │                 │                    │       │\n",
       "2 (d=4): ───P+───f+(r+y)─────────────────H_y(r+1)┼───────────H_x(r)─────n(r+1)────────────┼────────n(r)────────H_y(r+1)┼───────────H_x(r)─────\n",
       "            │    │                               │           │                            │        │                   │           │\n",
       "3 (d=4): ───P+───f+(r+x+y)───────────────────────H_y(r+1)────H_x(r+1)─────────────────────n(r+1)───n(r+1)──────────────H_y(r+1)────H_x(r+1)───\n",
       "                                        └────────────────┘                                                    └────────────────┘</pre>"
      ],
      "text/plain": [
       "                                        ┌────────────────┐                                                    ┌────────────────┐\n",
       "0 (d=4): ───P+───f+(r)───────H_x(r)──────H_y(r)─────────────────────────n(r)─────n(r)──────────────H_x(r)──────H_y(r)─────────────────────────\n",
       "            │    │           │           │                              │        │                 │           │\n",
       "1 (d=4): ───P+───f+(r+x)─────H_x(r+1)────┼───────H_y(r)─────────────────┼────────n(r+1)───n(r)─────H_x(r+1)────┼───────H_y(r)─────────────────\n",
       "            │    │                       │       │                      │                 │                    │       │\n",
       "2 (d=4): ───P+───f+(r+y)─────────────────H_y(r+1)┼───────────H_x(r)─────n(r+1)────────────┼────────n(r)────────H_y(r+1)┼───────────H_x(r)─────\n",
       "            │    │                               │           │                            │        │                   │           │\n",
       "3 (d=4): ───P+───f+(r+x+y)───────────────────────H_y(r+1)────H_x(r+1)─────────────────────n(r+1)───n(r+1)──────────────H_y(r+1)────H_x(r+1)───\n",
       "                                        └────────────────┘                                                    └────────────────┘"
      ]
     },
     "execution_count": 68,
     "metadata": {},
     "output_type": "execute_result"
    }
   ],
   "source": [
    "results[1][0]"
   ]
  },
  {
   "cell_type": "markdown",
   "id": "89182690-13ab-4519-8712-22d09e3ece3c",
   "metadata": {},
   "source": [
    "## Operators evolution"
   ]
  },
  {
   "cell_type": "code",
   "execution_count": null,
   "id": "63ce5678-9e57-4e93-b498-727ed7fc2d21",
   "metadata": {},
   "outputs": [],
   "source": [
    "line_styles = ['-.', '--', '-.', ':', '-.', '--', '-.', ':']\n",
    "markers = ['o', 's', 'D', '^', 'v', '<', '>', 'p']"
   ]
  },
  {
   "cell_type": "markdown",
   "id": "ec6e88a0-2674-4d7b-937a-f196b3650af0",
   "metadata": {},
   "source": [
    "### Constraints"
   ]
  },
  {
   "cell_type": "code",
   "execution_count": 77,
   "id": "ee598490-d9cf-4f3c-9896-04199da33077",
   "metadata": {},
   "outputs": [
    {
     "data": {
      "text/plain": [
       "(-1.1, 1.1)"
      ]
     },
     "execution_count": 77,
     "metadata": {},
     "output_type": "execute_result"
    },
    {
     "data": {
      "image/png": "[encoded data removed]",
      "text/plain": [
       "<Figure size 640x480 with 1 Axes>"
      ]
     },
     "metadata": {},
     "output_type": "display_data"
    }
   ],
   "source": [
    "evol_res = {str(idx): [] for idx in range(len(plaquettes))}\n",
    "\n",
    "for idx, plaquette in enumerate(plaquettes):\n",
    "    for state in results:\n",
    "        operator = G\n",
    "        val = expectation_value(state[1], plaquette, operator)\n",
    "        evol_res[str(idx)].append(np.abs(val))\n",
    "\n",
    "for idx, i in enumerate(evol_res):\n",
    "    plt.plot(temps, evol_res[i], label=f\"plaquette {idx}\", linestyle=line_styles[idx], marker=markers[idx])\n",
    "    \n",
    "plt.title(\"Constraint Evolution\")\n",
    "plt.xlabel(\"Time\")\n",
    "plt.ylabel(\"<G>\")\n",
    "plt.legend()\n",
    "plt.ylim(-1.1, 1.1)"
   ]
  },
  {
   "cell_type": "markdown",
   "id": "a4e7ac6a-1c4e-42ae-a3f8-8addcbadb5ba",
   "metadata": {},
   "source": [
    "### Numbers"
   ]
  },
  {
   "cell_type": "code",
   "execution_count": 78,
   "id": "cf7ac6c8-586d-43c6-9cff-2b4e07ae2236",
   "metadata": {},
   "outputs": [
    {
     "data": {
      "text/plain": [
       "<matplotlib.legend.Legend at 0x77310d8f2870>"
      ]
     },
     "execution_count": 78,
     "metadata": {},
     "output_type": "execute_result"
    },
    {
     "data": {
      "image/png": "[encoded data removed]",
      "text/plain": [
       "<Figure size 640x480 with 1 Axes>"
      ]
     },
     "metadata": {},
     "output_type": "display_data"
    }
   ],
   "source": [
    "subsystems = [ [idx] for idx in range(len(qudits.flatten()))]\n",
    "num_evol_res = {str(i[0]): [] for i in subsystems}\n",
    "\n",
    "for idx, sys in enumerate(subsystems):\n",
    "    for state in results:\n",
    "        operator = number_matrix\n",
    "        val = expectation_value(state[1], [qudits.flatten()[idx]], operator)\n",
    "        num_evol_res[str(idx)].append(np.abs(val))\n",
    "        \n",
    "for i, key in enumerate(num_evol_res):\n",
    "    plt.plot(temps, num_evol_res[key], label=f\"qubit {key}\", linestyle=line_styles[i], marker=markers[i])\n",
    "    \n",
    "plt.title(\"Number operators\")\n",
    "plt.xlabel(\"Time\")\n",
    "plt.ylabel(\"<n>\")\n",
    "plt.legend()"
   ]
  },
  {
   "cell_type": "code",
   "execution_count": null,
   "id": "e1bc9679-b378-4613-983b-d280ee7d55cc",
   "metadata": {},
   "outputs": [],
   "source": [
    "num_evol_res"
   ]
  },
  {
   "cell_type": "code",
   "execution_count": null,
   "id": "d5ca4253-5c34-472f-b903-26cccdedf2a2",
   "metadata": {},
   "outputs": [],
   "source": [
    "x_sum = [sum(values[idx] for values in num_evol_res.values()) for idx in range(len(num_evol_res['0']))]\n",
    "x_sum"
   ]
  },
  {
   "cell_type": "markdown",
   "id": "3603da64-2794-4075-89cf-0b18f694055a",
   "metadata": {},
   "source": [
    "### Hamiltonian"
   ]
  },
  {
   "cell_type": "code",
   "execution_count": 75,
   "id": "39bdeeab-a822-47d4-90a8-fbdab57add2d",
   "metadata": {},
   "outputs": [
    {
     "data": {
      "text/plain": [
       "<matplotlib.legend.Legend at 0x77310d9cef00>"
      ]
     },
     "execution_count": 75,
     "metadata": {},
     "output_type": "execute_result"
    },
    {
     "data": {
      "image/png": "[encoded data removed]",
      "text/plain": [
       "<Figure size 640x480 with 1 Axes>"
      ]
     },
     "metadata": {},
     "output_type": "display_data"
    }
   ],
   "source": [
    "x_hop_couples = []\n",
    "y_hop_couples = []\n",
    "\n",
    "rows, cols = qudits.shape\n",
    "for row in range(rows):\n",
    "    for col in range(cols):\n",
    "        if row != rows - 1:\n",
    "            y_hop_couples.append([qudits[row][col], qudits[row+1][col]])\n",
    "        if col != cols - 1:\n",
    "            x_hop_couples.append([qudits[row][col], qudits[row][col+1]])\n",
    "\n",
    "\n",
    "ekin = []\n",
    "epot = []\n",
    "\n",
    "for state in results:\n",
    "    ham_k = 0\n",
    "    ham_p = 0\n",
    "    \n",
    "    # number term\n",
    "    couples = x_hop_couples + y_hop_couples\n",
    "    for couple in couples:\n",
    "        operator = V * double_number_matrix\n",
    "        val = expectation_value(state[1], couple, operator)\n",
    "        ham_p += val\n",
    "\n",
    "    # x_hop term\n",
    "    for couple in x_hop_couples:\n",
    "        operator = T * x_hop_matrix\n",
    "        val = expectation_value(state[1], couple, operator)\n",
    "        ham_k += val    \n",
    "        \n",
    "    # y_hop term\n",
    "    for couple in y_hop_couples:\n",
    "        operator = T * y_hop_matrix\n",
    "        val = expectation_value(state[1], couple, operator)\n",
    "        ham_k += val\n",
    "\n",
    "    ekin.append(ham_k)\n",
    "    epot.append(ham_p)\n",
    "\n",
    "plt.plot(temps, ekin, \"o--\", label=\"Ekin\")\n",
    "plt.plot(temps, epot, \"o--\", label=\"Epot\")\n",
    "\n",
    "ham = [ekin[i] + ep for i, ep in enumerate(epot)]\n",
    "plt.plot(temps, ham, \"o--\", label=\"H\")\n",
    "    \n",
    "plt.title(\"Hamiltonian\")\n",
    "plt.xlabel(\"Time\")\n",
    "plt.ylabel(\"<E>\")\n",
    "plt.legend()"
   ]
  },
  {
   "cell_type": "code",
   "execution_count": 57,
   "id": "f1830f8d-c1e9-4599-a829-e27a9db02b51",
   "metadata": {},
   "outputs": [
    {
     "data": {
      "text/plain": [
       "[[cirq.LineQid(0, dimension=4), cirq.LineQid(2, dimension=4)],\n",
       " [cirq.LineQid(1, dimension=4), cirq.LineQid(3, dimension=4)]]"
      ]
     },
     "execution_count": 57,
     "metadata": {},
     "output_type": "execute_result"
    }
   ],
   "source": [
    "y_hop_couples"
   ]
  },
  {
   "cell_type": "code",
   "execution_count": null,
   "id": "1cb9fa82-bb34-4f8c-9fab-601b8d48ba3f",
   "metadata": {},
   "outputs": [],
   "source": []
  },
  {
   "cell_type": "code",
   "execution_count": 70,
   "id": "fbd74f8c-ac39-4e4c-bbca-5bcb46d52417",
   "metadata": {},
   "outputs": [
    {
     "name": "stdout",
     "output_type": "stream",
     "text": [
      "t = 0.0\t\tEkin=-1.0296\tPot=0.3333\tH=-0.6963\n",
      "t = 0.1\t\tEkin=-1.0646\tPot=0.368\tH=-0.6966\n"
     ]
    }
   ],
   "source": [
    "# num_steps = 1\n",
    "\n",
    "N = 4\n",
    "for idx, t in enumerate(temps):\n",
    "    print(f\"t = {t:.2}\\t\\tEkin={np.round(ekin[idx], N)}\\tPot={np.round(epot[idx], N)}\\tH={np.round(ekin[idx]+epot[idx], N)}\")"
   ]
  },
  {
   "cell_type": "code",
   "execution_count": 73,
   "id": "824ebc15-1526-497b-a199-a88ccc29c514",
   "metadata": {},
   "outputs": [
    {
     "name": "stdout",
     "output_type": "stream",
     "text": [
      "t = 0.0\t\tEkin=-1.0296\tPot=0.3333\tH=-0.6963\n",
      "t = 0.02\t\tEkin=-1.038\tPot=0.3417\tH=-0.6963\n",
      "t = 0.04\t\tEkin=-1.0457\tPot=0.3494\tH=-0.6963\n",
      "t = 0.06\t\tEkin=-1.0526\tPot=0.3564\tH=-0.6963\n",
      "t = 0.08\t\tEkin=-1.0589\tPot=0.3626\tH=-0.6963\n",
      "t = 0.1\t\tEkin=-1.0643\tPot=0.368\tH=-0.6963\n"
     ]
    }
   ],
   "source": [
    "# num_steps = 5\n",
    "\n",
    "N = 4\n",
    "for idx, t in enumerate(temps):\n",
    "    print(f\"t = {t:.2}\\t\\tEkin={np.round(ekin[idx], N)}\\tPot={np.round(epot[idx], N)}\\tH={np.round(ekin[idx]+epot[idx], N)}\")"
   ]
  },
  {
   "cell_type": "code",
   "execution_count": 76,
   "id": "bdb7a362-cdc2-4a46-96e5-9b4a618ff813",
   "metadata": {},
   "outputs": [
    {
     "name": "stdout",
     "output_type": "stream",
     "text": [
      "t = 0.0\t\tEkin=-1.0296\tPot=0.3333\tH=-0.6963\n",
      "t = 0.01\t\tEkin=-1.0339\tPot=0.3376\tH=-0.6963\n",
      "t = 0.02\t\tEkin=-1.038\tPot=0.3417\tH=-0.6963\n",
      "t = 0.03\t\tEkin=-1.0419\tPot=0.3456\tH=-0.6963\n",
      "t = 0.04\t\tEkin=-1.0457\tPot=0.3494\tH=-0.6963\n",
      "t = 0.05\t\tEkin=-1.0492\tPot=0.353\tH=-0.6963\n",
      "t = 0.06\t\tEkin=-1.0526\tPot=0.3564\tH=-0.6963\n",
      "t = 0.07\t\tEkin=-1.0559\tPot=0.3596\tH=-0.6963\n",
      "t = 0.08\t\tEkin=-1.0589\tPot=0.3626\tH=-0.6963\n",
      "t = 0.09\t\tEkin=-1.0617\tPot=0.3654\tH=-0.6963\n",
      "t = 0.1\t\tEkin=-1.0643\tPot=0.368\tH=-0.6963\n"
     ]
    }
   ],
   "source": [
    "# num_steps = 10\n",
    "\n",
    "N = 4\n",
    "for idx, t in enumerate(temps):\n",
    "    print(f\"t = {t:.2}\\t\\tEkin={np.round(ekin[idx], N)}\\tPot={np.round(epot[idx], N)}\\tH={np.round(ekin[idx]+epot[idx], N)}\")"
   ]
  },
  {
   "cell_type": "code",
   "execution_count": null,
   "id": "64471a8c-d12f-4e38-88ab-f163f2e50c4f",
   "metadata": {},
   "outputs": [],
   "source": []
  },
  {
   "cell_type": "code",
   "execution_count": null,
   "id": "08996429-1a11-4480-b612-f969cd318f7b",
   "metadata": {},
   "outputs": [],
   "source": []
  },
  {
   "cell_type": "code",
   "execution_count": 58,
   "id": "08cc9a5b-b933-4d97-aead-8f9fdcca77ac",
   "metadata": {},
   "outputs": [
    {
     "name": "stdout",
     "output_type": "stream",
     "text": [
      "t = 0.0\t\tEkin=-1.0296\tPot=0.3333\tH=-0.6963\n",
      "t = 0.1\t\tEkin=-1.0563\tPot=0.3694\tH=-0.6869\n"
     ]
    }
   ],
   "source": [
    "# num_steps = 1\n",
    "\n",
    "N = 4\n",
    "for idx, t in enumerate(temps):\n",
    "    print(f\"t = {t:.2}\\t\\tEkin={np.round(ekin[idx], N)}\\tPot={np.round(epot[idx], N)}\\tH={np.round(ekin[idx]+epot[idx], N)}\")"
   ]
  },
  {
   "cell_type": "code",
   "execution_count": 61,
   "id": "66211491-5691-4463-96ee-c827eef669db",
   "metadata": {},
   "outputs": [
    {
     "name": "stdout",
     "output_type": "stream",
     "text": [
      "t = 0.0\t\tEkin=-1.0296\tPot=0.3333\tH=-0.6963\n",
      "t = 0.02\t\tEkin=-1.0377\tPot=0.3417\tH=-0.696\n",
      "t = 0.04\t\tEkin=-1.0451\tPot=0.3495\tH=-0.6956\n",
      "t = 0.06\t\tEkin=-1.0518\tPot=0.3565\tH=-0.6952\n",
      "t = 0.08\t\tEkin=-1.0577\tPot=0.3628\tH=-0.6949\n",
      "t = 0.1\t\tEkin=-1.0628\tPot=0.3683\tH=-0.6945\n"
     ]
    }
   ],
   "source": [
    "# num_steps = 5\n",
    "\n",
    "N = 4\n",
    "for idx, t in enumerate(temps):\n",
    "    print(f\"t = {t:.2}\\t\\tEkin={np.round(ekin[idx], N)}\\tPot={np.round(epot[idx], N)}\\tH={np.round(ekin[idx]+epot[idx], N)}\")"
   ]
  },
  {
   "cell_type": "code",
   "execution_count": 65,
   "id": "16f4879f-320b-4e86-87b8-bb9a8e92874a",
   "metadata": {},
   "outputs": [
    {
     "name": "stdout",
     "output_type": "stream",
     "text": [
      "t = 0.0\t\tEkin=-1.0296\tPot=0.3333\tH=-0.6963\n",
      "t = 0.01\t\tEkin=-1.0338\tPot=0.3376\tH=-0.6962\n",
      "t = 0.02\t\tEkin=-1.0378\tPot=0.3417\tH=-0.6961\n",
      "t = 0.03\t\tEkin=-1.0417\tPot=0.3457\tH=-0.696\n",
      "t = 0.04\t\tEkin=-1.0454\tPot=0.3494\tH=-0.6959\n",
      "t = 0.05\t\tEkin=-1.0489\tPot=0.353\tH=-0.6959\n",
      "t = 0.06\t\tEkin=-1.0522\tPot=0.3564\tH=-0.6958\n",
      "t = 0.07\t\tEkin=-1.0553\tPot=0.3597\tH=-0.6957\n",
      "t = 0.08\t\tEkin=-1.0583\tPot=0.3627\tH=-0.6956\n",
      "t = 0.09\t\tEkin=-1.061\tPot=0.3655\tH=-0.6955\n",
      "t = 0.1\t\tEkin=-1.0635\tPot=0.3681\tH=-0.6954\n"
     ]
    }
   ],
   "source": [
    "# num_steps = 10\n",
    "\n",
    "N = 4\n",
    "for idx, t in enumerate(temps):\n",
    "    print(f\"t = {t:.2}\\t\\tEkin={np.round(ekin[idx], N)}\\tPot={np.round(epot[idx], N)}\\tH={np.round(ekin[idx]+epot[idx], N)}\")"
   ]
  },
  {
   "cell_type": "code",
   "execution_count": null,
   "id": "1af75bac-d9cd-4bbf-9f06-64c0d5feb0d3",
   "metadata": {},
   "outputs": [],
   "source": []
  },
  {
   "cell_type": "code",
   "execution_count": null,
   "id": "b2ea7fc5-5c84-4437-93ca-8bd330f070da",
   "metadata": {},
   "outputs": [],
   "source": []
  },
  {
   "cell_type": "code",
   "execution_count": null,
   "id": "9eeff119-b1ae-4b7d-95bd-ccc78ee501cf",
   "metadata": {},
   "outputs": [],
   "source": []
  },
  {
   "cell_type": "code",
   "execution_count": null,
   "id": "e8653192-b8e6-4f17-9cfc-88da2b47e590",
   "metadata": {},
   "outputs": [],
   "source": []
  },
  {
   "cell_type": "code",
   "execution_count": null,
   "id": "6e062988-0a1a-49dd-95fb-ac19bce21c00",
   "metadata": {},
   "outputs": [],
   "source": []
  },
  {
   "cell_type": "code",
   "execution_count": null,
   "id": "bcb80301-8550-41f1-a7cb-91f14e603ec5",
   "metadata": {},
   "outputs": [],
   "source": []
  },
  {
   "cell_type": "code",
   "execution_count": 34,
   "id": "f9abc352-a445-46bf-87c5-2eb064198748",
   "metadata": {},
   "outputs": [
    {
     "name": "stdout",
     "output_type": "stream",
     "text": [
      "t = 0.0\t\tEkin=-1.0296\tPot=0.3333\tH=-0.6963\n",
      "t = 0.1\t\tEkin=-1.0638\tPot=0.368\tH=-0.6958\n"
     ]
    }
   ],
   "source": [
    "# num_steps = 1\n",
    "\n",
    "N = 4\n",
    "for idx, t in enumerate(temps):\n",
    "    print(f\"t = {t:.2}\\t\\tEkin={np.round(ekin[idx], N)}\\tPot={np.round(epot[idx], N)}\\tH={np.round(ekin[idx]+epot[idx], N)}\")"
   ]
  },
  {
   "cell_type": "code",
   "execution_count": 39,
   "id": "bbea6953-741e-4024-b71b-9af3e5f0b3de",
   "metadata": {},
   "outputs": [
    {
     "name": "stdout",
     "output_type": "stream",
     "text": [
      "t = 0.0\t\tEkin=-1.0296\tPot=0.3333\tH=-0.6963\n",
      "t = 0.05\t\tEkin=-1.049\tPot=0.353\tH=-0.696\n",
      "t = 0.1\t\tEkin=-1.064\tPot=0.368\tH=-0.696\n"
     ]
    }
   ],
   "source": [
    "# num_steps = 2\n",
    "\n",
    "N = 4\n",
    "for idx, t in enumerate(temps):\n",
    "    print(f\"t = {t:.2}\\t\\tEkin={np.round(ekin[idx], N)}\\tPot={np.round(epot[idx], N)}\\tH={np.round(ekin[idx]+epot[idx], N)}\")"
   ]
  },
  {
   "cell_type": "code",
   "execution_count": 46,
   "id": "dc94b8b6-236c-4725-a05b-7f3c36e27c13",
   "metadata": {},
   "outputs": [
    {
     "name": "stdout",
     "output_type": "stream",
     "text": [
      "t = 0.0\t\tEkin=-1.0296\tPot=0.3333\tH=-0.6963\n",
      "t = 0.025\t\tEkin=-1.0399\tPot=0.3437\tH=-0.6962\n",
      "t = 0.05\t\tEkin=-1.0491\tPot=0.353\tH=-0.6962\n",
      "t = 0.075\t\tEkin=-1.0572\tPot=0.3611\tH=-0.6961\n",
      "t = 0.1\t\tEkin=-1.0641\tPot=0.368\tH=-0.6961\n"
     ]
    }
   ],
   "source": [
    "# num_steps = 4\n",
    "\n",
    "N = 4\n",
    "for idx, t in enumerate(temps):\n",
    "    print(f\"t = {t:.2}\\t\\tEkin={np.round(ekin[idx], N)}\\tPot={np.round(epot[idx], N)}\\tH={np.round(ekin[idx]+epot[idx], N)}\")"
   ]
  },
  {
   "cell_type": "code",
   "execution_count": 50,
   "id": "64a72649-cddd-4cca-8a92-a75fc18017c4",
   "metadata": {},
   "outputs": [
    {
     "name": "stdout",
     "output_type": "stream",
     "text": [
      "t = 0.0\t\tEkin=-1.0296\tPot=0.3333\tH=-0.6963\n",
      "t = 0.01\t\tEkin=-1.0339\tPot=0.3376\tH=-0.6963\n",
      "t = 0.02\t\tEkin=-1.0379\tPot=0.3417\tH=-0.6963\n",
      "t = 0.03\t\tEkin=-1.0419\tPot=0.3456\tH=-0.6962\n",
      "t = 0.04\t\tEkin=-1.0456\tPot=0.3494\tH=-0.6962\n",
      "t = 0.05\t\tEkin=-1.0492\tPot=0.353\tH=-0.6962\n",
      "t = 0.06\t\tEkin=-1.0526\tPot=0.3564\tH=-0.6962\n",
      "t = 0.07\t\tEkin=-1.0558\tPot=0.3596\tH=-0.6962\n",
      "t = 0.08\t\tEkin=-1.0588\tPot=0.3626\tH=-0.6962\n",
      "t = 0.09\t\tEkin=-1.0616\tPot=0.3654\tH=-0.6962\n",
      "t = 0.1\t\tEkin=-1.0642\tPot=0.368\tH=-0.6962\n"
     ]
    }
   ],
   "source": [
    "# num_steps = 10\n",
    "\n",
    "N = 4\n",
    "for idx, t in enumerate(temps):\n",
    "    print(f\"t = {t:.2}\\t\\tEkin={np.round(ekin[idx], N)}\\tPot={np.round(epot[idx], N)}\\tH={np.round(ekin[idx]+epot[idx], N)}\")"
   ]
  },
  {
   "cell_type": "code",
   "execution_count": null,
   "id": "a05e64fc-93a2-42f2-9e4d-72a0d5339767",
   "metadata": {},
   "outputs": [],
   "source": []
  }
 ],
 "metadata": {
  "kernelspec": {
   "display_name": "qudit",
   "language": "python",
   "name": "qudit"
  },
  "language_info": {
   "codemirror_mode": {
    "name": "ipython",
    "version": 3
   },
   "file_extension": ".py",
   "mimetype": "text/x-python",
   "name": "python",
   "nbconvert_exporter": "python",
   "pygments_lexer": "ipython3",
   "version": "3.12.4"
  }
 },
 "nbformat": 4,
 "nbformat_minor": 5
}
