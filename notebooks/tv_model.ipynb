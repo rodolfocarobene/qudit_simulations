{
  "cells": [
  {
   "cell_type": "code",
   "execution_count": 1,
   "id": "6715d37c-e43d-4d07-b317-7a9b1f20d2e2",
   "metadata": {},
   "outputs": [],
   "source": [
    "from primitives.primitives import *\n",
    "from cirq import Circuit, LineQid, measure, sample, Simulator\n",
    "from scipy.linalg import expm\n",
    "import matplotlib.pyplot as plt\n",
    "from numpy.linalg import eig\n",
    "import re\n",
    "from scipy import sparse\n",
    "\n",
    "\n",
    "simulator = Simulator()"
   ]
  },
  {
   "cell_type": "markdown",
   "id": "799fbb46-5eae-4735-bbc3-4fa80830a1a3",
   "metadata": {},
   "source": [
    "## t-V model definition\n",
    "\n",
    "One-dimensional spinless t-V model (range=1):\n",
    "\n",
    "$H = -t \\sum_{i=1}^{L} \\left( c_i^\\dagger c_{i+1} + h.c.\\right) + V \\sum_{i=1}^L n_i n_{i+1}$"
   ]
  },
  {
   "cell_type": "markdown",
   "id": "3400e16a-d03d-4c13-b31b-5161b5e5c8d4",
   "metadata": {},
   "source": [
    "In the 2D case we have to define horizontal and vertical hopping operators.\n",
    "\n",
    "### Horizontal hopping operators\n",
    "\n",
    "$H_x^{hop} (i, i+1) = i \\Gamma^1_{i} \\Gamma^2_{i+1} \\left(\\tilde \\Gamma_i -\\tilde\\Gamma_{i+1}\\right)$"
   ]
  },
  {
   "cell_type": "code",
   "execution_count": 2,
   "id": "902eaf03-d670-4b7e-a9d8-69ca29b48f81",
   "metadata": {},
   "outputs": [
    {
     "data": {
      "text/latex": [
       "$\\displaystyle \\left[\\begin{array}{cccccccccccccccc}0 & 0 & 0 & 0 & 0 & 0 & 0 & 0 & 0 & 0 & 0 & 0 & 0 & 0 & 0 & 0\\\\0 & 0 & 0 & 0 & 0 & 0 & 0 & 0 & 0 & 0 & 0 & -2.0 & 0 & 0 & 0 & 0\\\\0 & 0 & 0 & 0 & 0 & 0 & 0 & 0 & 2.0 & 0 & 0 & 0 & 0 & 0 & 0 & 0\\\\0 & 0 & 0 & 0 & 0 & 0 & 0 & 0 & 0 & 0 & 0 & 0 & 0 & 0 & 0 & 0\\\\0 & 0 & 0 & 0 & 0 & 0 & 0 & 0 & 0 & 0 & 0 & 0 & 0 & 0 & 2.0 & 0\\\\0 & 0 & 0 & 0 & 0 & 0 & 0 & 0 & 0 & 0 & 0 & 0 & 0 & 0 & 0 & 0\\\\0 & 0 & 0 & 0 & 0 & 0 & 0 & 0 & 0 & 0 & 0 & 0 & 0 & 0 & 0 & 0\\\\0 & 0 & 0 & 0 & 0 & 0 & 0 & 0 & 0 & 0 & 0 & 0 & 0 & -2.0 & 0 & 0\\\\0 & 0 & 2.0 & 0 & 0 & 0 & 0 & 0 & 0 & 0 & 0 & 0 & 0 & 0 & 0 & 0\\\\0 & 0 & 0 & 0 & 0 & 0 & 0 & 0 & 0 & 0 & 0 & 0 & 0 & 0 & 0 & 0\\\\0 & 0 & 0 & 0 & 0 & 0 & 0 & 0 & 0 & 0 & 0 & 0 & 0 & 0 & 0 & 0\\\\0 & -2.0 & 0 & 0 & 0 & 0 & 0 & 0 & 0 & 0 & 0 & 0 & 0 & 0 & 0 & 0\\\\0 & 0 & 0 & 0 & 0 & 0 & 0 & 0 & 0 & 0 & 0 & 0 & 0 & 0 & 0 & 0\\\\0 & 0 & 0 & 0 & 0 & 0 & 0 & -2.0 & 0 & 0 & 0 & 0 & 0 & 0 & 0 & 0\\\\0 & 0 & 0 & 0 & 2.0 & 0 & 0 & 0 & 0 & 0 & 0 & 0 & 0 & 0 & 0 & 0\\\\0 & 0 & 0 & 0 & 0 & 0 & 0 & 0 & 0 & 0 & 0 & 0 & 0 & 0 & 0 & 0\\end{array}\\right]$"
      ],
      "text/plain": [
       "Matrix([\n",
       "[0,    0,   0, 0,   0, 0, 0,    0,   0, 0, 0,    0, 0,    0,   0, 0],\n",
       "[0,    0,   0, 0,   0, 0, 0,    0,   0, 0, 0, -2.0, 0,    0,   0, 0],\n",
       "[0,    0,   0, 0,   0, 0, 0,    0, 2.0, 0, 0,    0, 0,    0,   0, 0],\n",
       "[0,    0,   0, 0,   0, 0, 0,    0,   0, 0, 0,    0, 0,    0,   0, 0],\n",
       "[0,    0,   0, 0,   0, 0, 0,    0,   0, 0, 0,    0, 0,    0, 2.0, 0],\n",
       "[0,    0,   0, 0,   0, 0, 0,    0,   0, 0, 0,    0, 0,    0,   0, 0],\n",
       "[0,    0,   0, 0,   0, 0, 0,    0,   0, 0, 0,    0, 0,    0,   0, 0],\n",
       "[0,    0,   0, 0,   0, 0, 0,    0,   0, 0, 0,    0, 0, -2.0,   0, 0],\n",
       "[0,    0, 2.0, 0,   0, 0, 0,    0,   0, 0, 0,    0, 0,    0,   0, 0],\n",
       "[0,    0,   0, 0,   0, 0, 0,    0,   0, 0, 0,    0, 0,    0,   0, 0],\n",
       "[0,    0,   0, 0,   0, 0, 0,    0,   0, 0, 0,    0, 0,    0,   0, 0],\n",
       "[0, -2.0,   0, 0,   0, 0, 0,    0,   0, 0, 0,    0, 0,    0,   0, 0],\n",
       "[0,    0,   0, 0,   0, 0, 0,    0,   0, 0, 0,    0, 0,    0,   0, 0],\n",
       "[0,    0,   0, 0,   0, 0, 0, -2.0,   0, 0, 0,    0, 0,    0,   0, 0],\n",
       "[0,    0,   0, 0, 2.0, 0, 0,    0,   0, 0, 0,    0, 0,    0,   0, 0],\n",
       "[0,    0,   0, 0,   0, 0, 0,    0,   0, 0, 0,    0, 0,    0,   0, 0]])"
      ]
     },
     "execution_count": 2,
     "metadata": {},
     "output_type": "execute_result"
    }
   ],
   "source": [
    "x_hop_matrix = 1j * TensorProduct(sy_gamma_1 * sy_gamma_5, sy_gamma_2) - 1j * TensorProduct(sy_gamma_1, sy_gamma_2 * sy_gamma_5)\n",
    "class HopXGate(Gate):\n",
    "    \"\"\"Horizontal hopping gate.\"\"\"\n",
    "    def _qid_shape_(self):\n",
    "        return (4, 4)\n",
    "    def _unitary_(self):\n",
    "        return np.array(x_hop_matrix)\n",
    "    def _circuit_diagram_info_(self, args):\n",
    "        return [\"H_x(r)\", \"H_x(r+1)\"]\n",
    "x_hop_matrix"
   ]
  },
  {
   "cell_type": "markdown",
   "id": "501ad2ba-9071-41d1-ba2f-4bc5e3f71471",
   "metadata": {},
   "source": [
    "### Vertical hopping operators\n",
    "\n",
    "$H_y^{hop} (i, i+1) = i \\Gamma^3_{i} \\Gamma^4_{i+1} \\left(\\tilde \\Gamma_i -\\tilde\\Gamma_{i+1}\\right)$"
   ]
  },
  {
   "cell_type": "code",
   "execution_count": 3,
   "id": "ff0e0101-a6da-44c7-b43e-c6f73b268804",
   "metadata": {},
   "outputs": [
    {
     "data": {
      "text/latex": [
       "$\\displaystyle \\left[\\begin{array}{cccccccccccccccc}0 & 0 & 0 & 0 & 0 & 0 & 0 & 0 & 0 & 0 & 0 & 0 & 0 & 0 & 0 & 0\\\\0 & 0 & 0 & 0 & 2.0 & 0 & 0 & 0 & 0 & 0 & 0 & 0 & 0 & 0 & 0 & 0\\\\0 & 0 & 0 & 0 & 0 & 0 & 0 & 2.0 & 0 & 0 & 0 & 0 & 0 & 0 & 0 & 0\\\\0 & 0 & 0 & 0 & 0 & 0 & 0 & 0 & 0 & 0 & 0 & 0 & 0 & 0 & 0 & 0\\\\0 & 2.0 & 0 & 0 & 0 & 0 & 0 & 0 & 0 & 0 & 0 & 0 & 0 & 0 & 0 & 0\\\\0 & 0 & 0 & 0 & 0 & 0 & 0 & 0 & 0 & 0 & 0 & 0 & 0 & 0 & 0 & 0\\\\0 & 0 & 0 & 0 & 0 & 0 & 0 & 0 & 0 & 0 & 0 & 0 & 0 & 0 & 0 & 0\\\\0 & 0 & 2.0 & 0 & 0 & 0 & 0 & 0 & 0 & 0 & 0 & 0 & 0 & 0 & 0 & 0\\\\0 & 0 & 0 & 0 & 0 & 0 & 0 & 0 & 0 & 0 & 0 & 0 & 0 & -2.0 & 0 & 0\\\\0 & 0 & 0 & 0 & 0 & 0 & 0 & 0 & 0 & 0 & 0 & 0 & 0 & 0 & 0 & 0\\\\0 & 0 & 0 & 0 & 0 & 0 & 0 & 0 & 0 & 0 & 0 & 0 & 0 & 0 & 0 & 0\\\\0 & 0 & 0 & 0 & 0 & 0 & 0 & 0 & 0 & 0 & 0 & 0 & 0 & 0 & -2.0 & 0\\\\0 & 0 & 0 & 0 & 0 & 0 & 0 & 0 & 0 & 0 & 0 & 0 & 0 & 0 & 0 & 0\\\\0 & 0 & 0 & 0 & 0 & 0 & 0 & 0 & -2.0 & 0 & 0 & 0 & 0 & 0 & 0 & 0\\\\0 & 0 & 0 & 0 & 0 & 0 & 0 & 0 & 0 & 0 & 0 & -2.0 & 0 & 0 & 0 & 0\\\\0 & 0 & 0 & 0 & 0 & 0 & 0 & 0 & 0 & 0 & 0 & 0 & 0 & 0 & 0 & 0\\end{array}\\right]$"
      ],
      "text/plain": [
       "Matrix([\n",
       "[0,   0,   0, 0,   0, 0, 0,   0,    0, 0, 0,    0, 0,    0,    0, 0],\n",
       "[0,   0,   0, 0, 2.0, 0, 0,   0,    0, 0, 0,    0, 0,    0,    0, 0],\n",
       "[0,   0,   0, 0,   0, 0, 0, 2.0,    0, 0, 0,    0, 0,    0,    0, 0],\n",
       "[0,   0,   0, 0,   0, 0, 0,   0,    0, 0, 0,    0, 0,    0,    0, 0],\n",
       "[0, 2.0,   0, 0,   0, 0, 0,   0,    0, 0, 0,    0, 0,    0,    0, 0],\n",
       "[0,   0,   0, 0,   0, 0, 0,   0,    0, 0, 0,    0, 0,    0,    0, 0],\n",
       "[0,   0,   0, 0,   0, 0, 0,   0,    0, 0, 0,    0, 0,    0,    0, 0],\n",
       "[0,   0, 2.0, 0,   0, 0, 0,   0,    0, 0, 0,    0, 0,    0,    0, 0],\n",
       "[0,   0,   0, 0,   0, 0, 0,   0,    0, 0, 0,    0, 0, -2.0,    0, 0],\n",
       "[0,   0,   0, 0,   0, 0, 0,   0,    0, 0, 0,    0, 0,    0,    0, 0],\n",
       "[0,   0,   0, 0,   0, 0, 0,   0,    0, 0, 0,    0, 0,    0,    0, 0],\n",
       "[0,   0,   0, 0,   0, 0, 0,   0,    0, 0, 0,    0, 0,    0, -2.0, 0],\n",
       "[0,   0,   0, 0,   0, 0, 0,   0,    0, 0, 0,    0, 0,    0,    0, 0],\n",
       "[0,   0,   0, 0,   0, 0, 0,   0, -2.0, 0, 0,    0, 0,    0,    0, 0],\n",
       "[0,   0,   0, 0,   0, 0, 0,   0,    0, 0, 0, -2.0, 0,    0,    0, 0],\n",
       "[0,   0,   0, 0,   0, 0, 0,   0,    0, 0, 0,    0, 0,    0,    0, 0]])"
      ]
     },
     "execution_count": 3,
     "metadata": {},
     "output_type": "execute_result"
    }
   ],
   "source": [
    "y_hop_matrix = 1j * TensorProduct(sy_gamma_3 * sy_gamma_5, sy_gamma_4) - 1j * TensorProduct(sy_gamma_3, sy_gamma_4 * sy_gamma_5)\n",
    "class HopYGate(Gate):\n",
    "    \"\"\"Vertical hopping gate.\"\"\"\n",
    "    def _qid_shape_(self):\n",
    "        return (4, 4)\n",
    "    def _unitary_(self):\n",
    "        return np.array(y_hop_matrix)\n",
    "    def _circuit_diagram_info_(self, args):\n",
    "        return [\"H_y(r)\", \"H_y(r+1)\"]\n",
    "y_hop_matrix"
   ]
  },
  {
   "cell_type": "markdown",
   "id": "9da0b3d7-b845-4762-a093-d8327dc6abf2",
   "metadata": {},
   "source": [
    "### Number operator\n",
    "\n",
    "$n_i = \\frac{1}{2} - \\frac{1}{2}\\tilde \\Gamma_i$"
   ]
  },
  {
   "cell_type": "code",
   "execution_count": 4,
   "id": "1410f684-ac7b-43dd-b282-d7db129904bd",
   "metadata": {},
   "outputs": [
    {
     "data": {
      "text/latex": [
       "$\\displaystyle \\left[\\begin{matrix}0 & 0 & 0 & 0\\\\0 & 1.0 & 0 & 0\\\\0 & 0 & 1.0 & 0\\\\0 & 0 & 0 & 0\\end{matrix}\\right]$"
      ],
      "text/plain": [
       "Matrix([\n",
       "[0,   0,   0, 0],\n",
       "[0, 1.0,   0, 0],\n",
       "[0,   0, 1.0, 0],\n",
       "[0,   0,   0, 0]])"
      ]
     },
     "execution_count": 4,
     "metadata": {},
     "output_type": "execute_result"
    }
   ],
   "source": [
    "number_matrix = 0.5 * sy_id - 0.5 * sy_gamma_5\n",
    "class NumberGate(Gate):\n",
    "    \"\"\"Number gate.\"\"\"\n",
    "    def _qid_shape_(self):\n",
    "        return (4,)\n",
    "    def _unitary_(self):\n",
    "        return np.array(number_matrix)\n",
    "    def _circuit_diagram_info_(self, args):\n",
    "        return [\"n(r)\"]\n",
    "number_matrix"
   ]
  },
  {
   "cell_type": "markdown",
   "id": "d83e07b8-df2e-4efd-b067-55c97a70fb23",
   "metadata": {},
   "source": [
    "### Evolution gates"
   ]
  },
  {
   "cell_type": "code",
   "execution_count": 5,
   "id": "6a3ea939-87ca-455c-b3b5-100b96bacf0d",
   "metadata": {},
   "outputs": [],
   "source": [
    "def evolve_gate(gate):\n",
    "    class evolved(Gate):\n",
    "        def __init__(self, C=1, t=0.1):\n",
    "            self.C = C  # coefficient\n",
    "            self.t = t  # evolution time\n",
    "            self.matrix = expm(np.array(-1j * self.t * self.C * gate()._unitary_(), dtype=np.complex128))\n",
    "            super()\n",
    "        def _qid_shape_(self):\n",
    "            return gate()._qid_shape_()\n",
    "        def _circuit_diagram_info_(self, args):\n",
    "            return gate()._circuit_diagram_info_(args)\n",
    "        def _unitary_(self):\n",
    "            return self.matrix\n",
    "    return evolved\n",
    "\n",
    "# example:\n",
    "evolution_hopping = evolve_gate(HopYGate)(C = 1, t = 0.5)"
   ]
  },
  {
   "cell_type": "markdown",
   "id": "d07f56d4-3930-4273-9cea-a85723c6a244",
   "metadata": {},
   "source": [
    "## Evolving a state"
   ]
  },
  {
   "cell_type": "code",
   "execution_count": 6,
   "id": "fc457e1d-699c-42e0-8024-ce7e9c63482c",
   "metadata": {},
   "outputs": [],
   "source": [
    "def evolve(qubits, temps, initial=None, t=1, V=0, exact=False, shots=10):\n",
    "\n",
    "    if initial is None:\n",
    "        initial = []\n",
    "    \n",
    "    if V != 0:\n",
    "        evolution_number = evolve_gate(NumberGate)(t = temps[1]-temps[0])\n",
    "\n",
    "    if len(temps) > 1:\n",
    "        evolution_horizontal_hop = evolve_gate(HopXGate)(C=t, t = temps[1]-temps[0])\n",
    "        evolution_vertical_hop = evolve_gate(HopYGate)(C=t, t = temps[1]-temps[0])\n",
    "\n",
    "    results = []\n",
    "    \n",
    "    evolution_circuit = []\n",
    "    for idx, t in enumerate(temps):\n",
    "\n",
    "        if t != 0:\n",
    "            # on site part\n",
    "            if V != 0:\n",
    "                for qubit in qubits.flatten():\n",
    "                    evolution_circuit.append(evolution_number(qubit))\n",
    "    \n",
    "            rows, cols = qubits.shape\n",
    "            for r_idx, row in enumerate(qubits):\n",
    "                for q_idx, qubit in enumerate(row):\n",
    "\n",
    "                    # THIS IS WITHOUT PERIODIC BOUNDARIES\n",
    "                    if r_idx != rows - 1:\n",
    "                        qubit_2 = qubits[r_idx+1][q_idx]\n",
    "                        evolution_circuit.append(evolution_horizontal_hop(qubit, qubit_2))\n",
    "                    if q_idx != cols - 1:\n",
    "                        qubit_2 = qubits[r_idx][q_idx+1]\n",
    "                        evolution_circuit.append(evolution_horizontal_hop(qubit, qubit_2))\n",
    "\n",
    "                    '''\n",
    "                    # THIS IS WITH PERIODIC BOUNDARIES\n",
    "\n",
    "                    # horizontal hopping\n",
    "                    qubit_2 = row[0] if q_idx == columns-1 else row[q_idx+1]\n",
    "                    evolution_circuit.append(evolution_horizontal_hop(qubit, qubit_2))\n",
    "                    # vertical hopping\n",
    "                    qubit_2 = qubits[0][q_idx] if r_idx == rows-1 else qubits[r_idx+1][q_idx]\n",
    "                    evolution_circuit.append(evolution_vertical_hop(qubit, qubit_2))\n",
    "                    '''\n",
    "                    \n",
    "        if not exact:\n",
    "            measures = [measure(qubit, key=f\"q{idx}\") for idx, qubit in enumerate(qubits.flatten())]\n",
    "            circuit = Circuit([*initial, *evolution_circuit, *measures])\n",
    "            results.append((circuit, sample(circuit, repetitions=shots)))\n",
    "        else:\n",
    "            circuit = Circuit([*initial, *evolution_circuit])\n",
    "            results.append((circuit, simulator.simulate(circuit)))\n",
    "            \n",
    "    return results"
   ]
  },
  {
   "cell_type": "code",
   "execution_count": 7,
   "id": "0be9c210-1434-4b60-90c2-e273ecaa9eca",
   "metadata": {},
   "outputs": [],
   "source": [
    "def from_measurements_to_state(a):\n",
    "    num_qubits = len(a.measurements)\n",
    "    state_array = np.zeros(4 ** num_qubits)\n",
    "    for idx in range(a.repetitions):\n",
    "        state_idx = 0\n",
    "        for q in a.measurements:\n",
    "            q_idx = int(q[1:])\n",
    "            state_idx += a.measurements[q][idx][0] * (4**(num_qubits - q_idx - 1))\n",
    "        state_array[state_idx] += 1\n",
    "\n",
    "    state_array = np.array(state_array)\n",
    "    state_array /= np.sum(state_array)\n",
    "    \n",
    "    return state_array"
   ]
  },
  {
   "cell_type": "code",
   "execution_count": 8,
   "id": "dd1323a0-894d-4658-9b33-3d4e8c0152a2",
   "metadata": {
    "scrolled": true
   },
   "outputs": [],
   "source": [
    "# Checking if the constraint hold\n",
    "\n",
    "def increment_key(key, num=8):\n",
    "    if key == \"\":\n",
    "        return \"0\"*num\n",
    "    idx = -1\n",
    "    while True:\n",
    "        if -idx > len(key):\n",
    "            print(\"This should not be reached!\")\n",
    "            return key\n",
    "        if int(key[idx]) < 3:\n",
    "            key = list(key)\n",
    "            key[idx] = str(int(key[idx])+1)\n",
    "            return \"\".join(key)\n",
    "        key = list(key)\n",
    "        key[idx] = \"0\"\n",
    "        key = \"\".join(key)\n",
    "        idx -= 1\n",
    "        \n",
    "def state_to_dict(state):\n",
    "    res_dict = {}\n",
    "    state_key = \"\"\n",
    "    \n",
    "    for el in state:\n",
    "        state_key = increment_key(state_key)\n",
    "        res_dict[state_key] = el\n",
    "        \n",
    "    return res_dict\n",
    "\n",
    "def extract_subspace(state, qubits = None):\n",
    "    if qubits is None:\n",
    "        qubits = [0, 1, 4, 5]\n",
    "    res_dict = state_to_dict(state)\n",
    "    new_dict = {}\n",
    "    for key in res_dict:\n",
    "        temp = [key[q] for q in qubits]\n",
    "        restricted_key = \"\".join(temp)\n",
    "        if restricted_key not in new_dict:\n",
    "            new_dict[restricted_key] = 0\n",
    "        new_dict[restricted_key] += res_dict[key]**2\n",
    "\n",
    "    state_array = np.array(list(new_dict.values()))\n",
    "    \n",
    "    sum = 0\n",
    "    for val in state_array:\n",
    "        sum += val**2\n",
    "    state_array /= np.sqrt(sum)\n",
    "    \n",
    "    return state_array"
   ]
  },
  {
   "cell_type": "markdown",
   "id": "520767a5-9a3e-4bca-9562-ca72b49aef87",
   "metadata": {},
   "source": [
    "## Constraints\n",
    "\n",
    "The constraint is (for every plaquette):\n",
    "$\\Gamma^{23}_{r}\\Gamma^{23}_{r+x}\\Gamma^{23}_{r+x+y}\\Gamma^{23}_{r+y} \\tilde\\Gamma_r \\tilde\\Gamma_{r+x+y}= I$\n",
    "\n",
    "We call the first operator G"
   ]
  },
  {
   "cell_type": "code",
   "execution_count": 9,
   "id": "8a945dc2-cc76-4f3d-a709-005022e6dd44",
   "metadata": {},
   "outputs": [
    {
     "data": {
      "text/plain": [
       "array([[0.500000000000000, 0, 0, ..., 0, 0, -0.500000000000000],\n",
       "       [0, 0.500000000000000, 0, ..., 0, 0.500000000000000, 0],\n",
       "       [0, 0, 0.500000000000000, ..., 0.500000000000000, 0, 0],\n",
       "       ...,\n",
       "       [0, 0, 0.500000000000000, ..., 0.500000000000000, 0, 0],\n",
       "       [0, 0.500000000000000, 0, ..., 0, 0.500000000000000, 0],\n",
       "       [-0.500000000000000, 0, 0, ..., 0, 0, 0.500000000000000]],\n",
       "      dtype=object)"
      ]
     },
     "execution_count": 9,
     "metadata": {},
     "output_type": "execute_result"
    }
   ],
   "source": [
    "gamma_23 = sy_gamma_2 * sy_gamma_3\n",
    "\n",
    "G = np.array(TensorProduct(sy_gamma_1*sy_gamma_3, sy_gamma_2*sy_gamma_3, sy_gamma_4*sy_gamma_2, sy_gamma_1*sy_gamma_4))\n",
    "\n",
    "class Project_Constraintb(Gate):\n",
    "    \"\"\"Gate that prepare an initial state, from the coefficients.\"\"\"\n",
    "\n",
    "    def _qid_shape_(self):\n",
    "        return (4, 4, 4, 4)\n",
    "\n",
    "    def _unitary_(self):\n",
    "        return (np.eye(4**4) - G)/2   # IS THIS THE CORRECT FORM?\n",
    "\n",
    "    def _circuit_diagram_info_(self, args):\n",
    "        return [\"P\", \"P\", \"P\", \"P\"]\n",
    "\n",
    "class Project_Constraint(Gate):\n",
    "    \"\"\"Gate that prepare an initial state, from the coefficients.\"\"\"\n",
    "\n",
    "    def _qid_shape_(self):\n",
    "        return (4, 4, 4, 4)\n",
    "\n",
    "    def _unitary_(self):\n",
    "        return (np.eye(4**4) + G)/2   # IS THIS THE CORRECT FORM?\n",
    "\n",
    "    def _circuit_diagram_info_(self, args):\n",
    "        return [\"P\", \"P\", \"P\", \"P\"]\n",
    "Project_Constraint()._unitary_()"
   ]
  },
  {
   "cell_type": "markdown",
   "id": "4ecead64-3ea3-4da0-ac32-4ca8f4c477dc",
   "metadata": {},
   "source": [
    "### Add fermions\n",
    "\n",
    "The creation operator for pairs of fermions is:\n",
    "\n",
    "$f^\\dagger_r f^\\dagger_{r+x}=i \\Gamma^1_r \\Gamma^2_{r+x} \\frac{(I + \\tilde\\Gamma_r)(I + \\tilde \\Gamma_{r+x})}{4}$"
   ]
  },
  {
   "cell_type": "code",
   "execution_count": 10,
   "id": "2da95344-e06f-477b-a2b9-2a100e3bf947",
   "metadata": {},
   "outputs": [
    {
     "data": {
      "text/plain": [
       "array([[0, 0, 0, 0, 0, 0, 0, 0, 0, 0, 0, 0, 0, 0, 0, 0],\n",
       "       [0, 0, 0, 0, 0, 0, 0, 0, 0, 0, 0, 0, 0, 0, 0, 0],\n",
       "       [0, 0, 0, 0, 0, 0, 0, 0, 0, 0, 0, 0, 0, 0, 0, 0],\n",
       "       [0, 0, 0, 0, 0, 0, 0, 0, 0, 0, 0, 0, 0, 0, 0, 0],\n",
       "       [0, 0, 0, 0, 0, 0, 0, 0, 0, 0, 0, 0, 0, 0, 0, 0],\n",
       "       [0, 0, 0, 0, 0, 0, 0, 0, 0, 0, 0, 0, 0, 0, 0, 1.00000000000000],\n",
       "       [0, 0, 0, 0, 0, 0, 0, 0, 0, 0, 0, 0, -1.00000000000000, 0, 0, 0],\n",
       "       [0, 0, 0, 0, 0, 0, 0, 0, 0, 0, 0, 0, 0, 0, 0, 0],\n",
       "       [0, 0, 0, 0, 0, 0, 0, 0, 0, 0, 0, 0, 0, 0, 0, 0],\n",
       "       [0, 0, 0, 1.00000000000000, 0, 0, 0, 0, 0, 0, 0, 0, 0, 0, 0, 0],\n",
       "       [-1.00000000000000, 0, 0, 0, 0, 0, 0, 0, 0, 0, 0, 0, 0, 0, 0, 0],\n",
       "       [0, 0, 0, 0, 0, 0, 0, 0, 0, 0, 0, 0, 0, 0, 0, 0],\n",
       "       [0, 0, 0, 0, 0, 0, 0, 0, 0, 0, 0, 0, 0, 0, 0, 0],\n",
       "       [0, 0, 0, 0, 0, 0, 0, 0, 0, 0, 0, 0, 0, 0, 0, 0],\n",
       "       [0, 0, 0, 0, 0, 0, 0, 0, 0, 0, 0, 0, 0, 0, 0, 0],\n",
       "       [0, 0, 0, 0, 0, 0, 0, 0, 0, 0, 0, 0, 0, 0, 0, 0]], dtype=object)"
      ]
     },
     "execution_count": 10,
     "metadata": {},
     "output_type": "execute_result"
    }
   ],
   "source": [
    "class AddPair(Gate):\n",
    "    \"\"\"Add pair of fermions (r)+(r+x).\"\"\"\n",
    "    \n",
    "    def _qid_shape_(self):\n",
    "        return (4, 4)\n",
    "\n",
    "    def _unitary_(self):\n",
    "        return np.array(1j * (1/4) * TensorProduct(sy_gamma_1, sy_gamma_2) * TensorProduct(sy_id + sy_gamma_5, sy_id + sy_gamma_5))\n",
    "\n",
    "    def _circuit_diagram_info_(self, args):\n",
    "        return [\"f+\", \"f+\"]\n",
    "\n",
    "AddPair()._unitary_()"
   ]
  },
  {
   "cell_type": "markdown",
   "id": "50e1cbc0-73a6-4f33-8173-d47cbbd0c638",
   "metadata": {},
   "source": [
    "## Evolving a 4x2 lattice"
   ]
  },
  {
   "cell_type": "code",
   "execution_count": 11,
   "id": "80af6e2c-6864-4b82-a292-9c56e122e650",
   "metadata": {},
   "outputs": [],
   "source": [
    "rows = 2\n",
    "columns = 4\n",
    "\n",
    "qudits = np.array(LineQid.range(rows * columns, dimension=4)).reshape(rows, columns)\n",
    "temps = np.arange(0, 2, 1)\n",
    "\n",
    "# initial circuit that ensures that the correct subspace is used (really?)\n",
    "initial_circuit = [\n",
    "    #GateId()(qudits[0][0], qudits[0][1], qudits[1][1], qudits[1][0]),\n",
    "    Project_Constraint()(qudits[0][0], qudits[0][1], qudits[1][1], qudits[1][0]),\n",
    "    Project_Constraint()(qudits[0][1], qudits[0][2], qudits[1][2], qudits[1][1]),\n",
    "    Project_Constraint()(qudits[0][2], qudits[0][3], qudits[1][3], qudits[1][2]),\n",
    "    \n",
    "    #Project_Constraint()(qubits[1][0], qubits[1][1], qubits[0][1], qubits[0][0]),\n",
    "    #Project_Constraint()(qubits[1][1], qubits[1][2], qubits[0][2], qubits[0][1]),\n",
    "    #Project_Constraint()(qubits[1][2], qubits[1][3], qubits[0][3], qubits[0][2]),\n",
    "    #Project_Constraint()(qubits[0][3], qubits[0][0], qubits[0][1], qubits[1][3]),\n",
    "\n",
    "    AddPair()(qudits[0][0], qudits[0][1]),\n",
    "    #AddPair()(qubits[1][0], qubits[1][1]),\n",
    "\n",
    "]\n",
    "\n",
    "# results is a list of tuples, every tuple contains the circuit and the result shots\n",
    "exact = True\n",
    "results = evolve(qudits, temps, initial_circuit, shots=10, exact=exact)\n",
    "if exact:\n",
    "    result_states = [res[1].state_vector() for res in results]\n",
    "else:\n",
    "    result_states = [from_measurements_to_state(res[1]) for res in results]"
   ]
  },
  {
   "cell_type": "code",
   "execution_count": 12,
   "id": "be159b6c-3559-4715-8172-6aaf8b4a94df",
   "metadata": {},
   "outputs": [
    {
     "data": {
      "text/html": [
       "<pre style=\"overflow: auto; white-space: pre;\">0 (d=4): ───P───────f+───\n",
       "            │       │\n",
       "1 (d=4): ───P───P───f+───\n",
       "            │   │\n",
       "2 (d=4): ───┼───P───P────\n",
       "            │   │   │\n",
       "3 (d=4): ───┼───┼───P────\n",
       "            │   │   │\n",
       "4 (d=4): ───P───┼───┼────\n",
       "            │   │   │\n",
       "5 (d=4): ───P───P───┼────\n",
       "                │   │\n",
       "6 (d=4): ───────P───P────\n",
       "                    │\n",
       "7 (d=4): ───────────P────</pre>"
      ],
      "text/plain": [
       "0 (d=4): ───P───────f+───\n",
       "            │       │\n",
       "1 (d=4): ───P───P───f+───\n",
       "            │   │\n",
       "2 (d=4): ───┼───P───P────\n",
       "            │   │   │\n",
       "3 (d=4): ───┼───┼───P────\n",
       "            │   │   │\n",
       "4 (d=4): ───P───┼───┼────\n",
       "            │   │   │\n",
       "5 (d=4): ───P───P───┼────\n",
       "                │   │\n",
       "6 (d=4): ───────P───P────\n",
       "                    │\n",
       "7 (d=4): ───────────P────"
      ]
     },
     "execution_count": 12,
     "metadata": {},
     "output_type": "execute_result"
    }
   ],
   "source": [
    "results[0][0]"
   ]
  },
  {
   "cell_type": "code",
   "execution_count": 13,
   "id": "e31d3dd9-94e8-4f2f-b432-5dfdb24b9803",
   "metadata": {},
   "outputs": [
    {
     "data": {
      "text/plain": [
       "measurements: (no measurements)\n",
       "\n",
       "qubits: (cirq.LineQid(0, dimension=4), cirq.LineQid(1, dimension=4), cirq.LineQid(5, dimension=4), cirq.LineQid(4, dimension=4), cirq.LineQid(2, dimension=4), cirq.LineQid(6, dimension=4), cirq.LineQid(3, dimension=4), cirq.LineQid(7, dimension=4))\n",
       "output vector: -0.125|11330000⟩ + 0.125|11333333⟩ + 0.125|12030033⟩ + 0.125|12033300⟩ - 0.125|21300033⟩ - 0.125|21303300⟩ - 0.125|22000000⟩ + 0.125|22003333⟩\n",
       "\n",
       "phase:\n",
       "output vector: |⟩"
      ]
     },
     "execution_count": 13,
     "metadata": {},
     "output_type": "execute_result"
    }
   ],
   "source": [
    "test = results[0][1]\n",
    "test"
   ]
  },
  {
   "cell_type": "code",
   "execution_count": 14,
   "id": "46784410-a563-43df-b0a9-01ff4af9d012",
   "metadata": {},
   "outputs": [
    {
     "data": {
      "text/plain": [
       "(1+0j)"
      ]
     },
     "execution_count": 14,
     "metadata": {},
     "output_type": "execute_result"
    }
   ],
   "source": [
    "def expectation_value(result, qudits, operator):\n",
    "    rho = test.density_matrix_of(qudits)\n",
    "    \n",
    "    srho = sparse.csr_matrix(np.array(rho, dtype=np.complex128)) \n",
    "    srho /= srho.trace()\n",
    "    shop = sparse.csr_matrix(np.array(operator, dtype=np.complex128))\n",
    "    val = srho * shop\n",
    "    \n",
    "    return val.trace()\n",
    "\n",
    "# operator n\n",
    "operator = np.array(0.5 * (sy_id - sy_gamma_5))\n",
    "expectation_value(results[0][1], [qudits[0][0]], operator)"
   ]
  },
  {
   "cell_type": "markdown",
   "id": "89182690-13ab-4519-8712-22d09e3ece3c",
   "metadata": {},
   "source": [
    "### Check operator evolution"
   ]
  },
  {
   "cell_type": "code",
   "execution_count": 16,
   "id": "ee598490-d9cf-4f3c-9896-04199da33077",
   "metadata": {},
   "outputs": [
    {
     "data": {
      "text/plain": [
       "(-1.1, 1.1)"
      ]
     },
     "execution_count": 16,
     "metadata": {},
     "output_type": "execute_result"
    },
    {
     "data": {
      "image/png": "[encoded data removed]",
      "text/plain": [
       "<Figure size 640x480 with 1 Axes>"
      ]
     },
     "metadata": {},
     "output_type": "display_data"
    }
   ],
   "source": [
    "plaqs = [\n",
    "    [qudits[0][0], qudits[0][1], qudits[1][0], qudits[1][1]],\n",
    "    [qudits[0][1], qudits[0][2], qudits[1][1], qudits[1][2]],\n",
    "    [qudits[0][2], qudits[0][3], qudits[1][2], qudits[1][3]]\n",
    "]\n",
    "# operator G\n",
    "operator = np.array(TensorProduct(sy_gamma_1*sy_gamma_3, sy_gamma_2*sy_gamma_3, sy_gamma_1*sy_gamma_4, sy_gamma_4*sy_gamma_2))\n",
    "\n",
    "evol_res = {\"0\": [], \"1\": [], \"2\": []}\n",
    "\n",
    "for idx, plaquette in enumerate(plaqs):\n",
    "    for state in results:\n",
    "        val = expectation_value(state[1], plaquette, operator)\n",
    "        evol_res[str(idx)].append(np.abs(val))\n",
    "\n",
    "for i in range(3):\n",
    "    plt.plot(temps, evol_res[str(i)], \"o--\", label=f\"plaquette {i}\")\n",
    "    \n",
    "plt.title(\"Constraint Evolution\")\n",
    "plt.xlabel(\"Time\")\n",
    "plt.ylabel(\"<G>\")\n",
    "plt.legend()\n",
    "plt.ylim(-1.1, 1.1)"
   ]
  },
  {
   "cell_type": "markdown",
   "id": "a4e7ac6a-1c4e-42ae-a3f8-8addcbadb5ba",
   "metadata": {},
   "source": [
    "# More"
   ]
  },
  {
   "cell_type": "code",
   "execution_count": 17,
   "id": "cf7ac6c8-586d-43c6-9cff-2b4e07ae2236",
   "metadata": {},
   "outputs": [
    {
     "data": {
      "text/plain": [
       "<matplotlib.legend.Legend at 0x7531a5c22c30>"
      ]
     },
     "execution_count": 17,
     "metadata": {},
     "output_type": "execute_result"
    },
    {
     "data": {
      "image/png": "[encoded data removed]",
      "text/plain": [
       "<Figure size 640x480 with 1 Axes>"
      ]
     },
     "metadata": {},
     "output_type": "display_data"
    }
   ],
   "source": [
    "subsystems = [\n",
    "    [0], [1], [2], [3], [4], [5], [6], [7]\n",
    "]\n",
    "num_evol_res = {str(i[0]): [] for i in subsystems}\n",
    "\n",
    "for idx, sys in enumerate(subsystems):\n",
    "    for state in results:\n",
    "        operator =  np.array(0.5 * sy_id - 0.5 * sy_gamma_5)\n",
    "        val = expectation_value(state, [qudits.flatten()[idx]], operator)\n",
    "        num_evol_res[str(idx)].append(np.abs(val))\n",
    "        \n",
    "for key in num_evol_res:\n",
    "    plt.plot(temps, num_evol_res[key], \"o--\", label=f\"qubit {key}\")\n",
    "    \n",
    "plt.title(\"Number operators\")\n",
    "plt.xlabel(\"Time\")\n",
    "plt.ylabel(\"<n>\")\n",
    "plt.legend()"
   ]
  },
  {
   "cell_type": "code",
   "execution_count": null,
   "id": "39bdeeab-a822-47d4-90a8-fbdab57add2d",
   "metadata": {},
   "outputs": [],
   "source": []
  }
 ],
 "metadata": {
  "kernelspec": {
   "display_name": "qudit",
   "language": "python",
   "name": "qudit"
  },
  "language_info": {
   "codemirror_mode": {
    "name": "ipython",
    "version": 3
   },
   "file_extension": ".py",
   "mimetype": "text/x-python",
   "name": "python",
   "nbconvert_exporter": "python",
   "pygments_lexer": "ipython3",
   "version": "3.12.4"
  }
 },
 "nbformat": 4,
 "nbformat_minor": 5
}
