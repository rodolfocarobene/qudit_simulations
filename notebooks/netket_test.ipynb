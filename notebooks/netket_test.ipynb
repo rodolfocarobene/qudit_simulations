{
  "cells": [
  {
   "cell_type": "code",
   "execution_count": 3,
   "id": "997b510c-f451-4cdf-808b-bdc05fab25f1",
   "metadata": {},
   "outputs": [
    {
     "name": "stderr",
     "output_type": "stream",
     "text": [
      "An NVIDIA GPU may be present on this machine, but a CUDA-enabled jaxlib is not installed. Falling back to cpu.\n"
     ]
    }
   ],
   "source": [
    "import netket as nk\n",
    "import numpy as np\n",
    "import matplotlib.pyplot as plt\n",
    "import json\n",
    "\n",
    "from netket import experimental as nkx"
   ]
  },
  {
   "cell_type": "code",
   "execution_count": 4,
   "id": "e8ee29e8-c2e1-4bf2-ad0d-bb6390cafc45",
   "metadata": {},
   "outputs": [
    {
     "data": {
      "text/plain": [
       "Lattice(\n",
       "    n_nodes=16,\n",
       "    extent=[2 2 2 2],\n",
       "    basis_vectors=\n",
       "        [[1. 0. 0. 0.]\n",
       "         [0. 1. 0. 0.]\n",
       "         [0. 0. 1. 0.]\n",
       "         [0. 0. 0. 1.]],\n",
       "    site_offsets=\n",
       "        [[0. 0. 0. 0.]],\n",
       ")"
      ]
     },
     "execution_count": 4,
     "metadata": {},
     "output_type": "execute_result"
    }
   ],
   "source": [
    "# create graph\n",
    "\n",
    "L = 2  # take a 2x4 lattice\n",
    "D = 4\n",
    "\n",
    "t = 1  # tunneling/hopping\n",
    "U = 0.01  # coulomb\n",
    "\n",
    "# create the graph our fermions can hop on\n",
    "g = nk.graph.Hypercube(length=L, n_dim=D, pbc=True)\n",
    "n_sites = g.n_nodes\n",
    "\n",
    "g"
   ]
  },
  {
   "cell_type": "code",
   "execution_count": 5,
   "id": "36be3f7f-3010-4854-9b43-3db0241806b9",
   "metadata": {},
   "outputs": [
    {
     "data": {
      "text/plain": [
       "SpinOrbitalFermions(n_orbitals=16, n_fermions=2)"
      ]
     },
     "execution_count": 5,
     "metadata": {},
     "output_type": "execute_result"
    }
   ],
   "source": [
    "# create a hilbert space with 2 up and 2 down spins\n",
    "hi = nkx.hilbert.SpinOrbitalFermions(n_sites, n_fermions=2)\n",
    "hi"
   ]
  },
  {
   "cell_type": "code",
   "execution_count": 6,
   "id": "f3a0fc4e-2579-4dab-88fb-a5008bbd69db",
   "metadata": {
    "scrolled": true
   },
   "outputs": [],
   "source": [
    "# create an operator representing fermi hubbard interactions\n",
    "# -t (i^ j + h.c.) + U (i^ i j^ j)\n",
    "# we will create a helper function to abbreviate the creation, destruction and number operators\n",
    "# each operator has a site and spin projection (sz) in order to find the right position in the hilbert space samples\n",
    "def c(site):\n",
    "    return nkx.operator.fermion.destroy(hi, site)\n",
    "    \n",
    "def cdag(site):\n",
    "    return nkx.operator.fermion.create(hi, site)\n",
    "\n",
    "def nc(site):\n",
    "    return nkx.operator.fermion.number(hi, site)"
   ]
  },
  {
   "cell_type": "code",
   "execution_count": 7,
   "id": "26b664bb-8123-4b40-9278-51618f662391",
   "metadata": {},
   "outputs": [],
   "source": [
    "ham = 0.0\n",
    "for u, v in g.edges():\n",
    "    ham += -t * (cdag(u) * c(v) + cdag(v) * c(u))\n",
    "\n",
    "    ham += U * nc(u) * nc(v)"
   ]
  },
  {
   "cell_type": "code",
   "execution_count": 8,
   "id": "620b84ff-5953-47a7-8c9b-9d32363de60f",
   "metadata": {},
   "outputs": [
    {
     "name": "stdout",
     "output_type": "stream",
     "text": [
      "Hamiltonian = -1.0 [3^ 7] +\n",
      "-1.0 [7^ 3] +\n",
      "0.01 [3^ 3 7^ 7] +\n",
      "-1.0 [4^ 6] +\n",
      "-1.0 [6^ 4] +\n",
      "0.01 [4^ 4 6^ 6] +\n",
      "-1.0 [12^ 13] +\n",
      "-1.0 [13^ 12] +\n",
      "0.01 [12^ 12 13^ 13] +\n",
      "-1.0 [4^ 12] +\n",
      "-1.0 [12^ 4] +\n",
      "0.01 [4^ 4 12^ 12] +\n",
      "-1.0 [5^ 7] +\n",
      "-1.0 [7^ 5] +\n",
      "0.01 [5^ 5 7^ 7] +\n",
      "-1.0 [5^ 13] +\n",
      "-1.0 [13^ 5] +\n",
      "0.01 [5^ 5 13^ 13] +\n",
      "-1.0 [0^ 2] +\n",
      "-1.0 [2^ 0] +\n",
      "0.01 [0^ 0 2^ 2] +\n",
      "-1.0 [8^ 9] +\n",
      "-1.0 [9^ 8] +\n",
      "0.01 [8^ 8 9^ 9] +\n",
      "-1.0 [8^ 12] +\n",
      "-1.0 [12^ 8] +\n",
      "0.01 [8^ 8 12^ 12] +\n",
      "-1.0 [9^ 11] +\n",
      "-1.0 [11^ 9] +\n",
      "0.01 [9^ 9 11^ 11] +\n",
      "-1.0 [0^ 8] +\n",
      "-1.0 [8^ 0] +\n",
      "0.01 [0^ 0 8^ 8] +\n",
      "-1.0 [1^ 3] +\n",
      "-1.0 [3^ 1] +\n",
      "0.01 [1^ 1 3^ 3] +\n",
      "-1.0 [1^ 9] +\n",
      "-1.0 [9^ 1] +\n",
      "0.01 [1^ 1 9^ 9] +\n",
      "-1.0 [6^ 14] +\n",
      "-1.0 [14^ 6] +\n",
      "0.01 [6^ 6 14^ 14] +\n",
      "-1.0 [4^ 5] +\n",
      "-1.0 [5^ 4] +\n",
      "0.01 [4^ 4 5^ 5] +\n",
      "-1.0 [14^ 15] +\n",
      "-1.0 [15^ 14] +\n",
      "0.01 [14^ 14 15^ 15] +\n",
      "-1.0 [0^ 1] +\n",
      "-1.0 [1^ 0] +\n",
      "0.01 [0^ 0 1^ 1] +\n",
      "-1.0 [10^ 11] +\n",
      "-1.0 [11^ 10] +\n",
      "0.01 [10^ 10 11^ 11] +\n",
      "-1.0 [9^ 13] +\n",
      "-1.0 [13^ 9] +\n",
      "0.01 [9^ 9 13^ 13] +\n",
      "-1.0 [0^ 4] +\n",
      "-1.0 [4^ 0] +\n",
      "0.01 [0^ 0 4^ 4] +\n",
      "-1.0 [10^ 14] +\n",
      "-1.0 [14^ 10] +\n",
      "0.01 [10^ 10 14^ 14] +\n",
      "-1.0 [1^ 5] +\n",
      "-1.0 [5^ 1] +\n",
      "0.01 [1^ 1 5^ 5] +\n",
      "-1.0 [2^ 10] +\n",
      "-1.0 [10^ 2] +\n",
      "0.01 [2^ 2 10^ 10] +\n",
      "-1.0 [6^ 7] +\n",
      "-1.0 [7^ 6] +\n",
      "0.01 [6^ 6 7^ 7] +\n",
      "-1.0 [7^ 15] +\n",
      "-1.0 [15^ 7] +\n",
      "0.01 [7^ 7 15^ 15] +\n",
      "-1.0 [12^ 14] +\n",
      "-1.0 [14^ 12] +\n",
      "0.01 [12^ 12 14^ 14] +\n",
      "-1.0 [3^ 11] +\n",
      "-1.0 [11^ 3] +\n",
      "0.01 [3^ 3 11^ 11] +\n",
      "-1.0 [8^ 10] +\n",
      "-1.0 [10^ 8] +\n",
      "0.01 [8^ 8 10^ 10] +\n",
      "-1.0 [2^ 3] +\n",
      "-1.0 [3^ 2] +\n",
      "0.01 [2^ 2 3^ 3] +\n",
      "-1.0 [11^ 15] +\n",
      "-1.0 [15^ 11] +\n",
      "0.01 [11^ 11 15^ 15] +\n",
      "-1.0 [2^ 6] +\n",
      "-1.0 [6^ 2] +\n",
      "0.01 [2^ 2 6^ 6] +\n",
      "-1.0 [13^ 15] +\n",
      "-1.0 [15^ 13] +\n",
      "0.01 [13^ 13 15^ 15]\n"
     ]
    }
   ],
   "source": [
    "print(\"Hamiltonian =\", ham.operator_string())"
   ]
  },
  {
   "cell_type": "code",
   "execution_count": 9,
   "id": "88a860cf-6f08-4fbf-b621-103bc82c3031",
   "metadata": {},
   "outputs": [
    {
     "data": {
      "text/plain": [
       "(array([[1., 1., 0., 0., 0., 0., 0., 0., 0., 0., 0., 0., 0., 0., 0., 0.],\n",
       "        [0., 1., 1., 0., 0., 0., 0., 0., 0., 0., 0., 0., 0., 0., 0., 0.],\n",
       "        [0., 1., 0., 0., 0., 0., 0., 0., 1., 0., 0., 0., 0., 0., 0., 0.],\n",
       "        [1., 0., 0., 1., 0., 0., 0., 0., 0., 0., 0., 0., 0., 0., 0., 0.],\n",
       "        [1., 0., 0., 0., 0., 0., 0., 0., 0., 1., 0., 0., 0., 0., 0., 0.],\n",
       "        [0., 1., 0., 0., 1., 0., 0., 0., 0., 0., 0., 0., 0., 0., 0., 0.],\n",
       "        [1., 0., 0., 0., 0., 1., 0., 0., 0., 0., 0., 0., 0., 0., 0., 0.]]),\n",
       " array([ 0.01,  1.  ,  1.  , -1.  , -1.  ,  1.  , -1.  ]))"
      ]
     },
     "execution_count": 9,
     "metadata": {},
     "output_type": "execute_result"
    }
   ],
   "source": [
    "occupation = np.zeros(n_sites)\n",
    "occupation[0] = occupation[1] = 1\n",
    "#occupation /= np.linalg.norm(occupation)\n",
    "res = ham.get_conn(occupation)\n",
    "res"
   ]
  },
  {
   "cell_type": "code",
   "execution_count": 11,
   "id": "4730dfb2-f554-4c20-b4d3-89fa88f5e8c9",
   "metadata": {},
   "outputs": [],
   "source": [
    "Hdense = ham.to_dense()\n",
    "i = hi.states_to_numbers(occupation)\n",
    "v = np.zeros(hi.n_states)\n",
    "v[i] = 1\n",
    "\n",
    "v /= np.linalg.norm(v)"
   ]
  },
  {
   "cell_type": "code",
   "execution_count": 12,
   "id": "47c22eaf-ee83-45ca-92d7-2b4fb5d0ee9e",
   "metadata": {},
   "outputs": [
    {
     "data": {
      "text/plain": [
       "0.01"
      ]
     },
     "execution_count": 12,
     "metadata": {},
     "output_type": "execute_result"
    }
   ],
   "source": [
    "E = (v.conj().T).dot(Hdense.dot(v))\n",
    "E"
   ]
  },
  {
   "cell_type": "code",
   "execution_count": null,
   "id": "055db7a8-5122-4c8a-8f97-2b69b158d97d",
   "metadata": {},
   "outputs": [],
   "source": []
  }
 ],
 "metadata": {
  "kernelspec": {
   "display_name": "qudit",
   "language": "python",
   "name": "qudit"
  },
  "language_info": {
   "codemirror_mode": {
    "name": "ipython",
    "version": 3
   },
   "file_extension": ".py",
   "mimetype": "text/x-python",
   "name": "python",
   "nbconvert_exporter": "python",
   "pygments_lexer": "ipython3",
   "version": "3.12.4"
  }
 },
 "nbformat": 4,
 "nbformat_minor": 5
}
