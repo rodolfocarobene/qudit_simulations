{
 "cells": [
  {
   "cell_type": "code",
   "execution_count": 1,
   "id": "997b510c-f451-4cdf-808b-bdc05fab25f1",
   "metadata": {},
   "outputs": [
    {
     "name": "stderr",
     "output_type": "stream",
     "text": [
      "An NVIDIA GPU may be present on this machine, but a CUDA-enabled jaxlib is not installed. Falling back to cpu.\n"
     ]
    }
   ],
   "source": [
    "import netket as nk\n",
    "import numpy as np\n",
    "import matplotlib.pyplot as plt\n",
    "import json\n",
    "\n",
    "from netket import experimental as nkx\n",
    "import netket.nn as nknn\n",
    "import netket.optimizer as nkopt\n",
    "import jax\n",
    "import jax.numpy as jnp\n",
    "\n",
    "from sympy import Matrix"
   ]
  },
  {
   "cell_type": "code",
   "execution_count": 2,
   "id": "e8ee29e8-c2e1-4bf2-ad0d-bb6390cafc45",
   "metadata": {},
   "outputs": [
    {
     "data": {
      "text/plain": [
       "Lattice(\n",
       "    n_nodes=8,\n",
       "    extent=[2 4],\n",
       "    basis_vectors=\n",
       "        [[1. 0.]\n",
       "         [0. 1.]],\n",
       "    site_offsets=\n",
       "        [[0. 0.]],\n",
       ")"
      ]
     },
     "execution_count": 2,
     "metadata": {},
     "output_type": "execute_result"
    }
   ],
   "source": [
    "# create graph\n",
    "\n",
    "x = 2  # take a 2x4 lattice\n",
    "y = 4\n",
    "\n",
    "# create the graph our fermions can hop on\n",
    "g = nk.graph.Grid(extent=[x, y], pbc=False)\n",
    "n_sites = g.n_nodes\n",
    "\n",
    "g"
   ]
  },
  {
   "cell_type": "code",
   "execution_count": 3,
   "id": "36be3f7f-3010-4854-9b43-3db0241806b9",
   "metadata": {},
   "outputs": [
    {
     "data": {
      "text/plain": [
       "SpinOrbitalFermions(n_orbitals=8, n_fermions=2)"
      ]
     },
     "execution_count": 3,
     "metadata": {},
     "output_type": "execute_result"
    }
   ],
   "source": [
    "hi = nkx.hilbert.SpinOrbitalFermions(n_sites, n_fermions=2)\n",
    "hi"
   ]
  },
  {
   "cell_type": "code",
   "execution_count": 5,
   "id": "f3a0fc4e-2579-4dab-88fb-a5008bbd69db",
   "metadata": {
    "scrolled": true
   },
   "outputs": [],
   "source": [
    "# create an operator representing fermi hubbard interactions\n",
    "# -t (i^ j + h.c.) + U (i^ i j^ j)\n",
    "# we will create a helper function to abbreviate the creation, destruction and number operators\n",
    "# each operator has a site and spin projection (sz) in order to find the right position in the hilbert space samples\n",
    "def c(site):\n",
    "    return nkx.operator.fermion.destroy(hi, site)\n",
    "    \n",
    "def cdag(site):\n",
    "    return nkx.operator.fermion.create(hi, site)\n",
    "\n",
    "def nc(site):\n",
    "    return nkx.operator.fermion.number(hi, site)"
   ]
  },
  {
   "cell_type": "code",
   "execution_count": 97,
   "id": "26b664bb-8123-4b40-9278-51618f662391",
   "metadata": {},
   "outputs": [
    {
     "name": "stdout",
     "output_type": "stream",
     "text": [
      "0 1\n",
      "1 2\n",
      "0 4\n",
      "1 5\n",
      "3 7\n",
      "2 3\n",
      "6 7\n",
      "4 5\n",
      "2 6\n",
      "5 6\n"
     ]
    }
   ],
   "source": [
    "t = 100  # tunneling/hopping\n",
    "U = 0.01  # coulomb\n",
    "\n",
    "hamkin = 0.0\n",
    "hampot = 0.0\n",
    "for u, v in g.edges():\n",
    "    print(u, v)\n",
    "    hamkin += -t * (cdag(u) * c(v)) + cdag(v) * c(u))\n",
    "\n",
    "    hampot += U * nc(u) * nc(v)\n",
    "ham = hamkin + hampot"
   ]
  },
  {
   "cell_type": "code",
   "execution_count": 98,
   "id": "620b84ff-5953-47a7-8c9b-9d32363de60f",
   "metadata": {
    "scrolled": true
   },
   "outputs": [
    {
     "name": "stdout",
     "output_type": "stream",
     "text": [
      "Hamiltonian = -100.0 [1^ 0] +\n",
      "-100.0 [2^ 1] +\n",
      "-100.0 [4^ 0] +\n",
      "-100.0 [5^ 1] +\n",
      "-100.0 [7^ 3] +\n",
      "-100.0 [3^ 2] +\n",
      "-100.0 [7^ 6] +\n",
      "-100.0 [5^ 4] +\n",
      "-100.0 [6^ 2] +\n",
      "-100.0 [6^ 5] +\n",
      "0.01 [0^ 0 1^ 1] +\n",
      "0.01 [1^ 1 2^ 2] +\n",
      "0.01 [0^ 0 4^ 4] +\n",
      "0.01 [1^ 1 5^ 5] +\n",
      "0.01 [3^ 3 7^ 7] +\n",
      "0.01 [2^ 2 3^ 3] +\n",
      "0.01 [6^ 6 7^ 7] +\n",
      "0.01 [4^ 4 5^ 5] +\n",
      "0.01 [2^ 2 6^ 6] +\n",
      "0.01 [5^ 5 6^ 6]\n"
     ]
    }
   ],
   "source": [
    "print(\"Hamiltonian =\", ham.operator_string())"
   ]
  },
  {
   "cell_type": "code",
   "execution_count": 99,
   "id": "2fb47668-caa4-4d87-b908-e3ab042dfdf4",
   "metadata": {
    "scrolled": true
   },
   "outputs": [
    {
     "data": {
      "text/latex": [
       "$\\displaystyle \\left[\\begin{array}{cccccccccccccccccccccccccccc}0.01 & -100.0 & 0 & 0 & 0 & 0 & 0 & 100.0 & 0 & 0 & -100.0 & 0 & 0 & 0 & 0 & 0 & 0 & 0 & 0 & 0 & 0 & 0 & 0 & 0 & 0 & 0 & 0 & 0\\\\0 & 0 & -100.0 & -100.0 & 0 & 0 & 0 & 0 & 100.0 & 0 & 0 & 0 & 0 & 0 & 0 & -100.0 & 0 & 0 & 0 & 0 & 0 & 0 & 0 & 0 & 0 & 0 & 0 & 0\\\\0 & 0 & 0.01 & 0 & -100.0 & 0 & 0 & 0 & 0 & 0 & 0 & 0 & 100.0 & 0 & 0 & 0 & -100.0 & 0 & 0 & 0 & 0 & 0 & 0 & 0 & 0 & 0 & 0 & 0\\\\0 & 0 & 0 & 0 & -100.0 & 0 & 0 & 0 & 0 & 100.0 & 0 & 0 & 0 & 0 & 0 & 0 & 0 & 0 & 0 & 0 & 0 & -100.0 & 0 & 0 & 0 & 0 & 0 & 0\\\\0 & 0 & 0 & 0 & 0 & -100.0 & 0 & 0 & 0 & 0 & 0 & 0 & 0 & 100.0 & 0 & 0 & 0 & 0 & 0 & 0 & 0 & 0 & -100.0 & 0 & 0 & 0 & 0 & 0\\\\0 & 0 & 0 & 0 & 0 & 0.01 & 0 & 0 & 0 & 0 & 0 & 0 & 0 & 0 & 0 & 0 & 0 & 0 & 100.0 & 0 & 0 & 0 & 0 & -100.0 & 0 & 0 & 0 & 0\\\\0 & 0 & 0 & 0 & 0 & 0 & 0.01 & -100.0 & 0 & 0 & -100.0 & 0 & 0 & 0 & 0 & 0 & 0 & 0 & 0 & 0 & 0 & 0 & 0 & 0 & 0 & 0 & 0 & 0\\\\0 & 0 & 0 & 0 & 0 & 0 & 0 & 0 & -100.0 & 0 & 0 & -100.0 & 0 & 0 & 100.0 & 0 & 0 & 0 & 0 & 0 & 0 & 0 & 0 & 0 & 0 & 0 & 0 & 0\\\\0 & 0 & 0 & 0 & 0 & 0 & 0 & 0 & 0 & -100.0 & 0 & 0 & -100.0 & 0 & 0 & 0 & 0 & 0 & 0 & 100.0 & 0 & 0 & 0 & 0 & 0 & 0 & 0 & 0\\\\0 & 0 & 0 & 0 & 0 & 0 & 0 & 0 & 0 & 0 & 0 & 0 & 0 & -100.0 & 0 & 0 & 0 & 0 & 0 & 0 & 0 & 0 & 0 & 0 & 0 & 100.0 & 0 & 0\\\\0 & 0 & 0 & 0 & 0 & 0 & 0 & 0 & 0 & 0 & 0 & -100.0 & 0 & 0 & -100.0 & -100.0 & 0 & 0 & 0 & 0 & 0 & 0 & 0 & 0 & 0 & 0 & 0 & 0\\\\0 & 0 & 0 & 0 & 0 & 0 & 0 & 0 & 0 & 0 & 0 & 0.01 & -100.0 & 0 & 0 & 0 & -100.0 & 0 & 0 & 0 & 0 & 0 & 0 & 0 & 0 & 0 & 0 & 0\\\\0 & 0 & 0 & 0 & 0 & 0 & 0 & 0 & 0 & 0 & 0 & 0 & 0 & -100.0 & 0 & 0 & 0 & -100.0 & 0 & 0 & 100.0 & 0 & 0 & 0 & 0 & 0 & 0 & 0\\\\0 & 0 & 0 & 0 & 0 & 0 & 0 & 0 & 0 & 0 & 0 & 0 & 0 & 0 & 0 & 0 & 0 & 0 & -100.0 & 0 & 0 & 0 & 0 & 0 & 0 & 0 & 100.0 & 0\\\\0 & 0 & 0 & 0 & 0 & 0 & 0 & 0 & 0 & 0 & 0 & 0 & 0 & 0 & 0.01 & 0 & 0 & 0 & 0 & -100.0 & 0 & 0 & 0 & 0 & 0 & 0 & 0 & 0\\\\0 & 0 & 0 & 0 & 0 & 0 & 0 & 0 & 0 & 0 & 0 & 0 & 0 & 0 & 0 & 0 & -100.0 & 0 & 0 & -100.0 & 0 & -100.0 & 0 & 0 & 0 & 0 & 0 & 0\\\\0 & 0 & 0 & 0 & 0 & 0 & 0 & 0 & 0 & 0 & 0 & 0 & 0 & 0 & 0 & 0 & 0 & -100.0 & 0 & 0 & -100.0 & 0 & -100.0 & 0 & 0 & 0 & 0 & 0\\\\0 & 0 & 0 & 0 & 0 & 0 & 0 & 0 & 0 & 0 & 0 & 0 & 0 & 0 & 0 & 0 & 0 & 0.01 & -100.0 & 0 & 0 & 0 & 0 & -100.0 & 0 & 0 & 0 & 0\\\\0 & 0 & 0 & 0 & 0 & 0 & 0 & 0 & 0 & 0 & 0 & 0 & 0 & 0 & 0 & 0 & 0 & 0 & 0 & 0 & 0 & 0 & 0 & 0 & -100.0 & 0 & 0 & 100.0\\\\0 & 0 & 0 & 0 & 0 & 0 & 0 & 0 & 0 & 0 & 0 & 0 & 0 & 0 & 0 & 0 & 0 & 0 & 0 & 0 & -100.0 & 0 & 0 & 0 & 0 & -100.0 & 0 & 0\\\\0 & 0 & 0 & 0 & 0 & 0 & 0 & 0 & 0 & 0 & 0 & 0 & 0 & 0 & 0 & 0 & 0 & 0 & 0 & 0 & 0.01 & 0 & 0 & 0 & 0 & 0 & -100.0 & 0\\\\0 & 0 & 0 & 0 & 0 & 0 & 0 & 0 & 0 & 0 & 0 & 0 & 0 & 0 & 0 & 0 & 0 & 0 & 0 & 0 & 0 & 0 & -100.0 & 0 & 0 & -100.0 & 0 & 0\\\\0 & 0 & 0 & 0 & 0 & 0 & 0 & 0 & 0 & 0 & 0 & 0 & 0 & 0 & 0 & 0 & 0 & 0 & 0 & 0 & 0 & 0 & 0 & -100.0 & 0 & 0 & -100.0 & 0\\\\0 & 0 & 0 & 0 & 0 & 0 & 0 & 0 & 0 & 0 & 0 & 0 & 0 & 0 & 0 & 0 & 0 & 0 & 0 & 0 & 0 & 0 & 0 & 0 & -100.0 & 0 & 0 & -100.0\\\\0 & 0 & 0 & 0 & 0 & 0 & 0 & 0 & 0 & 0 & 0 & 0 & 0 & 0 & 0 & 0 & 0 & 0 & 0 & 0 & 0 & 0 & 0 & 0 & 0.01 & 0 & 0 & 0\\\\0 & 0 & 0 & 0 & 0 & 0 & 0 & 0 & 0 & 0 & 0 & 0 & 0 & 0 & 0 & 0 & 0 & 0 & 0 & 0 & 0 & 0 & 0 & 0 & 0 & 0 & -100.0 & 0\\\\0 & 0 & 0 & 0 & 0 & 0 & 0 & 0 & 0 & 0 & 0 & 0 & 0 & 0 & 0 & 0 & 0 & 0 & 0 & 0 & 0 & 0 & 0 & 0 & 0 & 0 & 0 & -100.0\\\\0 & 0 & 0 & 0 & 0 & 0 & 0 & 0 & 0 & 0 & 0 & 0 & 0 & 0 & 0 & 0 & 0 & 0 & 0 & 0 & 0 & 0 & 0 & 0 & 0 & 0 & 0 & 0.01\\end{array}\\right]$"
      ],
      "text/plain": [
       "Matrix([\n",
       "[0.01, -100.0,      0,      0,      0,      0,    0,  100.0,      0,      0, -100.0,      0,      0,      0,      0,      0,      0,      0,      0,      0,      0,      0,      0,      0,      0,      0,      0,      0],\n",
       "[   0,      0, -100.0, -100.0,      0,      0,    0,      0,  100.0,      0,      0,      0,      0,      0,      0, -100.0,      0,      0,      0,      0,      0,      0,      0,      0,      0,      0,      0,      0],\n",
       "[   0,      0,   0.01,      0, -100.0,      0,    0,      0,      0,      0,      0,      0,  100.0,      0,      0,      0, -100.0,      0,      0,      0,      0,      0,      0,      0,      0,      0,      0,      0],\n",
       "[   0,      0,      0,      0, -100.0,      0,    0,      0,      0,  100.0,      0,      0,      0,      0,      0,      0,      0,      0,      0,      0,      0, -100.0,      0,      0,      0,      0,      0,      0],\n",
       "[   0,      0,      0,      0,      0, -100.0,    0,      0,      0,      0,      0,      0,      0,  100.0,      0,      0,      0,      0,      0,      0,      0,      0, -100.0,      0,      0,      0,      0,      0],\n",
       "[   0,      0,      0,      0,      0,   0.01,    0,      0,      0,      0,      0,      0,      0,      0,      0,      0,      0,      0,  100.0,      0,      0,      0,      0, -100.0,      0,      0,      0,      0],\n",
       "[   0,      0,      0,      0,      0,      0, 0.01, -100.0,      0,      0, -100.0,      0,      0,      0,      0,      0,      0,      0,      0,      0,      0,      0,      0,      0,      0,      0,      0,      0],\n",
       "[   0,      0,      0,      0,      0,      0,    0,      0, -100.0,      0,      0, -100.0,      0,      0,  100.0,      0,      0,      0,      0,      0,      0,      0,      0,      0,      0,      0,      0,      0],\n",
       "[   0,      0,      0,      0,      0,      0,    0,      0,      0, -100.0,      0,      0, -100.0,      0,      0,      0,      0,      0,      0,  100.0,      0,      0,      0,      0,      0,      0,      0,      0],\n",
       "[   0,      0,      0,      0,      0,      0,    0,      0,      0,      0,      0,      0,      0, -100.0,      0,      0,      0,      0,      0,      0,      0,      0,      0,      0,      0,  100.0,      0,      0],\n",
       "[   0,      0,      0,      0,      0,      0,    0,      0,      0,      0,      0, -100.0,      0,      0, -100.0, -100.0,      0,      0,      0,      0,      0,      0,      0,      0,      0,      0,      0,      0],\n",
       "[   0,      0,      0,      0,      0,      0,    0,      0,      0,      0,      0,   0.01, -100.0,      0,      0,      0, -100.0,      0,      0,      0,      0,      0,      0,      0,      0,      0,      0,      0],\n",
       "[   0,      0,      0,      0,      0,      0,    0,      0,      0,      0,      0,      0,      0, -100.0,      0,      0,      0, -100.0,      0,      0,  100.0,      0,      0,      0,      0,      0,      0,      0],\n",
       "[   0,      0,      0,      0,      0,      0,    0,      0,      0,      0,      0,      0,      0,      0,      0,      0,      0,      0, -100.0,      0,      0,      0,      0,      0,      0,      0,  100.0,      0],\n",
       "[   0,      0,      0,      0,      0,      0,    0,      0,      0,      0,      0,      0,      0,      0,   0.01,      0,      0,      0,      0, -100.0,      0,      0,      0,      0,      0,      0,      0,      0],\n",
       "[   0,      0,      0,      0,      0,      0,    0,      0,      0,      0,      0,      0,      0,      0,      0,      0, -100.0,      0,      0, -100.0,      0, -100.0,      0,      0,      0,      0,      0,      0],\n",
       "[   0,      0,      0,      0,      0,      0,    0,      0,      0,      0,      0,      0,      0,      0,      0,      0,      0, -100.0,      0,      0, -100.0,      0, -100.0,      0,      0,      0,      0,      0],\n",
       "[   0,      0,      0,      0,      0,      0,    0,      0,      0,      0,      0,      0,      0,      0,      0,      0,      0,   0.01, -100.0,      0,      0,      0,      0, -100.0,      0,      0,      0,      0],\n",
       "[   0,      0,      0,      0,      0,      0,    0,      0,      0,      0,      0,      0,      0,      0,      0,      0,      0,      0,      0,      0,      0,      0,      0,      0, -100.0,      0,      0,  100.0],\n",
       "[   0,      0,      0,      0,      0,      0,    0,      0,      0,      0,      0,      0,      0,      0,      0,      0,      0,      0,      0,      0, -100.0,      0,      0,      0,      0, -100.0,      0,      0],\n",
       "[   0,      0,      0,      0,      0,      0,    0,      0,      0,      0,      0,      0,      0,      0,      0,      0,      0,      0,      0,      0,   0.01,      0,      0,      0,      0,      0, -100.0,      0],\n",
       "[   0,      0,      0,      0,      0,      0,    0,      0,      0,      0,      0,      0,      0,      0,      0,      0,      0,      0,      0,      0,      0,      0, -100.0,      0,      0, -100.0,      0,      0],\n",
       "[   0,      0,      0,      0,      0,      0,    0,      0,      0,      0,      0,      0,      0,      0,      0,      0,      0,      0,      0,      0,      0,      0,      0, -100.0,      0,      0, -100.0,      0],\n",
       "[   0,      0,      0,      0,      0,      0,    0,      0,      0,      0,      0,      0,      0,      0,      0,      0,      0,      0,      0,      0,      0,      0,      0,      0, -100.0,      0,      0, -100.0],\n",
       "[   0,      0,      0,      0,      0,      0,    0,      0,      0,      0,      0,      0,      0,      0,      0,      0,      0,      0,      0,      0,      0,      0,      0,      0,   0.01,      0,      0,      0],\n",
       "[   0,      0,      0,      0,      0,      0,    0,      0,      0,      0,      0,      0,      0,      0,      0,      0,      0,      0,      0,      0,      0,      0,      0,      0,      0,      0, -100.0,      0],\n",
       "[   0,      0,      0,      0,      0,      0,    0,      0,      0,      0,      0,      0,      0,      0,      0,      0,      0,      0,      0,      0,      0,      0,      0,      0,      0,      0,      0, -100.0],\n",
       "[   0,      0,      0,      0,      0,      0,    0,      0,      0,      0,      0,      0,      0,      0,      0,      0,      0,      0,      0,      0,      0,      0,      0,      0,      0,      0,      0,   0.01]])"
      ]
     },
     "execution_count": 99,
     "metadata": {},
     "output_type": "execute_result"
    }
   ],
   "source": [
    "Matrix(ham.to_dense())"
   ]
  },
  {
   "cell_type": "code",
   "execution_count": 100,
   "id": "88a860cf-6f08-4fbf-b621-103bc82c3031",
   "metadata": {},
   "outputs": [
    {
     "data": {
      "text/plain": [
       "(array([[1., 1., 0., 0., 0., 0., 0., 0.]]), array([0.01]))"
      ]
     },
     "execution_count": 100,
     "metadata": {},
     "output_type": "execute_result"
    }
   ],
   "source": [
    "occupation = np.zeros(n_sites)\n",
    "occupation[0] = occupation[1] = 1\n",
    "res = ham.get_conn(occupation)\n",
    "res"
   ]
  },
  {
   "cell_type": "code",
   "execution_count": 105,
   "id": "4730dfb2-f554-4c20-b4d3-89fa88f5e8c9",
   "metadata": {},
   "outputs": [],
   "source": [
    "Hdense = ham.to_dense()\n",
    "Hdense_kin = hamkin.to_dense()\n",
    "Hdense_pot = hampot.to_dense()\n",
    "\n",
    "occupation = np.zeros(n_sites)\n",
    "occupation[0] = 1\n",
    "occupation[2] = 1\n",
    "#occupation[2] = occupation[3] = 1\n",
    "#occupation[4] = occupation[5] = 0.25\n",
    "#occupation[6] = occupation[7] = 0.25\n",
    "\n",
    "i = hi.states_to_numbers(occupation)\n",
    "v = np.zeros(hi.n_states)\n",
    "v[i] = 1\n",
    "\n",
    "v /= np.linalg.norm(v)"
   ]
  },
  {
   "cell_type": "code",
   "execution_count": 106,
   "id": "c6f2607d-419f-4ea0-88df-f2d37c1445ac",
   "metadata": {},
   "outputs": [
    {
     "data": {
      "text/plain": [
       "0.0"
      ]
     },
     "execution_count": 106,
     "metadata": {},
     "output_type": "execute_result"
    }
   ],
   "source": [
    "occupation = np.zeros(n_sites)\n",
    "occupation[0] = occupation[2] = 1\n",
    "i = hi.states_to_numbers(occupation)\n",
    "w = np.zeros(hi.n_states)\n",
    "w[i] = 1\n",
    "\n",
    "w /= np.linalg.norm(w)\n",
    "\n",
    "E = (w.conj().T).dot(Hdense.dot(v))\n",
    "E"
   ]
  },
  {
   "cell_type": "code",
   "execution_count": 107,
   "id": "47c22eaf-ee83-45ca-92d7-2b4fb5d0ee9e",
   "metadata": {},
   "outputs": [
    {
     "data": {
      "text/plain": [
       "0.0"
      ]
     },
     "execution_count": 107,
     "metadata": {},
     "output_type": "execute_result"
    }
   ],
   "source": [
    "E = (v.conj().T).dot(Hdense_kin.dot(v))\n",
    "E"
   ]
  },
  {
   "cell_type": "code",
   "execution_count": 108,
   "id": "50c4cb0f-6b63-4da5-8356-15cab1d11607",
   "metadata": {},
   "outputs": [
    {
     "data": {
      "text/plain": [
       "0.0"
      ]
     },
     "execution_count": 108,
     "metadata": {},
     "output_type": "execute_result"
    }
   ],
   "source": [
    "E = (v.conj().T).dot(Hdense_pot.dot(v))\n",
    "E"
   ]
  },
  {
   "cell_type": "code",
   "execution_count": null,
   "id": "8adf0951-a549-4123-a8d6-d3e246ede08a",
   "metadata": {},
   "outputs": [],
   "source": []
  },
  {
   "cell_type": "markdown",
   "id": "fe5b4be0-92ee-4837-88b8-3c6121a1b611",
   "metadata": {},
   "source": [
    "## Evolution"
   ]
  },
  {
   "cell_type": "code",
   "execution_count": 23,
   "id": "9edc9d52-8022-4482-b461-d703d6e15b91",
   "metadata": {},
   "outputs": [],
   "source": [
    "from netket.experimental import TDVP\n",
    "from netket.experimental.dynamics import RK23\n",
    "from netket.vqs import VariationalState"
   ]
  },
  {
   "cell_type": "code",
   "execution_count": 36,
   "id": "0fefaeff-eaf0-4daf-802c-5ce0c747fd88",
   "metadata": {},
   "outputs": [],
   "source": [
    "integrator = RK23(dt=0.01, adaptive=True, rtol=1e-3, atol=1e-3)\n",
    "\n",
    "i = hi.states_to_numbers(occupation)\n",
    "occupation = np.zeros(n_sites)\n",
    "occupation[0] = occupation[1] = 1\n",
    "state = VariationalState(i)\n",
    "\n",
    "driver = TDVP(\n",
    "    operator=ham,\n",
    "    variational_state=state,\n",
    "    integrator=integrator\n",
    ")"
   ]
  },
  {
   "cell_type": "code",
   "execution_count": 37,
   "id": "4845462c-fb64-4986-ad5c-3ba0812ae3e6",
   "metadata": {},
   "outputs": [
    {
     "data": {
      "application/vnd.jupyter.widget-view+json": {
       "model_id": "20d12c0dd8f64439abcb7a73c2223aad",
       "version_major": 2,
       "version_minor": 0
      },
      "text/plain": [
       "  0%|                                                                                                         …"
      ]
     },
     "metadata": {},
     "output_type": "display_data"
    },
    {
     "ename": "NotImplementedError",
     "evalue": "odefun not implemented for <class 'netket.vqs.base.VariationalState'>",
     "output_type": "error",
     "traceback": [
      "\u001b[0;31m---------------------------------------------------------------------------\u001b[0m",
      "\u001b[0;31mNotImplementedError\u001b[0m                       Traceback (most recent call last)",
      "Cell \u001b[0;32mIn[37], line 1\u001b[0m\n\u001b[0;32m----> 1\u001b[0m \u001b[43mdriver\u001b[49m\u001b[38;5;241;43m.\u001b[39;49m\u001b[43mrun\u001b[49m\u001b[43m(\u001b[49m\n\u001b[1;32m      2\u001b[0m \u001b[43m    \u001b[49m\u001b[43mT\u001b[49m\u001b[38;5;241;43m=\u001b[39;49m\u001b[38;5;241;43m0.3\u001b[39;49m\u001b[43m,\u001b[49m\n\u001b[1;32m      3\u001b[0m \u001b[43m    \u001b[49m\u001b[43mout\u001b[49m\u001b[38;5;241;43m=\u001b[39;49m\u001b[38;5;124;43m\"\u001b[39;49m\u001b[38;5;124;43mexample_dynamics\u001b[39;49m\u001b[38;5;124;43m\"\u001b[39;49m\u001b[43m,\u001b[49m\n\u001b[1;32m      4\u001b[0m \u001b[43m    \u001b[49m\u001b[43mtstops\u001b[49m\u001b[38;5;241;43m=\u001b[39;49m\u001b[43mnp\u001b[49m\u001b[38;5;241;43m.\u001b[39;49m\u001b[43mlinspace\u001b[49m\u001b[43m(\u001b[49m\u001b[38;5;241;43m0.0\u001b[39;49m\u001b[43m,\u001b[49m\u001b[43m \u001b[49m\u001b[38;5;241;43m0.3\u001b[39;49m\u001b[43m,\u001b[49m\u001b[43m \u001b[49m\u001b[38;5;241;43m3\u001b[39;49m\u001b[43m,\u001b[49m\u001b[43m \u001b[49m\u001b[43mendpoint\u001b[49m\u001b[38;5;241;43m=\u001b[39;49m\u001b[38;5;28;43;01mTrue\u001b[39;49;00m\u001b[43m)\u001b[49m\u001b[43m,\u001b[49m\n\u001b[1;32m      5\u001b[0m \u001b[43m)\u001b[49m\n",
      "File \u001b[0;32m~/Venv/qudit/lib/python3.12/site-packages/netket/experimental/driver/tdvp_common.py:360\u001b[0m, in \u001b[0;36mTDVPBaseDriver.run\u001b[0;34m(self, T, out, obs, tstops, show_progress, callback, timeit)\u001b[0m\n\u001b[1;32m    357\u001b[0m     pbar\u001b[38;5;241m.\u001b[39mrefresh()\n\u001b[1;32m    359\u001b[0m \u001b[38;5;28;01mwith\u001b[39;00m timing\u001b[38;5;241m.\u001b[39mtimed_scope(force\u001b[38;5;241m=\u001b[39mtimeit) \u001b[38;5;28;01mas\u001b[39;00m timer:\n\u001b[0;32m--> 360\u001b[0m \u001b[43m    \u001b[49m\u001b[38;5;28;43;01mfor\u001b[39;49;00m\u001b[43m \u001b[49m\u001b[43mstep\u001b[49m\u001b[43m \u001b[49m\u001b[38;5;129;43;01min\u001b[39;49;00m\u001b[43m \u001b[49m\u001b[38;5;28;43mself\u001b[39;49m\u001b[38;5;241;43m.\u001b[39;49m\u001b[43m_iter\u001b[49m\u001b[43m(\u001b[49m\u001b[43mT\u001b[49m\u001b[43m,\u001b[49m\u001b[43m \u001b[49m\u001b[43mtstops\u001b[49m\u001b[38;5;241;43m=\u001b[39;49m\u001b[43mtstops\u001b[49m\u001b[43m,\u001b[49m\u001b[43m \u001b[49m\u001b[43mcallback\u001b[49m\u001b[38;5;241;43m=\u001b[39;49m\u001b[43mupdate_progress_bar\u001b[49m\u001b[43m)\u001b[49m\u001b[43m:\u001b[49m\n\u001b[1;32m    361\u001b[0m \u001b[43m        \u001b[49m\u001b[38;5;28;43;01mwith\u001b[39;49;00m\u001b[43m \u001b[49m\u001b[43mtiming\u001b[49m\u001b[38;5;241;43m.\u001b[39;49m\u001b[43mtimed_scope\u001b[49m\u001b[43m(\u001b[49m\u001b[43mname\u001b[49m\u001b[38;5;241;43m=\u001b[39;49m\u001b[38;5;124;43m\"\u001b[39;49m\u001b[38;5;124;43mobservables\u001b[39;49m\u001b[38;5;124;43m\"\u001b[39;49m\u001b[43m)\u001b[49m\u001b[43m:\u001b[49m\n\u001b[1;32m    362\u001b[0m \u001b[43m            \u001b[49m\u001b[43mlog_data\u001b[49m\u001b[43m \u001b[49m\u001b[38;5;241;43m=\u001b[39;49m\u001b[43m \u001b[49m\u001b[38;5;28;43mself\u001b[39;49m\u001b[38;5;241;43m.\u001b[39;49m\u001b[43mestimate\u001b[49m\u001b[43m(\u001b[49m\u001b[43mobs\u001b[49m\u001b[43m)\u001b[49m\n",
      "File \u001b[0;32m~/Venv/qudit/lib/python3.12/site-packages/netket/experimental/driver/tdvp_common.py:253\u001b[0m, in \u001b[0;36mTDVPBaseDriver._iter\u001b[0;34m(self, T, tstops, callback)\u001b[0m\n\u001b[1;32m    251\u001b[0m \u001b[38;5;28;01melse\u001b[39;00m:\n\u001b[1;32m    252\u001b[0m     max_dt \u001b[38;5;241m=\u001b[39m \u001b[38;5;28;01mNone\u001b[39;00m\n\u001b[0;32m--> 253\u001b[0m step_accepted \u001b[38;5;241m=\u001b[39m \u001b[38;5;28;43mself\u001b[39;49m\u001b[38;5;241;43m.\u001b[39;49m\u001b[43m_integrator\u001b[49m\u001b[38;5;241;43m.\u001b[39;49m\u001b[43mstep\u001b[49m\u001b[43m(\u001b[49m\u001b[43mmax_dt\u001b[49m\u001b[38;5;241;43m=\u001b[39;49m\u001b[43mmax_dt\u001b[49m\u001b[43m)\u001b[49m\n\u001b[1;32m    254\u001b[0m \u001b[38;5;28;01mif\u001b[39;00m \u001b[38;5;28mself\u001b[39m\u001b[38;5;241m.\u001b[39m_integrator\u001b[38;5;241m.\u001b[39merrors:\n\u001b[1;32m    255\u001b[0m     \u001b[38;5;28;01mraise\u001b[39;00m \u001b[38;5;167;01mRuntimeError\u001b[39;00m(\n\u001b[1;32m    256\u001b[0m         \u001b[38;5;124mf\u001b[39m\u001b[38;5;124m\"\u001b[39m\u001b[38;5;124mRK solver: \u001b[39m\u001b[38;5;132;01m{\u001b[39;00m\u001b[38;5;28mself\u001b[39m\u001b[38;5;241m.\u001b[39m_integrator\u001b[38;5;241m.\u001b[39merrors\u001b[38;5;241m.\u001b[39mmessage()\u001b[38;5;132;01m}\u001b[39;00m\u001b[38;5;124m\"\u001b[39m\n\u001b[1;32m    257\u001b[0m     )\n",
      "File \u001b[0;32m~/Venv/qudit/lib/python3.12/site-packages/netket/experimental/dynamics/_rk_solver_structures.py:364\u001b[0m, in \u001b[0;36mRungeKuttaIntegrator.step\u001b[0;34m(self, max_dt)\u001b[0m\n\u001b[1;32m    351\u001b[0m \u001b[38;5;28;01mdef\u001b[39;00m \u001b[38;5;21mstep\u001b[39m(\u001b[38;5;28mself\u001b[39m, max_dt\u001b[38;5;241m=\u001b[39m\u001b[38;5;28;01mNone\u001b[39;00m):\n\u001b[1;32m    352\u001b[0m \u001b[38;5;250m    \u001b[39m\u001b[38;5;124;03m\"\"\"\u001b[39;00m\n\u001b[1;32m    353\u001b[0m \u001b[38;5;124;03m    Perform one full Runge-Kutta step by min(self.dt, max_dt).\u001b[39;00m\n\u001b[1;32m    354\u001b[0m \n\u001b[0;32m   (...)\u001b[0m\n\u001b[1;32m    362\u001b[0m \u001b[38;5;124;03m        even after a rejected step.\u001b[39;00m\n\u001b[1;32m    363\u001b[0m \u001b[38;5;124;03m    \"\"\"\u001b[39;00m\n\u001b[0;32m--> 364\u001b[0m     \u001b[38;5;28mself\u001b[39m\u001b[38;5;241m.\u001b[39m_rkstate \u001b[38;5;241m=\u001b[39m \u001b[38;5;28;43mself\u001b[39;49m\u001b[38;5;241;43m.\u001b[39;49m\u001b[43m_do_step\u001b[49m\u001b[43m(\u001b[49m\u001b[38;5;28;43mself\u001b[39;49m\u001b[38;5;241;43m.\u001b[39;49m\u001b[43m_rkstate\u001b[49m\u001b[43m,\u001b[49m\u001b[43m \u001b[49m\u001b[43mmax_dt\u001b[49m\u001b[43m)\u001b[49m\n\u001b[1;32m    365\u001b[0m     \u001b[38;5;28;01mreturn\u001b[39;00m \u001b[38;5;28mself\u001b[39m\u001b[38;5;241m.\u001b[39m_rkstate\u001b[38;5;241m.\u001b[39maccepted\n",
      "File \u001b[0;32m~/Venv/qudit/lib/python3.12/site-packages/netket/experimental/dynamics/_rk_solver_structures.py:376\u001b[0m, in \u001b[0;36mRungeKuttaIntegrator._do_step_adaptive\u001b[0;34m(self, rk_state, max_dt)\u001b[0m\n\u001b[1;32m    375\u001b[0m \u001b[38;5;28;01mdef\u001b[39;00m \u001b[38;5;21m_do_step_adaptive\u001b[39m(\u001b[38;5;28mself\u001b[39m, rk_state, max_dt\u001b[38;5;241m=\u001b[39m\u001b[38;5;28;01mNone\u001b[39;00m):\n\u001b[0;32m--> 376\u001b[0m     \u001b[38;5;28;01mreturn\u001b[39;00m \u001b[43mgeneral_time_step_adaptive\u001b[49m\u001b[43m(\u001b[49m\n\u001b[1;32m    377\u001b[0m \u001b[43m        \u001b[49m\u001b[38;5;28;43mself\u001b[39;49m\u001b[38;5;241;43m.\u001b[39;49m\u001b[43mtableau\u001b[49m\u001b[38;5;241;43m.\u001b[39;49m\u001b[43mdata\u001b[49m\u001b[43m,\u001b[49m\n\u001b[1;32m    378\u001b[0m \u001b[43m        \u001b[49m\u001b[38;5;28;43mself\u001b[39;49m\u001b[38;5;241;43m.\u001b[39;49m\u001b[43mf\u001b[49m\u001b[43m,\u001b[49m\n\u001b[1;32m    379\u001b[0m \u001b[43m        \u001b[49m\u001b[43mrk_state\u001b[49m\u001b[43m,\u001b[49m\n\u001b[1;32m    380\u001b[0m \u001b[43m        \u001b[49m\u001b[43matol\u001b[49m\u001b[38;5;241;43m=\u001b[39;49m\u001b[38;5;28;43mself\u001b[39;49m\u001b[38;5;241;43m.\u001b[39;49m\u001b[43matol\u001b[49m\u001b[43m,\u001b[49m\n\u001b[1;32m    381\u001b[0m \u001b[43m        \u001b[49m\u001b[43mrtol\u001b[49m\u001b[38;5;241;43m=\u001b[39;49m\u001b[38;5;28;43mself\u001b[39;49m\u001b[38;5;241;43m.\u001b[39;49m\u001b[43mrtol\u001b[49m\u001b[43m,\u001b[49m\n\u001b[1;32m    382\u001b[0m \u001b[43m        \u001b[49m\u001b[43mnorm_fn\u001b[49m\u001b[38;5;241;43m=\u001b[39;49m\u001b[38;5;28;43mself\u001b[39;49m\u001b[38;5;241;43m.\u001b[39;49m\u001b[43mnorm\u001b[49m\u001b[43m,\u001b[49m\n\u001b[1;32m    383\u001b[0m \u001b[43m        \u001b[49m\u001b[43mmax_dt\u001b[49m\u001b[38;5;241;43m=\u001b[39;49m\u001b[43mmax_dt\u001b[49m\u001b[43m,\u001b[49m\n\u001b[1;32m    384\u001b[0m \u001b[43m        \u001b[49m\u001b[43mdt_limits\u001b[49m\u001b[38;5;241;43m=\u001b[39;49m\u001b[38;5;28;43mself\u001b[39;49m\u001b[38;5;241;43m.\u001b[39;49m\u001b[43mdt_limits\u001b[49m\u001b[43m,\u001b[49m\n\u001b[1;32m    385\u001b[0m \u001b[43m    \u001b[49m\u001b[43m)\u001b[49m\n",
      "File \u001b[0;32m~/Venv/qudit/lib/python3.12/site-packages/netket/experimental/dynamics/_rk_solver_structures.py:47\u001b[0m, in \u001b[0;36mmaybe_jax_jit.<locals>._maybe_jitted_fun\u001b[0;34m(*args, **kwargs)\u001b[0m\n\u001b[1;32m     45\u001b[0m \u001b[38;5;28;01mif\u001b[39;00m config\u001b[38;5;241m.\u001b[39mnetket_experimental_disable_ode_jit:\n\u001b[1;32m     46\u001b[0m     \u001b[38;5;28;01mwith\u001b[39;00m jax\u001b[38;5;241m.\u001b[39mspmd_mode(\u001b[38;5;124m\"\u001b[39m\u001b[38;5;124mallow_all\u001b[39m\u001b[38;5;124m\"\u001b[39m):\n\u001b[0;32m---> 47\u001b[0m         res \u001b[38;5;241m=\u001b[39m \u001b[43mfun\u001b[49m\u001b[43m(\u001b[49m\u001b[38;5;241;43m*\u001b[39;49m\u001b[43margs\u001b[49m\u001b[43m,\u001b[49m\u001b[43m \u001b[49m\u001b[38;5;241;43m*\u001b[39;49m\u001b[38;5;241;43m*\u001b[39;49m\u001b[43mkwargs\u001b[49m\u001b[43m)\u001b[49m\n\u001b[1;32m     48\u001b[0m     \u001b[38;5;28;01mreturn\u001b[39;00m res\n\u001b[1;32m     49\u001b[0m \u001b[38;5;28;01melse\u001b[39;00m:\n",
      "File \u001b[0;32m~/Venv/qudit/lib/python3.12/site-packages/netket/experimental/dynamics/_rk_solver_structures.py:206\u001b[0m, in \u001b[0;36mgeneral_time_step_adaptive\u001b[0;34m(tableau, f, rk_state, atol, rtol, norm_fn, max_dt, dt_limits)\u001b[0m\n\u001b[1;32m    203\u001b[0m \u001b[38;5;28;01melse\u001b[39;00m:\n\u001b[1;32m    204\u001b[0m     actual_dt \u001b[38;5;241m=\u001b[39m jnp\u001b[38;5;241m.\u001b[39mminimum(rk_state\u001b[38;5;241m.\u001b[39mdt, max_dt)\n\u001b[0;32m--> 206\u001b[0m y_tp1, y_err \u001b[38;5;241m=\u001b[39m \u001b[43mtableau\u001b[49m\u001b[38;5;241;43m.\u001b[39;49m\u001b[43mstep_with_error\u001b[49m\u001b[43m(\u001b[49m\u001b[43mf\u001b[49m\u001b[43m,\u001b[49m\u001b[43m \u001b[49m\u001b[43mrk_state\u001b[49m\u001b[38;5;241;43m.\u001b[39;49m\u001b[43mt\u001b[49m\u001b[38;5;241;43m.\u001b[39;49m\u001b[43mvalue\u001b[49m\u001b[43m,\u001b[49m\u001b[43m \u001b[49m\u001b[43mactual_dt\u001b[49m\u001b[43m,\u001b[49m\u001b[43m \u001b[49m\u001b[43mrk_state\u001b[49m\u001b[38;5;241;43m.\u001b[39;49m\u001b[43my\u001b[49m\u001b[43m)\u001b[49m\n\u001b[1;32m    208\u001b[0m scaled_err, norm_y \u001b[38;5;241m=\u001b[39m scaled_error(\n\u001b[1;32m    209\u001b[0m     y_tp1,\n\u001b[1;32m    210\u001b[0m     y_err,\n\u001b[0;32m   (...)\u001b[0m\n\u001b[1;32m    214\u001b[0m     norm_fn\u001b[38;5;241m=\u001b[39mnorm_fn,\n\u001b[1;32m    215\u001b[0m )\n\u001b[1;32m    217\u001b[0m \u001b[38;5;66;03m# Propose the next time step, but limited within [0.1 dt, 5 dt] and potential\u001b[39;00m\n\u001b[1;32m    218\u001b[0m \u001b[38;5;66;03m# global limits in dt_limits. Not used when actual_dt < rk_state.dt (i.e., the\u001b[39;00m\n\u001b[1;32m    219\u001b[0m \u001b[38;5;66;03m# integrator is doing a smaller step to hit a specific stop).\u001b[39;00m\n",
      "File \u001b[0;32m~/Venv/qudit/lib/python3.12/site-packages/netket/experimental/dynamics/_rk_tableau.py:168\u001b[0m, in \u001b[0;36mTableauRKExplicit.step_with_error\u001b[0;34m(self, f, t, dt, y_t)\u001b[0m\n\u001b[1;32m    165\u001b[0m \u001b[38;5;28;01mif\u001b[39;00m \u001b[38;5;129;01mnot\u001b[39;00m \u001b[38;5;28mself\u001b[39m\u001b[38;5;241m.\u001b[39mis_adaptive:\n\u001b[1;32m    166\u001b[0m     \u001b[38;5;28;01mraise\u001b[39;00m \u001b[38;5;167;01mRuntimeError\u001b[39;00m(\u001b[38;5;124mf\u001b[39m\u001b[38;5;124m\"\u001b[39m\u001b[38;5;132;01m{\u001b[39;00m\u001b[38;5;28mself\u001b[39m\u001b[38;5;132;01m}\u001b[39;00m\u001b[38;5;124m is not adaptive\u001b[39m\u001b[38;5;124m\"\u001b[39m)\n\u001b[0;32m--> 168\u001b[0m k \u001b[38;5;241m=\u001b[39m \u001b[38;5;28;43mself\u001b[39;49m\u001b[38;5;241;43m.\u001b[39;49m\u001b[43m_compute_slopes\u001b[49m\u001b[43m(\u001b[49m\u001b[43mf\u001b[49m\u001b[43m,\u001b[49m\u001b[43m \u001b[49m\u001b[43mt\u001b[49m\u001b[43m,\u001b[49m\u001b[43m \u001b[49m\u001b[43mdt\u001b[49m\u001b[43m,\u001b[49m\u001b[43m \u001b[49m\u001b[43my_t\u001b[49m\u001b[43m)\u001b[49m\n\u001b[1;32m    170\u001b[0m y_tp1 \u001b[38;5;241m=\u001b[39m jax\u001b[38;5;241m.\u001b[39mtree_util\u001b[38;5;241m.\u001b[39mtree_map(\n\u001b[1;32m    171\u001b[0m     \u001b[38;5;28;01mlambda\u001b[39;00m y_t, k: y_t\n\u001b[1;32m    172\u001b[0m     \u001b[38;5;241m+\u001b[39m jnp\u001b[38;5;241m.\u001b[39masarray(dt, dtype\u001b[38;5;241m=\u001b[39my_t\u001b[38;5;241m.\u001b[39mdtype)\n\u001b[0;32m   (...)\u001b[0m\n\u001b[1;32m    175\u001b[0m     k,\n\u001b[1;32m    176\u001b[0m )\n\u001b[1;32m    177\u001b[0m db \u001b[38;5;241m=\u001b[39m \u001b[38;5;28mself\u001b[39m\u001b[38;5;241m.\u001b[39mb[\u001b[38;5;241m0\u001b[39m] \u001b[38;5;241m-\u001b[39m \u001b[38;5;28mself\u001b[39m\u001b[38;5;241m.\u001b[39mb[\u001b[38;5;241m1\u001b[39m]\n",
      "File \u001b[0;32m~/Venv/qudit/lib/python3.12/site-packages/netket/experimental/dynamics/_rk_tableau.py:128\u001b[0m, in \u001b[0;36mTableauRKExplicit._compute_slopes\u001b[0;34m(self, f, t, dt, y_t)\u001b[0m\n\u001b[1;32m    117\u001b[0m     dy_l \u001b[38;5;241m=\u001b[39m jax\u001b[38;5;241m.\u001b[39mtree_util\u001b[38;5;241m.\u001b[39mtree_map(\n\u001b[1;32m    118\u001b[0m         \u001b[38;5;28;01mlambda\u001b[39;00m k: jnp\u001b[38;5;241m.\u001b[39mtensordot(\n\u001b[1;32m    119\u001b[0m             jnp\u001b[38;5;241m.\u001b[39masarray(\u001b[38;5;28mself\u001b[39m\u001b[38;5;241m.\u001b[39ma[l], dtype\u001b[38;5;241m=\u001b[39mk\u001b[38;5;241m.\u001b[39mdtype), k, axes\u001b[38;5;241m=\u001b[39m\u001b[38;5;241m1\u001b[39m\n\u001b[1;32m    120\u001b[0m         ),\n\u001b[1;32m    121\u001b[0m         k,\n\u001b[1;32m    122\u001b[0m     )\n\u001b[1;32m    123\u001b[0m     y_l \u001b[38;5;241m=\u001b[39m jax\u001b[38;5;241m.\u001b[39mtree_util\u001b[38;5;241m.\u001b[39mtree_map(\n\u001b[1;32m    124\u001b[0m         \u001b[38;5;28;01mlambda\u001b[39;00m y_t, dy_l: jnp\u001b[38;5;241m.\u001b[39masarray(y_t \u001b[38;5;241m+\u001b[39m dt \u001b[38;5;241m*\u001b[39m dy_l, dtype\u001b[38;5;241m=\u001b[39mdy_l\u001b[38;5;241m.\u001b[39mdtype),\n\u001b[1;32m    125\u001b[0m         y_t,\n\u001b[1;32m    126\u001b[0m         dy_l,\n\u001b[1;32m    127\u001b[0m     )\n\u001b[0;32m--> 128\u001b[0m     k_l \u001b[38;5;241m=\u001b[39m \u001b[43mf\u001b[49m\u001b[43m(\u001b[49m\u001b[43mtimes\u001b[49m\u001b[43m[\u001b[49m\u001b[43ml\u001b[49m\u001b[43m]\u001b[49m\u001b[43m,\u001b[49m\u001b[43m \u001b[49m\u001b[43my_l\u001b[49m\u001b[43m,\u001b[49m\u001b[43m \u001b[49m\u001b[43mstage\u001b[49m\u001b[38;5;241;43m=\u001b[39;49m\u001b[43ml\u001b[49m\u001b[43m)\u001b[49m\n\u001b[1;32m    129\u001b[0m     k \u001b[38;5;241m=\u001b[39m jax\u001b[38;5;241m.\u001b[39mtree_util\u001b[38;5;241m.\u001b[39mtree_map(\u001b[38;5;28;01mlambda\u001b[39;00m k, k_l: k\u001b[38;5;241m.\u001b[39mat[l]\u001b[38;5;241m.\u001b[39mset(k_l), k, k_l)\n\u001b[1;32m    131\u001b[0m \u001b[38;5;28;01mreturn\u001b[39;00m k\n",
      "File \u001b[0;32m~/Venv/qudit/lib/python3.12/site-packages/netket/experimental/driver/tdvp_common.py:488\u001b[0m, in \u001b[0;36modefun_host_callback\u001b[0;34m(state, driver, *args, **kwargs)\u001b[0m\n\u001b[1;32m    483\u001b[0m \u001b[38;5;250m\u001b[39m\u001b[38;5;124;03m\"\"\"\u001b[39;00m\n\u001b[1;32m    484\u001b[0m \u001b[38;5;124;03mCalls odefun through a host callback in order to make the rest of the\u001b[39;00m\n\u001b[1;32m    485\u001b[0m \u001b[38;5;124;03mODE solver jit-able.\u001b[39;00m\n\u001b[1;32m    486\u001b[0m \u001b[38;5;124;03m\"\"\"\u001b[39;00m\n\u001b[1;32m    487\u001b[0m \u001b[38;5;28;01mif\u001b[39;00m config\u001b[38;5;241m.\u001b[39mnetket_experimental_disable_ode_jit:\n\u001b[0;32m--> 488\u001b[0m     \u001b[38;5;28;01mreturn\u001b[39;00m \u001b[43modefun\u001b[49m\u001b[43m(\u001b[49m\u001b[43mstate\u001b[49m\u001b[43m,\u001b[49m\u001b[43m \u001b[49m\u001b[43mdriver\u001b[49m\u001b[43m,\u001b[49m\u001b[43m \u001b[49m\u001b[38;5;241;43m*\u001b[39;49m\u001b[43margs\u001b[49m\u001b[43m,\u001b[49m\u001b[43m \u001b[49m\u001b[38;5;241;43m*\u001b[39;49m\u001b[38;5;241;43m*\u001b[39;49m\u001b[43mkwargs\u001b[49m\u001b[43m)\u001b[49m\n\u001b[1;32m    490\u001b[0m result_shape \u001b[38;5;241m=\u001b[39m jax\u001b[38;5;241m.\u001b[39mtree_util\u001b[38;5;241m.\u001b[39mtree_map(\n\u001b[1;32m    491\u001b[0m     \u001b[38;5;28;01mlambda\u001b[39;00m x: jax\u001b[38;5;241m.\u001b[39mShapeDtypeStruct(x\u001b[38;5;241m.\u001b[39mshape, x\u001b[38;5;241m.\u001b[39mdtype),\n\u001b[1;32m    492\u001b[0m     state\u001b[38;5;241m.\u001b[39mparameters,\n\u001b[1;32m    493\u001b[0m )\n\u001b[1;32m    495\u001b[0m \u001b[38;5;28;01mreturn\u001b[39;00m jax\u001b[38;5;241m.\u001b[39mpure_callback(\n\u001b[1;32m    496\u001b[0m     \u001b[38;5;28;01mlambda\u001b[39;00m args_and_kw: odefun(state, driver, \u001b[38;5;241m*\u001b[39margs_and_kw[\u001b[38;5;241m0\u001b[39m], \u001b[38;5;241m*\u001b[39m\u001b[38;5;241m*\u001b[39margs_and_kw[\u001b[38;5;241m1\u001b[39m]),\n\u001b[1;32m    497\u001b[0m     result_shape,\n\u001b[1;32m    498\u001b[0m     \u001b[38;5;66;03m# pack args and kwargs together, since host_callback passes a single argument:\u001b[39;00m\n\u001b[1;32m    499\u001b[0m     (args, kwargs),\n\u001b[1;32m    500\u001b[0m )\n",
      "    \u001b[0;31m[... skipping hidden 1 frame]\u001b[0m\n",
      "File \u001b[0;32m~/Venv/qudit/lib/python3.12/site-packages/netket/experimental/driver/tdvp_common.py:479\u001b[0m, in \u001b[0;36modefun\u001b[0;34m(state, driver, t, w, **kwargs)\u001b[0m\n\u001b[1;32m    476\u001b[0m \u001b[38;5;129m@dispatch\u001b[39m\n\u001b[1;32m    477\u001b[0m \u001b[38;5;28;01mdef\u001b[39;00m \u001b[38;5;21modefun\u001b[39m(state, driver, t, w, \u001b[38;5;241m*\u001b[39m\u001b[38;5;241m*\u001b[39mkwargs):\n\u001b[1;32m    478\u001b[0m     \u001b[38;5;66;03m# pylint: disable=unused-argument\u001b[39;00m\n\u001b[0;32m--> 479\u001b[0m     \u001b[38;5;28;01mraise\u001b[39;00m \u001b[38;5;167;01mNotImplementedError\u001b[39;00m(\u001b[38;5;124mf\u001b[39m\u001b[38;5;124m\"\u001b[39m\u001b[38;5;124modefun not implemented for \u001b[39m\u001b[38;5;132;01m{\u001b[39;00m\u001b[38;5;28mtype\u001b[39m(state)\u001b[38;5;132;01m}\u001b[39;00m\u001b[38;5;124m\"\u001b[39m)\n",
      "\u001b[0;31mNotImplementedError\u001b[0m: odefun not implemented for <class 'netket.vqs.base.VariationalState'>"
     ]
    }
   ],
   "source": [
    "driver.run(\n",
    "    T=0.3,\n",
    "    out=\"example_dynamics\",\n",
    "    tstops=np.linspace(0.0, 0.3, 3, endpoint=True),\n",
    ")"
   ]
  },
  {
   "cell_type": "code",
   "execution_count": null,
   "id": "0fcc807d-42b5-49ad-9092-d6de666bc683",
   "metadata": {},
   "outputs": [],
   "source": []
  }
 ],
 "metadata": {
  "kernelspec": {
   "display_name": "qudit",
   "language": "python",
   "name": "qudit"
  },
  "language_info": {
   "codemirror_mode": {
    "name": "ipython",
    "version": 3
   },
   "file_extension": ".py",
   "mimetype": "text/x-python",
   "name": "python",
   "nbconvert_exporter": "python",
   "pygments_lexer": "ipython3",
   "version": "3.12.4"
  }
 },
 "nbformat": 4,
 "nbformat_minor": 5
}
