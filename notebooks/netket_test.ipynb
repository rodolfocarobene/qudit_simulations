{
 "cells": [
  {
   "cell_type": "code",
   "execution_count": 86,
   "id": "997b510c-f451-4cdf-808b-bdc05fab25f1",
   "metadata": {},
   "outputs": [],
   "source": [
    "import netket as nk\n",
    "import numpy as np\n",
    "import matplotlib.pyplot as plt\n",
    "import json\n",
    "\n",
    "from netket import experimental as nkx\n",
    "import netket.nn as nknn\n",
    "import netket.optimizer as nkopt\n",
    "import jax\n",
    "import jax.numpy as jnp"
   ]
  },
  {
   "cell_type": "code",
   "execution_count": 130,
   "id": "e8ee29e8-c2e1-4bf2-ad0d-bb6390cafc45",
   "metadata": {},
   "outputs": [
    {
     "data": {
      "text/plain": [
       "Lattice(\n",
       "    n_nodes=8,\n",
       "    extent=[2 4],\n",
       "    basis_vectors=\n",
       "        [[1. 0.]\n",
       "         [0. 1.]],\n",
       "    site_offsets=\n",
       "        [[0. 0.]],\n",
       ")"
      ]
     },
     "execution_count": 130,
     "metadata": {},
     "output_type": "execute_result"
    }
   ],
   "source": [
    "# create graph\n",
    "\n",
    "x = 2  # take a 2x4 lattice\n",
    "y = 4\n",
    "\n",
    "t = 1  # tunneling/hopping\n",
    "U = 0.01  # coulomb\n",
    "\n",
    "# create the graph our fermions can hop on\n",
    "g = nk.graph.Grid(extent=[x, y], pbc=False)\n",
    "n_sites = g.n_nodes\n",
    "\n",
    "g"
   ]
  },
  {
   "cell_type": "code",
   "execution_count": 131,
   "id": "f3a0fc4e-2579-4dab-88fb-a5008bbd69db",
   "metadata": {
    "scrolled": true
   },
   "outputs": [],
   "source": [
    "# create an operator representing fermi hubbard interactions\n",
    "# -t (i^ j + h.c.) + U (i^ i j^ j)\n",
    "# we will create a helper function to abbreviate the creation, destruction and number operators\n",
    "# each operator has a site and spin projection (sz) in order to find the right position in the hilbert space samples\n",
    "def c(site):\n",
    "    return nkx.operator.fermion.destroy(hi, site)\n",
    "    \n",
    "def cdag(site):\n",
    "    return nkx.operator.fermion.create(hi, site)\n",
    "\n",
    "def nc(site):\n",
    "    return nkx.operator.fermion.number(hi, site)"
   ]
  },
  {
   "cell_type": "code",
   "execution_count": 154,
   "id": "26b664bb-8123-4b40-9278-51618f662391",
   "metadata": {},
   "outputs": [],
   "source": [
    "ham = 0.0\n",
    "for u, v in g.edges():\n",
    "    ham += -t * (cdag(u) * c(v) + cdag(v) * c(u))\n",
    "\n",
    "    ham += U * nc(u) * nc(v)"
   ]
  },
  {
   "cell_type": "code",
   "execution_count": 155,
   "id": "620b84ff-5953-47a7-8c9b-9d32363de60f",
   "metadata": {
    "scrolled": true
   },
   "outputs": [
    {
     "name": "stdout",
     "output_type": "stream",
     "text": [
      "Hamiltonian = -1.0 [0^ 1] +\n",
      "-1.0 [1^ 0] +\n",
      "0.01 [0^ 0 1^ 1] +\n",
      "-1.0 [1^ 2] +\n",
      "-1.0 [2^ 1] +\n",
      "0.01 [1^ 1 2^ 2] +\n",
      "-1.0 [0^ 4] +\n",
      "-1.0 [4^ 0] +\n",
      "0.01 [0^ 0 4^ 4] +\n",
      "-1.0 [1^ 5] +\n",
      "-1.0 [5^ 1] +\n",
      "0.01 [1^ 1 5^ 5] +\n",
      "-1.0 [3^ 7] +\n",
      "-1.0 [7^ 3] +\n",
      "0.01 [3^ 3 7^ 7] +\n",
      "-1.0 [2^ 3] +\n",
      "-1.0 [3^ 2] +\n",
      "0.01 [2^ 2 3^ 3] +\n",
      "-1.0 [6^ 7] +\n",
      "-1.0 [7^ 6] +\n",
      "0.01 [6^ 6 7^ 7] +\n",
      "-1.0 [4^ 5] +\n",
      "-1.0 [5^ 4] +\n",
      "0.01 [4^ 4 5^ 5] +\n",
      "-1.0 [2^ 6] +\n",
      "-1.0 [6^ 2] +\n",
      "0.01 [2^ 2 6^ 6] +\n",
      "-1.0 [5^ 6] +\n",
      "-1.0 [6^ 5] +\n",
      "0.01 [5^ 5 6^ 6]\n"
     ]
    }
   ],
   "source": [
    "print(\"Hamiltonian =\", ham.operator_string())"
   ]
  },
  {
   "cell_type": "code",
   "execution_count": 156,
   "id": "36be3f7f-3010-4854-9b43-3db0241806b9",
   "metadata": {},
   "outputs": [
    {
     "data": {
      "text/plain": [
       "SpinOrbitalFermions(n_orbitals=8, n_fermions=8)"
      ]
     },
     "execution_count": 156,
     "metadata": {},
     "output_type": "execute_result"
    }
   ],
   "source": [
    "hi = nkx.hilbert.SpinOrbitalFermions(n_sites, n_fermions=8)\n",
    "hi"
   ]
  },
  {
   "cell_type": "code",
   "execution_count": 157,
   "id": "88a860cf-6f08-4fbf-b621-103bc82c3031",
   "metadata": {},
   "outputs": [
    {
     "data": {
      "text/plain": [
       "(array([[1., 1., 1., 1., 1., 1., 1., 1.]]), array([0.1]))"
      ]
     },
     "execution_count": 157,
     "metadata": {},
     "output_type": "execute_result"
    }
   ],
   "source": [
    "occupation = np.zeros(n_sites)\n",
    "occupation[0] = occupation[1] = 1\n",
    "occupation[2] = occupation[3] = 1\n",
    "occupation[4] = occupation[5] = 1\n",
    "occupation[6] = occupation[7] = 1\n",
    "#occupation /= np.linalg.norm(occupation)\n",
    "res = ham.get_conn(occupation)\n",
    "res"
   ]
  },
  {
   "cell_type": "code",
   "execution_count": 158,
   "id": "4730dfb2-f554-4c20-b4d3-89fa88f5e8c9",
   "metadata": {},
   "outputs": [],
   "source": [
    "Hdense = ham.to_dense()\n",
    "i = hi.states_to_numbers(occupation)\n",
    "v = np.zeros(hi.n_states)\n",
    "v[i] = 1\n",
    "\n",
    "v /= np.linalg.norm(v)"
   ]
  },
  {
   "cell_type": "code",
   "execution_count": 159,
   "id": "47c22eaf-ee83-45ca-92d7-2b4fb5d0ee9e",
   "metadata": {},
   "outputs": [
    {
     "data": {
      "text/plain": [
       "0.09999999999999999"
      ]
     },
     "execution_count": 159,
     "metadata": {},
     "output_type": "execute_result"
    }
   ],
   "source": [
    "E = (v.conj().T).dot(Hdense.dot(v))\n",
    "E"
   ]
  },
  {
   "cell_type": "code",
   "execution_count": null,
   "id": "5c4b5c07-da37-4d6a-8bfb-6a131c15e190",
   "metadata": {},
   "outputs": [],
   "source": []
  }
 ],
 "metadata": {
  "kernelspec": {
   "display_name": "qudit",
   "language": "python",
   "name": "qudit"
  },
  "language_info": {
   "codemirror_mode": {
    "name": "ipython",
    "version": 3
   },
   "file_extension": ".py",
   "mimetype": "text/x-python",
   "name": "python",
   "nbconvert_exporter": "python",
   "pygments_lexer": "ipython3",
   "version": "3.12.4"
  }
 },
 "nbformat": 4,
 "nbformat_minor": 5
}
