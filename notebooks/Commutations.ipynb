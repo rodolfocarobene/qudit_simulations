{
  "cells": [
  {
   "cell_type": "code",
   "execution_count": 2,
   "id": "7bacc455-b338-412b-8553-28a91b8c250f",
   "metadata": {},
   "outputs": [],
   "source": [
    "from primitives.primitives import *"
   ]
  },
  {
   "cell_type": "markdown",
   "id": "ca8fabaf-e895-48ce-aa4d-af4c44942a30",
   "metadata": {},
   "source": [
    "# Check commutations"
   ]
  },
  {
   "cell_type": "code",
   "execution_count": 21,
   "id": "ba33052a-2943-4446-a321-9fca6d1f3b40",
   "metadata": {},
   "outputs": [],
   "source": [
    "def commute(a, b):\n",
    "    c = a@b\n",
    "    d = b@a\n",
    "    return (np.array((c-d)) == np.zeros(c.shape)).all()"
   ]
  },
  {
   "cell_type": "code",
   "execution_count": 28,
   "id": "735bc0d4-4764-4476-a138-e8e415bbd1e3",
   "metadata": {},
   "outputs": [
    {
     "name": "stdout",
     "output_type": "stream",
     "text": [
      "True\n",
      "True\n",
      "True\n",
      "True\n",
      "True\n",
      "True\n"
     ]
    }
   ],
   "source": [
    "# commutations between G and horizontal A operators\n",
    "\n",
    "# r-x -> r\n",
    "a = sy_gamma_1 * sy_gamma_3\n",
    "b = sy_gamma_2\n",
    "print(commute(a, b))\n",
    "\n",
    "# r -> r+x\n",
    "a = TensorProduct(sy_gamma_1 * sy_gamma_3, sy_gamma_2 * sy_gamma_3)\n",
    "b = TensorProduct(sy_gamma_1, sy_gamma_2)\n",
    "print(commute(a, b))\n",
    "\n",
    "# r+x -> r+2x\n",
    "a = sy_gamma_2 * sy_gamma_3\n",
    "b = sy_gamma_1\n",
    "print(commute(a, b))\n",
    "\n",
    "# r-x+y -> r+y\n",
    "a = sy_gamma_1 * sy_gamma_4\n",
    "b = sy_gamma_2\n",
    "print(commute(a, b))\n",
    "\n",
    "# r+y -> r+x+y\n",
    "a = TensorProduct(sy_gamma_1 * sy_gamma_4, sy_gamma_4 * sy_gamma_2)\n",
    "b = TensorProduct(sy_gamma_1, sy_gamma_2)\n",
    "print(commute(a, b))\n",
    "\n",
    "# r+x+y -> r+2x+y\n",
    "a = sy_gamma_4 * sy_gamma_2\n",
    "b = sy_gamma_1\n",
    "print(commute(a, b))"
   ]
  },
  {
   "cell_type": "code",
   "execution_count": 30,
   "id": "da301576-a841-4cfa-836e-e5a7232f1dfc",
   "metadata": {},
   "outputs": [
    {
     "name": "stdout",
     "output_type": "stream",
     "text": [
      "True\n",
      "True\n",
      "True\n",
      "True\n",
      "True\n",
      "True\n"
     ]
    }
   ],
   "source": [
    "# commutations between G and vertical A operators\n",
    "\n",
    "# r-y -> r\n",
    "a = sy_gamma_1 * sy_gamma_3\n",
    "b = sy_gamma_4\n",
    "print(commute(a, b))\n",
    "\n",
    "# r -> r+y\n",
    "a = TensorProduct(sy_gamma_1 * sy_gamma_3, sy_gamma_1 * sy_gamma_4)\n",
    "b = TensorProduct(sy_gamma_3, sy_gamma_4)\n",
    "print(commute(a, b))\n",
    "\n",
    "# r+y -> r+2y\n",
    "a = sy_gamma_1 * sy_gamma_4\n",
    "b = sy_gamma_3\n",
    "print(commute(a, b))\n",
    "\n",
    "# r-y+x -> r+x\n",
    "a = sy_gamma_2 * sy_gamma_3\n",
    "b = sy_gamma_4\n",
    "print(commute(a, b))\n",
    "\n",
    "# r+x -> r+y+x\n",
    "a = TensorProduct(sy_gamma_2 * sy_gamma_3, sy_gamma_4 * sy_gamma_2)\n",
    "b = TensorProduct(sy_gamma_3, sy_gamma_4)\n",
    "print(commute(a, b))\n",
    "\n",
    "# r+y +x-> r+2y+x\n",
    "a = sy_gamma_4 * sy_gamma_2\n",
    "b = sy_gamma_3\n",
    "print(commute(a, b))"
   ]
  },
  {
   "cell_type": "code",
   "execution_count": 33,
   "id": "96440338-aca5-4499-ade8-5416778c1912",
   "metadata": {},
   "outputs": [
    {
     "name": "stdout",
     "output_type": "stream",
     "text": [
      "True\n",
      "True\n",
      "True\n",
      "True\n",
      "True\n",
      "True\n"
     ]
    }
   ],
   "source": [
    "# commutations between G and horizontal hopping operators\n",
    "\n",
    "# r-x -> r\n",
    "a = sy_gamma_1 * sy_gamma_3\n",
    "b = 1j * sy_gamma_2 * (- sy_gamma_5)\n",
    "print(commute(a, b))\n",
    "\n",
    "# r -> r+x\n",
    "a = TensorProduct(sy_gamma_1 * sy_gamma_3, sy_gamma_2 * sy_gamma_3)\n",
    "b = 1j* TensorProduct(sy_gamma_1, sy_gamma_2) * (TensorProduct(sy_gamma_5, sy_id) - TensorProduct(sy_id, sy_gamma_5))\n",
    "print(commute(a, b))\n",
    "\n",
    "# r+x -> r+2x\n",
    "a = sy_gamma_2 * sy_gamma_3\n",
    "b = 1j * sy_gamma_1 * sy_gamma_5\n",
    "print(commute(a, b))\n",
    "\n",
    "# r-x+y -> r+y\n",
    "a = sy_gamma_1 * sy_gamma_4\n",
    "b = 1j * sy_gamma_2 * (- sy_gamma_5)\n",
    "print(commute(a, b))\n",
    "\n",
    "# r+y -> r+x+y\n",
    "a = TensorProduct(sy_gamma_1 * sy_gamma_4, sy_gamma_4 * sy_gamma_2)\n",
    "b = 1j* TensorProduct(sy_gamma_1, sy_gamma_2) * (TensorProduct(sy_gamma_5, sy_id) - TensorProduct(sy_id, sy_gamma_5))\n",
    "print(commute(a, b))\n",
    "\n",
    "# r+x+y -> r+2x+y\n",
    "a = sy_gamma_4 * sy_gamma_2\n",
    "b = 1j * sy_gamma_1 * sy_gamma_5\n",
    "print(commute(a, b))"
   ]
  },
  {
   "cell_type": "code",
   "execution_count": 34,
   "id": "20abd0d8-e0ed-4eda-951a-3f3d114fd677",
   "metadata": {},
   "outputs": [
    {
     "name": "stdout",
     "output_type": "stream",
     "text": [
      "True\n",
      "True\n",
      "True\n",
      "True\n",
      "True\n",
      "True\n"
     ]
    }
   ],
   "source": [
    "# commutations between G and vertical hop operators\n",
    "\n",
    "# r-y -> r\n",
    "a = sy_gamma_1 * sy_gamma_3\n",
    "b = 1j * sy_gamma_4 * (- sy_gamma_5)\n",
    "print(commute(a, b))\n",
    "\n",
    "# r -> r+y\n",
    "a = TensorProduct(sy_gamma_1 * sy_gamma_3, sy_gamma_1 * sy_gamma_4)\n",
    "b = 1j* TensorProduct(sy_gamma_3, sy_gamma_4) * (TensorProduct(sy_gamma_5, sy_id) - TensorProduct(sy_id, sy_gamma_5))\n",
    "print(commute(a, b))\n",
    "\n",
    "# r+y -> r+2y\n",
    "a = sy_gamma_1 * sy_gamma_4\n",
    "b = 1j * sy_gamma_3 * sy_gamma_5\n",
    "print(commute(a, b))\n",
    "\n",
    "# r-y+x -> r+x\n",
    "a = sy_gamma_2 * sy_gamma_3\n",
    "b = 1j * sy_gamma_4 * (- sy_gamma_5)\n",
    "print(commute(a, b))\n",
    "\n",
    "# r+x -> r+y+x\n",
    "a = TensorProduct(sy_gamma_2 * sy_gamma_3, sy_gamma_4 * sy_gamma_2)\n",
    "b = 1j* TensorProduct(sy_gamma_3, sy_gamma_4) * (TensorProduct(sy_gamma_5, sy_id) - TensorProduct(sy_id, sy_gamma_5))\n",
    "print(commute(a, b))\n",
    "\n",
    "# r+y +x-> r+2y+x\n",
    "a = sy_gamma_4 * sy_gamma_2\n",
    "b = 1j * sy_gamma_3 * sy_gamma_5\n",
    "print(commute(a, b))"
   ]
  },
  {
   "cell_type": "code",
   "execution_count": 36,
   "id": "4eff67b9-1f8f-4cb5-99f2-4e7aa9ba5f20",
   "metadata": {},
   "outputs": [
    {
     "name": "stdout",
     "output_type": "stream",
     "text": [
      "True\n",
      "True\n",
      "True\n",
      "True\n"
     ]
    }
   ],
   "source": [
    "# commutations between G and number operator\n",
    "\n",
    "n = 0.5 * (sy_id - sy_gamma_5)\n",
    "\n",
    "a = sy_gamma_1 * sy_gamma_3\n",
    "print(commute(a, n))\n",
    "\n",
    "a = sy_gamma_1 * sy_gamma_4\n",
    "print(commute(a, n))\n",
    "\n",
    "a = sy_gamma_2 * sy_gamma_3\n",
    "print(commute(a, n))\n",
    "\n",
    "a = sy_gamma_4 * sy_gamma_2\n",
    "print(commute(a, n))"
   ]
  },
  {
   "cell_type": "code",
   "execution_count": 37,
   "id": "6fe38dc8-76a3-4744-8137-dd93908afed8",
   "metadata": {},
   "outputs": [
    {
     "name": "stdout",
     "output_type": "stream",
     "text": [
      "True\n",
      "True\n",
      "True\n",
      "True\n"
     ]
    }
   ],
   "source": [
    "# commutations between G and number operator\n",
    "\n",
    "n = 0.5 * (sy_id - sy_gamma_5)\n",
    "n = TensorProduct(n, n)\n",
    "\n",
    "a = TensorProduct(sy_gamma_1 * sy_gamma_3, sy_gamma_2 * sy_gamma_3)\n",
    "print(commute(a, n))\n",
    "\n",
    "a = TensorProduct(sy_gamma_2 * sy_gamma_3, sy_gamma_4 * sy_gamma_2)\n",
    "print(commute(a, n))\n",
    "\n",
    "a = TensorProduct(sy_gamma_1 * sy_gamma_3, sy_gamma_1 * sy_gamma_4)\n",
    "print(commute(a, n))\n",
    "\n",
    "a = TensorProduct(sy_gamma_1 * sy_gamma_4, sy_gamma_4 * sy_gamma_2)\n",
    "print(commute(a, n))"
   ]
  },
  {
   "cell_type": "code",
   "execution_count": null,
   "id": "0f11d7f9-7e67-480f-98cf-156460d06a32",
   "metadata": {},
   "outputs": [],
   "source": []
  }
 ],
 "metadata": {
  "kernelspec": {
   "display_name": "qudit",
   "language": "python",
   "name": "qudit"
  },
  "language_info": {
   "codemirror_mode": {
    "name": "ipython",
    "version": 3
   },
   "file_extension": ".py",
   "mimetype": "text/x-python",
   "name": "python",
   "nbconvert_exporter": "python",
   "pygments_lexer": "ipython3",
   "version": "3.12.4"
  }
 },
 "nbformat": 4,
 "nbformat_minor": 5
}
